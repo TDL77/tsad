{
 "cells": [
  {
   "cell_type": "markdown",
   "metadata": {},
   "source": [
    "# Evaluation of AD algorithms perfomance"
   ]
  },
  {
   "cell_type": "code",
   "execution_count": 5,
   "metadata": {},
   "outputs": [],
   "source": [
    "import pandas as pd\n",
    "import numpy as np\n",
    "import sys\n",
    "\n",
    "try:\n",
    "    import tsad\n",
    "except:\n",
    "    import sys\n",
    "    sys.path.insert(1, '../')\n",
    "    from tsad.evaluating.evaluating import evaluating\n",
    "\n",
    "import warnings\n",
    "warnings.filterwarnings('ignore')"
   ]
  },
  {
   "cell_type": "markdown",
   "metadata": {},
   "source": [
    "## Simple example"
   ]
  },
  {
   "cell_type": "markdown",
   "metadata": {},
   "source": [
    "Init true and prediction labelled data"
   ]
  },
  {
   "cell_type": "code",
   "execution_count": 6,
   "metadata": {},
   "outputs": [
    {
     "data": {
      "text/html": [
       "<div>\n",
       "<style scoped>\n",
       "    .dataframe tbody tr th:only-of-type {\n",
       "        vertical-align: middle;\n",
       "    }\n",
       "\n",
       "    .dataframe tbody tr th {\n",
       "        vertical-align: top;\n",
       "    }\n",
       "\n",
       "    .dataframe thead th {\n",
       "        text-align: right;\n",
       "    }\n",
       "</style>\n",
       "<table border=\"1\" class=\"dataframe\">\n",
       "  <thead>\n",
       "    <tr style=\"text-align: right;\">\n",
       "      <th></th>\n",
       "      <th>index</th>\n",
       "      <th>0</th>\n",
       "      <th>1</th>\n",
       "    </tr>\n",
       "  </thead>\n",
       "  <tbody>\n",
       "    <tr>\n",
       "      <th>0</th>\n",
       "      <td>2020-01-01</td>\n",
       "      <td>0</td>\n",
       "      <td>0</td>\n",
       "    </tr>\n",
       "    <tr>\n",
       "      <th>1</th>\n",
       "      <td>2020-01-02</td>\n",
       "      <td>0</td>\n",
       "      <td>0</td>\n",
       "    </tr>\n",
       "    <tr>\n",
       "      <th>2</th>\n",
       "      <td>2020-01-03</td>\n",
       "      <td>0</td>\n",
       "      <td>0</td>\n",
       "    </tr>\n",
       "    <tr>\n",
       "      <th>3</th>\n",
       "      <td>2020-01-04</td>\n",
       "      <td>0</td>\n",
       "      <td>0</td>\n",
       "    </tr>\n",
       "    <tr>\n",
       "      <th>4</th>\n",
       "      <td>2020-01-05</td>\n",
       "      <td>0</td>\n",
       "      <td>1</td>\n",
       "    </tr>\n",
       "    <tr>\n",
       "      <th>5</th>\n",
       "      <td>2020-01-06</td>\n",
       "      <td>0</td>\n",
       "      <td>0</td>\n",
       "    </tr>\n",
       "    <tr>\n",
       "      <th>6</th>\n",
       "      <td>2020-01-07</td>\n",
       "      <td>1</td>\n",
       "      <td>0</td>\n",
       "    </tr>\n",
       "    <tr>\n",
       "      <th>7</th>\n",
       "      <td>2020-01-08</td>\n",
       "      <td>0</td>\n",
       "      <td>0</td>\n",
       "    </tr>\n",
       "    <tr>\n",
       "      <th>8</th>\n",
       "      <td>2020-01-09</td>\n",
       "      <td>0</td>\n",
       "      <td>0</td>\n",
       "    </tr>\n",
       "    <tr>\n",
       "      <th>9</th>\n",
       "      <td>2020-01-10</td>\n",
       "      <td>0</td>\n",
       "      <td>0</td>\n",
       "    </tr>\n",
       "    <tr>\n",
       "      <th>10</th>\n",
       "      <td>2020-01-11</td>\n",
       "      <td>0</td>\n",
       "      <td>1</td>\n",
       "    </tr>\n",
       "    <tr>\n",
       "      <th>11</th>\n",
       "      <td>2020-01-12</td>\n",
       "      <td>0</td>\n",
       "      <td>0</td>\n",
       "    </tr>\n",
       "    <tr>\n",
       "      <th>12</th>\n",
       "      <td>2020-01-13</td>\n",
       "      <td>0</td>\n",
       "      <td>0</td>\n",
       "    </tr>\n",
       "    <tr>\n",
       "      <th>13</th>\n",
       "      <td>2020-01-14</td>\n",
       "      <td>0</td>\n",
       "      <td>0</td>\n",
       "    </tr>\n",
       "    <tr>\n",
       "      <th>14</th>\n",
       "      <td>2020-01-15</td>\n",
       "      <td>1</td>\n",
       "      <td>0</td>\n",
       "    </tr>\n",
       "    <tr>\n",
       "      <th>15</th>\n",
       "      <td>2020-01-16</td>\n",
       "      <td>0</td>\n",
       "      <td>0</td>\n",
       "    </tr>\n",
       "    <tr>\n",
       "      <th>16</th>\n",
       "      <td>2020-01-17</td>\n",
       "      <td>0</td>\n",
       "      <td>0</td>\n",
       "    </tr>\n",
       "    <tr>\n",
       "      <th>17</th>\n",
       "      <td>2020-01-18</td>\n",
       "      <td>0</td>\n",
       "      <td>0</td>\n",
       "    </tr>\n",
       "    <tr>\n",
       "      <th>18</th>\n",
       "      <td>2020-01-19</td>\n",
       "      <td>0</td>\n",
       "      <td>0</td>\n",
       "    </tr>\n",
       "    <tr>\n",
       "      <th>19</th>\n",
       "      <td>2020-01-20</td>\n",
       "      <td>0</td>\n",
       "      <td>0</td>\n",
       "    </tr>\n",
       "  </tbody>\n",
       "</table>\n",
       "</div>"
      ],
      "text/plain": [
       "        index  0  1\n",
       "0  2020-01-01  0  0\n",
       "1  2020-01-02  0  0\n",
       "2  2020-01-03  0  0\n",
       "3  2020-01-04  0  0\n",
       "4  2020-01-05  0  1\n",
       "5  2020-01-06  0  0\n",
       "6  2020-01-07  1  0\n",
       "7  2020-01-08  0  0\n",
       "8  2020-01-09  0  0\n",
       "9  2020-01-10  0  0\n",
       "10 2020-01-11  0  1\n",
       "11 2020-01-12  0  0\n",
       "12 2020-01-13  0  0\n",
       "13 2020-01-14  0  0\n",
       "14 2020-01-15  1  0\n",
       "15 2020-01-16  0  0\n",
       "16 2020-01-17  0  0\n",
       "17 2020-01-18  0  0\n",
       "18 2020-01-19  0  0\n",
       "19 2020-01-20  0  0"
      ]
     },
     "execution_count": 6,
     "metadata": {},
     "output_type": "execute_result"
    }
   ],
   "source": [
    "true = pd.Series(0,pd.date_range('2020-01-01','2020-01-20',freq='D'))\n",
    "true.iloc[[6,14]]=1\n",
    "\n",
    "prediction = pd.Series(0,pd.date_range('2020-01-01','2020-01-20',freq='D'))\n",
    "prediction.iloc[[4,10]]=1\n",
    "\n",
    "pd.concat([true,prediction],1).reset_index()"
   ]
  },
  {
   "cell_type": "markdown",
   "metadata": {},
   "source": [
    "Evaluating by default `NAB` metric"
   ]
  },
  {
   "cell_type": "code",
   "execution_count": 7,
   "metadata": {
    "scrolled": false
   },
   "outputs": [
    {
     "name": "stdout",
     "output_type": "stream",
     "text": [
      "Since you not choose numenta_time and portion, then portion will be 0.1\n",
      "Standart  -  -5.5\n",
      "LowFP  -  -11.0\n",
      "LowFN  -  -3.67\n",
      "{'Standart': -5.5, 'LowFP': -11.0, 'LowFN': -3.67}\n"
     ]
    }
   ],
   "source": [
    "results = evaluating(true=true,prediction=prediction)\n",
    "print(results)"
   ]
  },
  {
   "cell_type": "markdown",
   "metadata": {},
   "source": [
    "## Approaches for evaluating of anomaly detection algorithms for time series data"
   ]
  },
  {
   "attachments": {},
   "cell_type": "markdown",
   "metadata": {},
   "source": [
    "![pic1](./pics/evaluating/pic1.jpg)"
   ]
  },
  {
   "cell_type": "markdown",
   "metadata": {},
   "source": [
    "## Metirc for evaluating of AD algorithms for time series data in tsad"
   ]
  },
  {
   "attachments": {},
   "cell_type": "markdown",
   "metadata": {},
   "source": [
    "![pic2](./pics/evaluating/pic2.jpg)"
   ]
  },
  {
   "cell_type": "markdown",
   "metadata": {},
   "source": [
    "NAB metric: [link](https://ieeexplore.ieee.org/abstract/document/7424283/?casa_token=QrawzPwH7AkAAAAA:vzRggk5TMUviU2JOxxzG76ZlACc3paQhP7KtoUq8jmx7-DkrSWAUp4wZldlTjcqPpap6WPHCeu095g)"
   ]
  },
  {
   "cell_type": "markdown",
   "metadata": {},
   "source": [
    "## Changepoints metrics\n",
    "\n",
    "### Variants of input variables\n",
    "\n",
    "A crucial element for the changepoint detection problem is a detection window:\n",
    "* The predicted anomalies inside the detection window are perceived as only one true positive\n",
    "* The absence of predicted anomalies inside the detection window is perceived as only one false negative\n",
    "* the predicted points outside the detection windows as false positives.\n",
    "\n",
    "Thus we must assign left and right boundaries of a window for any true changepoint if it is available for a dataset. In TSAD, we have three opportunities for this:\n",
    "1. ```true``` variable as pd.Series and ```numenta_time``` variable (or ```portion```*)\n",
    "2. ```true``` variable as a list of true changepoints of pd.Timestamp format and ```numenta_time``` variable  (or ```portion```*)\n",
    "3. ```true``` variable as boundaries itself as a list (we can have more than one change point for one dataset) of a list (length of 2) with left and right pd.Ttimestamp boundary of the window.\n",
    "\n",
    "\\* The ```portion``` is needed if ```numenta_time = None```. The width of the detection window in this case is equal to a ```portion``` of the width of the length of ```prediction``` divided by the number of real CPs in this dataset. default 0.1.\n",
    "\n",
    "```prediction``` is always pd.Series for one dataset "
   ]
  },
  {
   "attachments": {},
   "cell_type": "markdown",
   "metadata": {},
   "source": [
    "![pic3](./pics/evaluating/pic3.jpg)"
   ]
  },
  {
   "cell_type": "markdown",
   "metadata": {},
   "source": [
    "The picture above shows the predicted label values for changepoint problem.The variable ```numenta_time``` is actually width of window.\n",
    "\n",
    "```prediction``` is always have the same format (pd.Series) for one dataset:"
   ]
  },
  {
   "cell_type": "code",
   "execution_count": 19,
   "metadata": {},
   "outputs": [
    {
     "data": {
      "text/plain": [
       "2020-01-01    0\n",
       "2020-01-02    0\n",
       "2020-01-03    0\n",
       "2020-01-04    1\n",
       "2020-01-05    0\n",
       "2020-01-06    0\n",
       "2020-01-07    0\n",
       "Freq: D, dtype: int64"
      ]
     },
     "execution_count": 19,
     "metadata": {},
     "output_type": "execute_result"
    }
   ],
   "source": [
    "prediction = pd.Series(0,pd.date_range('2020-01-01','2020-01-07',freq='D'))\n",
    "prediction.iloc[3]=1\n",
    "prediction"
   ]
  },
  {
   "cell_type": "markdown",
   "metadata": {},
   "source": [
    " How would the ```true``` input variable look in each variant:\n",
    " #### Variant 1. True as pd.Series"
   ]
  },
  {
   "cell_type": "code",
   "execution_count": 20,
   "metadata": {},
   "outputs": [
    {
     "data": {
      "text/plain": [
       "2020-01-01    0\n",
       "2020-01-02    0\n",
       "2020-01-03    0\n",
       "2020-01-04    0\n",
       "2020-01-05    0\n",
       "2020-01-06    1\n",
       "2020-01-07    0\n",
       "Freq: D, dtype: int64"
      ]
     },
     "execution_count": 20,
     "metadata": {},
     "output_type": "execute_result"
    }
   ],
   "source": [
    "true = pd.Series(0,pd.date_range('2020-01-01','2020-01-07',freq='D'))\n",
    "true.iloc[5]=1\n",
    "numenta_time='3D'\n",
    "true"
   ]
  },
  {
   "cell_type": "code",
   "execution_count": 21,
   "metadata": {},
   "outputs": [
    {
     "name": "stdout",
     "output_type": "stream",
     "text": [
      "Amount of true anomalies 1\n",
      "A number of missed CPs = 0\n",
      "A number of FPs = 0\n",
      "Average time 2 days 00:00:00\n"
     ]
    }
   ],
   "source": [
    "results = evaluating(true=true,prediction=prediction,numenta_time=numenta_time,metric='average_time')\n"
   ]
  },
  {
   "cell_type": "markdown",
   "metadata": {},
   "source": [
    "From here we can see that we really **correctly detect** the one true chanepoint by given our detection window (which is equal 3 days before changepoint)."
   ]
  },
  {
   "cell_type": "markdown",
   "metadata": {},
   "source": [
    "**If we not true CPs for specefic dataset**:"
   ]
  },
  {
   "cell_type": "code",
   "execution_count": 22,
   "metadata": {},
   "outputs": [
    {
     "name": "stdout",
     "output_type": "stream",
     "text": [
      "Amount of true anomalies 0\n",
      "A number of missed CPs = 0\n",
      "A number of FPs = 1\n",
      "Average time nan\n"
     ]
    }
   ],
   "source": [
    "true = pd.Series(0,pd.date_range('2020-01-01','2020-01-07',freq='D'))\n",
    "results = evaluating(true=true,prediction=prediction,numenta_time=numenta_time,metric='average_time')"
   ]
  },
  {
   "cell_type": "markdown",
   "metadata": {},
   "source": [
    " #### Variant 2. True as list of pd.Timestamp"
   ]
  },
  {
   "cell_type": "code",
   "execution_count": 23,
   "metadata": {},
   "outputs": [
    {
     "data": {
      "text/plain": [
       "[Timestamp('2020-01-06 00:00:00')]"
      ]
     },
     "execution_count": 23,
     "metadata": {},
     "output_type": "execute_result"
    }
   ],
   "source": [
    "true = [pd.Timestamp('2020-01-06')]\n",
    "numenta_time='3D'\n",
    "true"
   ]
  },
  {
   "cell_type": "code",
   "execution_count": 24,
   "metadata": {},
   "outputs": [
    {
     "name": "stdout",
     "output_type": "stream",
     "text": [
      "Amount of true anomalies 1\n",
      "A number of missed CPs = 0\n",
      "A number of FPs = 0\n",
      "Average time 2 days 00:00:00\n"
     ]
    }
   ],
   "source": [
    "results = evaluating(true=true,prediction=prediction,numenta_time=numenta_time,metric='average_time')\n"
   ]
  },
  {
   "cell_type": "markdown",
   "metadata": {},
   "source": [
    "The same result"
   ]
  },
  {
   "cell_type": "markdown",
   "metadata": {},
   "source": [
    "**If we not true CPs for specefic dataset**:"
   ]
  },
  {
   "cell_type": "code",
   "execution_count": 25,
   "metadata": {},
   "outputs": [
    {
     "name": "stdout",
     "output_type": "stream",
     "text": [
      "Amount of true anomalies 0\n",
      "A number of missed CPs = 0\n",
      "A number of FPs = 1\n",
      "Average time nan\n"
     ]
    }
   ],
   "source": [
    "true = []\n",
    "results = evaluating(true=true,prediction=prediction,numenta_time=numenta_time,metric='average_time')"
   ]
  },
  {
   "cell_type": "markdown",
   "metadata": {},
   "source": [
    " #### Variant 3.True as a list of a list with left and right pd.Timestamp boundary of the window"
   ]
  },
  {
   "cell_type": "code",
   "execution_count": 26,
   "metadata": {},
   "outputs": [
    {
     "data": {
      "text/plain": [
       "[[Timestamp('2020-01-03 00:00:00'), Timestamp('2020-01-06 00:00:00')]]"
      ]
     },
     "execution_count": 26,
     "metadata": {},
     "output_type": "execute_result"
    }
   ],
   "source": [
    "true = [[pd.Timestamp('2020-01-03'),pd.Timestamp('2020-01-06')]]\n",
    "numenta_time='3D'\n",
    "true"
   ]
  },
  {
   "cell_type": "code",
   "execution_count": 27,
   "metadata": {},
   "outputs": [
    {
     "name": "stdout",
     "output_type": "stream",
     "text": [
      "Amount of true anomalies 1\n",
      "A number of missed CPs = 0\n",
      "A number of FPs = 0\n",
      "Average time 2 days 00:00:00\n"
     ]
    }
   ],
   "source": [
    "results = evaluating(true=true,prediction=prediction,numenta_time=numenta_time,metric='average_time')\n"
   ]
  },
  {
   "cell_type": "markdown",
   "metadata": {},
   "source": [
    "The same result"
   ]
  },
  {
   "cell_type": "markdown",
   "metadata": {},
   "source": [
    "**If we not true CPs for specefic dataset**:"
   ]
  },
  {
   "cell_type": "code",
   "execution_count": 28,
   "metadata": {},
   "outputs": [
    {
     "name": "stdout",
     "output_type": "stream",
     "text": [
      "Amount of true anomalies 0\n",
      "A number of missed CPs = 0\n",
      "A number of FPs = 1\n",
      "Average time nan\n"
     ]
    }
   ],
   "source": [
    "true = [[]]\n",
    "results = evaluating(true=true,prediction=prediction,numenta_time=numenta_time,metric='average_time')"
   ]
  },
  {
   "cell_type": "markdown",
   "metadata": {},
   "source": [
    " #### Variant 4,5,6. Many datasets"
   ]
  },
  {
   "cell_type": "code",
   "execution_count": 29,
   "metadata": {},
   "outputs": [
    {
     "name": "stdout",
     "output_type": "stream",
     "text": [
      "Amount of true anomalies 2\n",
      "A number of missed CPs = 0\n",
      "A number of FPs = 0\n",
      "Average time 2 days 00:00:00\n",
      "Amount of true anomalies 2\n",
      "A number of missed CPs = 0\n",
      "A number of FPs = 0\n",
      "Average time 2 days 00:00:00\n",
      "Amount of true anomalies 2\n",
      "A number of missed CPs = 0\n",
      "A number of FPs = 0\n",
      "Average time 2 days 00:00:00\n"
     ]
    }
   ],
   "source": [
    "# if we have 2 the same datasets\n",
    "prediction = [prediction,prediction]\n",
    "numenta_time='3D'\n",
    "\n",
    "true = pd.Series(0,pd.date_range('2020-01-01','2020-01-07',freq='D'))\n",
    "true.iloc[5]=1\n",
    "true = [true,true]\n",
    "results = evaluating(true=true,prediction=prediction,numenta_time=numenta_time,metric='average_time')\n",
    "\n",
    "true = [pd.Timestamp('2020-01-06')]\n",
    "true = [true,true]\n",
    "results = evaluating(true=true,prediction=prediction,numenta_time=numenta_time,metric='average_time')\n",
    "\n",
    "true = [[pd.Timestamp('2020-01-03'),pd.Timestamp('2020-01-06')]]\n",
    "true = [true,true]\n",
    "results = evaluating(true=true,prediction=prediction,numenta_time=numenta_time,metric='average_time')\n"
   ]
  },
  {
   "cell_type": "markdown",
   "metadata": {},
   "source": [
    "### Different situations with changepoint detection problem"
   ]
  },
  {
   "cell_type": "markdown",
   "metadata": {},
   "source": [
    "Assigning characteristics of a window as well as selecting one point in the window must differ depend on business tasks, and in TSAD we seem to foreseen every case for this. Examples of cases from technical diagnostic:\n",
    "* We have clear anomalies that have to lead to failure. From history, we have objective information about the times of arising anomalies (true changepoints), and we understand that any predicted anomaly that is earlier than the true changepoint is a false positive. \n",
    "* We have a failure of a system. From history, we have objective information about the time of failure. But we haven't any information about the anomaly. Thus predicted anomaly that is earlier than the true changepoint to be true positive. \n",
    "* We know approximately the time of the anomaly.\n",
    "* Many other cases.\n",
    "\n",
    "To meet the business objectives, we make possible to **adjust the following parameters** in ```evaluating```:\n",
    "\n",
    "#### ```anomaly_window_destenation``` for input variant 1,2 of true variable"
   ]
  },
  {
   "attachments": {},
   "cell_type": "markdown",
   "metadata": {},
   "source": [
    "![pic4](./pics/evaluating/pic4.jpg)"
   ]
  },
  {
   "cell_type": "markdown",
   "metadata": {},
   "source": [
    "#### ```clear_anomalies_mode```"
   ]
  },
  {
   "attachments": {},
   "cell_type": "markdown",
   "metadata": {},
   "source": [
    "![pic5](./pics/evaluating/pic5.jpg)"
   ]
  },
  {
   "cell_type": "markdown",
   "metadata": {},
   "source": [
    "#### ```intersection_mode``` for solving a problem of intersection of detection windows"
   ]
  },
  {
   "attachments": {},
   "cell_type": "markdown",
   "metadata": {},
   "source": [
    "![pic6](./pics/evaluating/pic6.jpg)"
   ]
  },
  {
   "cell_type": "code",
   "execution_count": null,
   "metadata": {},
   "outputs": [],
   "source": []
  }
 ],
 "metadata": {
  "kernelspec": {
   "display_name": "Python 3",
   "language": "python",
   "name": "python3"
  },
  "language_info": {
   "codemirror_mode": {
    "name": "ipython",
    "version": 3
   },
   "file_extension": ".py",
   "mimetype": "text/x-python",
   "name": "python",
   "nbconvert_exporter": "python",
   "pygments_lexer": "ipython3",
   "version": "3.8.5"
  },
  "toc": {
   "base_numbering": 1,
   "nav_menu": {
    "height": "330.99px",
    "width": "517.995px"
   },
   "number_sections": true,
   "sideBar": true,
   "skip_h1_title": false,
   "title_cell": "Table of Contents",
   "title_sidebar": "Contents",
   "toc_cell": false,
   "toc_position": {},
   "toc_section_display": true,
   "toc_window_display": false
  }
 },
 "nbformat": 4,
 "nbformat_minor": 4
}
