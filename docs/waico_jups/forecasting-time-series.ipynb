{
 "cells": [
  {
   "cell_type": "markdown",
   "id": "d1b1ca29",
   "metadata": {},
   "source": [
    "# Imports "
   ]
  },
  {
   "cell_type": "code",
   "execution_count": 27,
   "id": "eb118206-a660-413a-9185-cbd9da3be522",
   "metadata": {},
   "outputs": [],
   "source": [
    "import sys\n",
    "import pandas as pd\n",
    "import numpy as np\n",
    "\n",
    "sys.path.insert(1, '../')\n",
    "\n",
    "\n",
    "\n",
    "from tsad.base.pipeline import Pipeline\n",
    "from tsad.base.datasets import load_skab\n",
    "from tsad.base.wrappers import SklearnWrapper\n",
    "\n",
    "\n",
    "from tsad.tasks.eda import HighLevelDatasetAnalysisTask, TimeDiscretizationTask\n",
    "from tsad.tasks.eda import FindNaNTask, EquipmentDowntimeTask\n",
    "from tsad.tasks.preprocess import ScalingTask, ValueRangeProcessingTask, ResampleProcessingTask \n",
    "from tsad.tasks.preprocess import FeatureProcessingTask, SplitByNaNTask, PrepareSeqSamplesTask\n",
    "from tsad.tasks.deep_learning_anomaly_detection import ResidualAnomalyDetectionTask\n",
    "from tsad.tasks.deep_learning_forecasting import DeepLeaningTimeSeriesForecastingTask\n",
    "\n",
    "\n"
   ]
  },
  {
   "cell_type": "code",
   "execution_count": null,
   "id": "84d81c2d",
   "metadata": {},
   "outputs": [],
   "source": []
  },
  {
   "cell_type": "markdown",
   "id": "0e691575",
   "metadata": {},
   "source": [
    "# Data loading"
   ]
  },
  {
   "cell_type": "code",
   "execution_count": 41,
   "id": "8495097d-dd90-45d7-b4b6-fdd8c2747596",
   "metadata": {},
   "outputs": [],
   "source": [
    "dataset = load_skab()\n",
    "columns = dataset.feature_names\n",
    "targets = dataset.target_names\n",
    "df = dataset.frame"
   ]
  },
  {
   "cell_type": "code",
   "execution_count": 42,
   "id": "20f9e381",
   "metadata": {},
   "outputs": [
    {
     "data": {
      "text/plain": [
       "Index(['air/0', 'air/1', 'fluid/0', 'fluid/1', 'fluid/2', 'fluid/3', 'fluid/4',\n",
       "       'fluid/5', 'rotor/0', 'rotor/1', 'rotor/2', 'rotor/3', 'rotor/4',\n",
       "       'temperature/0', 'valve1/0', 'valve1/1', 'valve1/10', 'valve1/11',\n",
       "       'valve1/12', 'valve1/13', 'valve1/14', 'valve1/15', 'valve1/2',\n",
       "       'valve1/3', 'valve1/4', 'valve1/5', 'valve1/6', 'valve1/7', 'valve1/8',\n",
       "       'valve1/9', 'valve2/0', 'valve2/1', 'valve2/2', 'valve2/3'],\n",
       "      dtype='object', name='experiment')"
      ]
     },
     "execution_count": 42,
     "metadata": {},
     "output_type": "execute_result"
    }
   ],
   "source": [
    "df.index.levels[0]"
   ]
  },
  {
   "cell_type": "markdown",
   "id": "f9f727cf",
   "metadata": {},
   "source": [
    "# Train Test Split"
   ]
  },
  {
   "cell_type": "code",
   "execution_count": 43,
   "id": "752af2fd",
   "metadata": {},
   "outputs": [],
   "source": [
    "test_datasets = ['valve1/0', 'valve2/0', 'fluid/0']\n",
    "train_raw = df.drop(test_datasets,level=0).droplevel(level=0)\n",
    "test_raw = df.loc[test_datasets].droplevel(level=0)"
   ]
  },
  {
   "cell_type": "markdown",
   "id": "8645893a",
   "metadata": {},
   "source": [
    "# Making custom task"
   ]
  },
  {
   "cell_type": "code",
   "execution_count": 44,
   "id": "e2b869c8",
   "metadata": {},
   "outputs": [],
   "source": [
    "from sklearn.preprocessing import StandardScaler\n",
    "StandardScalerTask = SklearnWrapper(StandardScaler)"
   ]
  },
  {
   "cell_type": "markdown",
   "id": "c14257b1",
   "metadata": {},
   "source": [
    "# Making pipeline"
   ]
  },
  {
   "cell_type": "code",
   "execution_count": 60,
   "id": "1eb8f11e",
   "metadata": {
    "scrolled": false
   },
   "outputs": [
    {
     "name": "stdout",
     "output_type": "stream",
     "text": [
      "None\n",
      "1s\n",
      "Пропущено 102 датастов, из-за того что saples слишком малов в датасете. (len_seq + points_ahead + gap -1 <= len(df))\n",
      "CPU times: total: 4.28 s\n",
      "Wall time: 4.29 s\n"
     ]
    }
   ],
   "source": [
    "%%time\n",
    "pipeline = Pipeline([\n",
    "    HighLevelDatasetAnalysisTask(),\n",
    "    TimeDiscretizationTask(freq_tobe_approach='custom',FREQ_TOBE='1s'),# freq_tobe='1s'),\n",
    "    FindNaNTask(),\n",
    "    EquipmentDowntimeTask(),\n",
    "    ResampleProcessingTask(),\n",
    "    StandardScalerTask(),\n",
    "    FeatureProcessingTask(),\n",
    "    SplitByNaNTask(),\n",
    "    PrepareSeqSamplesTask(len_seq=10),\n",
    "#     DeepLeaningTimeSeriesForecastingTask(),\n",
    "], show=False)\n",
    "train = pipeline.fit(train_raw,n_epochs=7)\n"
   ]
  },
  {
   "cell_type": "code",
   "execution_count": 61,
   "id": "ed05543a",
   "metadata": {},
   "outputs": [],
   "source": [
    "# pipeline.tasks[-2].kwargs['test_size'] = 0"
   ]
  },
  {
   "cell_type": "code",
   "execution_count": null,
   "id": "c9f660a9",
   "metadata": {},
   "outputs": [],
   "source": []
  },
  {
   "cell_type": "code",
   "execution_count": 62,
   "id": "ef8ce145",
   "metadata": {},
   "outputs": [
    {
     "ename": "UnsupportedTaskResultException",
     "evalue": "<class 'NoneType'>",
     "output_type": "error",
     "traceback": [
      "\u001b[1;31m---------------------------------------------------------------------------\u001b[0m",
      "\u001b[1;31mUnsupportedTaskResultException\u001b[0m            Traceback (most recent call last)",
      "Cell \u001b[1;32mIn[62], line 1\u001b[0m\n\u001b[1;32m----> 1\u001b[0m \u001b[43mpipeline\u001b[49m\u001b[38;5;241;43m.\u001b[39;49m\u001b[43mpredict\u001b[49m\u001b[43m(\u001b[49m\u001b[43mtest_raw\u001b[49m\u001b[43m)\u001b[49m\n",
      "File \u001b[1;32m~\\YandexDisk\\tsad\\Tutorials\\..\\tsad\\base\\pipeline.py:126\u001b[0m, in \u001b[0;36mPipeline.predict\u001b[1;34m(self, df, **params)\u001b[0m\n\u001b[0;32m    123\u001b[0m \u001b[38;5;28;01mdef\u001b[39;00m \u001b[38;5;21mpredict\u001b[39m(\u001b[38;5;28mself\u001b[39m, df: pd\u001b[38;5;241m.\u001b[39mDataFrame, \u001b[38;5;241m*\u001b[39m\u001b[38;5;241m*\u001b[39mparams) \u001b[38;5;241m-\u001b[39m\u001b[38;5;241m>\u001b[39m pd\u001b[38;5;241m.\u001b[39mDataFrame:\n\u001b[0;32m    125\u001b[0m     \u001b[38;5;28mself\u001b[39m\u001b[38;5;241m.\u001b[39mmode \u001b[38;5;241m=\u001b[39m PipelineMode\u001b[38;5;241m.\u001b[39mPREDICT\n\u001b[1;32m--> 126\u001b[0m     \u001b[38;5;28;01mreturn\u001b[39;00m \u001b[38;5;28mself\u001b[39m\u001b[38;5;241m.\u001b[39m_run(df, \u001b[38;5;241m*\u001b[39m\u001b[38;5;241m*\u001b[39mparams)\n",
      "File \u001b[1;32m~\\YandexDisk\\tsad\\Tutorials\\..\\tsad\\base\\pipeline.py:101\u001b[0m, in \u001b[0;36mPipeline._run\u001b[1;34m(self, df, **params)\u001b[0m\n\u001b[0;32m     99\u001b[0m     (result_df, result) \u001b[38;5;241m=\u001b[39m task_result\n\u001b[0;32m    100\u001b[0m \u001b[38;5;28;01melse\u001b[39;00m:\n\u001b[1;32m--> 101\u001b[0m     \u001b[38;5;28;01mraise\u001b[39;00m UnsupportedTaskResultException(\u001b[38;5;28mtype\u001b[39m(task_result))\n\u001b[0;32m    103\u001b[0m task_df \u001b[38;5;241m=\u001b[39m result_df\u001b[38;5;241m.\u001b[39mcopy()\n\u001b[0;32m    105\u001b[0m \u001b[38;5;28;01mif\u001b[39;00m \u001b[38;5;129;01mnot\u001b[39;00m result:\n",
      "\u001b[1;31mUnsupportedTaskResultException\u001b[0m: <class 'NoneType'>"
     ]
    }
   ],
   "source": [
    "pipeline.predict(test_raw)"
   ]
  },
  {
   "cell_type": "code",
   "execution_count": null,
   "id": "6ced44ba",
   "metadata": {},
   "outputs": [],
   "source": []
  },
  {
   "cell_type": "code",
   "execution_count": null,
   "id": "91f1ea7d",
   "metadata": {},
   "outputs": [],
   "source": []
  },
  {
   "cell_type": "code",
   "execution_count": null,
   "id": "0fc1c393",
   "metadata": {},
   "outputs": [],
   "source": []
  },
  {
   "cell_type": "code",
   "execution_count": null,
   "id": "035862bc",
   "metadata": {},
   "outputs": [],
   "source": []
  },
  {
   "cell_type": "code",
   "execution_count": 18,
   "id": "7759bf4a",
   "metadata": {},
   "outputs": [],
   "source": [
    "pipeline = Pipeline(pipeline.tasks[:-1])"
   ]
  },
  {
   "cell_type": "code",
   "execution_count": 20,
   "id": "376686f3",
   "metadata": {},
   "outputs": [
    {
     "ename": "Exception",
     "evalue": "Can't find required task result of HighLevelDatasetAnalysisResult in Pipeline.",
     "output_type": "error",
     "traceback": [
      "\u001b[1;31m---------------------------------------------------------------------------\u001b[0m",
      "\u001b[1;31mException\u001b[0m                                 Traceback (most recent call last)",
      "Cell \u001b[1;32mIn[20], line 1\u001b[0m\n\u001b[1;32m----> 1\u001b[0m \u001b[43mpipeline\u001b[49m\u001b[38;5;241;43m.\u001b[39;49m\u001b[43mpredict\u001b[49m\u001b[43m(\u001b[49m\u001b[43mtest_raw\u001b[49m\u001b[43m)\u001b[49m\n",
      "File \u001b[1;32m~\\YandexDisk\\tsad\\Tutorials\\..\\tsad\\base\\pipeline.py:126\u001b[0m, in \u001b[0;36mPipeline.predict\u001b[1;34m(self, df, **params)\u001b[0m\n\u001b[0;32m    123\u001b[0m \u001b[38;5;28;01mdef\u001b[39;00m \u001b[38;5;21mpredict\u001b[39m(\u001b[38;5;28mself\u001b[39m, df: pd\u001b[38;5;241m.\u001b[39mDataFrame, \u001b[38;5;241m*\u001b[39m\u001b[38;5;241m*\u001b[39mparams) \u001b[38;5;241m-\u001b[39m\u001b[38;5;241m>\u001b[39m pd\u001b[38;5;241m.\u001b[39mDataFrame:\n\u001b[0;32m    125\u001b[0m     \u001b[38;5;28mself\u001b[39m\u001b[38;5;241m.\u001b[39mmode \u001b[38;5;241m=\u001b[39m PipelineMode\u001b[38;5;241m.\u001b[39mPREDICT\n\u001b[1;32m--> 126\u001b[0m     \u001b[38;5;28;01mreturn\u001b[39;00m \u001b[38;5;28mself\u001b[39m\u001b[38;5;241m.\u001b[39m_run(df, \u001b[38;5;241m*\u001b[39m\u001b[38;5;241m*\u001b[39mparams)\n",
      "File \u001b[1;32m~\\YandexDisk\\tsad\\Tutorials\\..\\tsad\\base\\pipeline.py:91\u001b[0m, in \u001b[0;36mPipeline._run\u001b[1;34m(self, df, **params)\u001b[0m\n\u001b[0;32m     89\u001b[0m     task_result \u001b[38;5;241m=\u001b[39m task\u001b[38;5;241m.\u001b[39mfit(\u001b[38;5;241m*\u001b[39m\u001b[38;5;241m*\u001b[39mparameters)\n\u001b[0;32m     90\u001b[0m \u001b[38;5;28;01melif\u001b[39;00m \u001b[38;5;28mself\u001b[39m\u001b[38;5;241m.\u001b[39mmode \u001b[38;5;241m==\u001b[39m PipelineMode\u001b[38;5;241m.\u001b[39mPREDICT:\n\u001b[1;32m---> 91\u001b[0m     parameters \u001b[38;5;241m=\u001b[39m \u001b[38;5;28;43mself\u001b[39;49m\u001b[38;5;241;43m.\u001b[39;49m\u001b[43m_create_method_parameters\u001b[49m\u001b[43m(\u001b[49m\u001b[43mtask\u001b[49m\u001b[38;5;241;43m.\u001b[39;49m\u001b[43mpredict\u001b[49m\u001b[43m,\u001b[49m\u001b[43m \u001b[49m\u001b[43mtask_df\u001b[49m\u001b[43m)\u001b[49m\n\u001b[0;32m     92\u001b[0m     task_result \u001b[38;5;241m=\u001b[39m task\u001b[38;5;241m.\u001b[39mpredict(\u001b[38;5;241m*\u001b[39m\u001b[38;5;241m*\u001b[39mparameters)\n\u001b[0;32m     93\u001b[0m \u001b[38;5;28;01melse\u001b[39;00m:\n",
      "File \u001b[1;32m~\\YandexDisk\\tsad\\Tutorials\\..\\tsad\\base\\pipeline.py:66\u001b[0m, in \u001b[0;36mPipeline._create_method_parameters\u001b[1;34m(self, method, df)\u001b[0m\n\u001b[0;32m     63\u001b[0m \u001b[38;5;28;01mfor\u001b[39;00m name, parameter \u001b[38;5;129;01min\u001b[39;00m parameters:\n\u001b[0;32m     65\u001b[0m     \u001b[38;5;28;01mif\u001b[39;00m \u001b[38;5;28missubclass\u001b[39m(parameter\u001b[38;5;241m.\u001b[39mannotation, TaskResult):\n\u001b[1;32m---> 66\u001b[0m         arguments[name] \u001b[38;5;241m=\u001b[39m \u001b[38;5;28;43mself\u001b[39;49m\u001b[38;5;241;43m.\u001b[39;49m\u001b[43m_get_result_by_type\u001b[49m\u001b[43m(\u001b[49m\u001b[43mparameter\u001b[49m\u001b[38;5;241;43m.\u001b[39;49m\u001b[43mannotation\u001b[49m\u001b[43m)\u001b[49m\n\u001b[0;32m     68\u001b[0m     \u001b[38;5;28;01melif\u001b[39;00m name \u001b[38;5;129;01min\u001b[39;00m \u001b[38;5;28mself\u001b[39m\u001b[38;5;241m.\u001b[39mrun_arguments:\n\u001b[0;32m     69\u001b[0m         arguments[name] \u001b[38;5;241m=\u001b[39m \u001b[38;5;28mself\u001b[39m\u001b[38;5;241m.\u001b[39mrun_arguments[name]\n",
      "File \u001b[1;32m~\\YandexDisk\\tsad\\Tutorials\\..\\tsad\\base\\pipeline.py:36\u001b[0m, in \u001b[0;36mPipeline._get_result_by_type\u001b[1;34m(self, result_type)\u001b[0m\n\u001b[0;32m     34\u001b[0m results \u001b[38;5;241m=\u001b[39m [x \u001b[38;5;28;01mfor\u001b[39;00m x \u001b[38;5;129;01min\u001b[39;00m \u001b[38;5;28mself\u001b[39m\u001b[38;5;241m.\u001b[39mresults \u001b[38;5;28;01mif\u001b[39;00m \u001b[38;5;28misinstance\u001b[39m(x, result_type)]\n\u001b[0;32m     35\u001b[0m \u001b[38;5;28;01mif\u001b[39;00m \u001b[38;5;129;01mnot\u001b[39;00m results:\n\u001b[1;32m---> 36\u001b[0m     \u001b[38;5;28;01mraise\u001b[39;00m \u001b[38;5;167;01mException\u001b[39;00m(\u001b[38;5;124mf\u001b[39m\u001b[38;5;124m'\u001b[39m\u001b[38;5;124mCan\u001b[39m\u001b[38;5;130;01m\\'\u001b[39;00m\u001b[38;5;124mt find required task result of \u001b[39m\u001b[38;5;132;01m{\u001b[39;00mresult_type\u001b[38;5;241m.\u001b[39m\u001b[38;5;18m__name__\u001b[39m\u001b[38;5;132;01m}\u001b[39;00m\u001b[38;5;124m in Pipeline.\u001b[39m\u001b[38;5;124m'\u001b[39m)\n\u001b[0;32m     37\u001b[0m \u001b[38;5;28;01mif\u001b[39;00m \u001b[38;5;28mlen\u001b[39m(results) \u001b[38;5;241m>\u001b[39m \u001b[38;5;241m1\u001b[39m:\n\u001b[0;32m     38\u001b[0m     \u001b[38;5;28;01mraise\u001b[39;00m \u001b[38;5;167;01mException\u001b[39;00m(\u001b[38;5;124m'\u001b[39m\u001b[38;5;124mMultiple task results find!\u001b[39m\u001b[38;5;124m'\u001b[39m)\n",
      "\u001b[1;31mException\u001b[0m: Can't find required task result of HighLevelDatasetAnalysisResult in Pipeline."
     ]
    }
   ],
   "source": [
    "pipeline.predict(test_raw)"
   ]
  },
  {
   "cell_type": "code",
   "execution_count": null,
   "id": "c3e0513a",
   "metadata": {},
   "outputs": [],
   "source": [
    "task = PrepareSeqSamplesTask(len_seq=10)\n",
    "(X_train, _, y_train, _) , _ = task.fit(train)\n",
    "\n",
    "task = PrepareSeqSamplesTask(len_seq=10)\n",
    "(_, X_test, _, y_test), _ = task.fit(test)\n",
    "\n",
    "dfs = [X_train,X_test,y_train,y_test]"
   ]
  },
  {
   "cell_type": "code",
   "execution_count": null,
   "id": "9613a4e8",
   "metadata": {},
   "outputs": [],
   "source": [
    "task = ResidualAnomalyDetectionTask()"
   ]
  },
  {
   "cell_type": "code",
   "execution_count": null,
   "id": "a2f3ebed",
   "metadata": {
    "scrolled": false
   },
   "outputs": [],
   "source": [
    "task.fit(dfs,result_base_eda=fit_pipeline.results[0])"
   ]
  },
  {
   "cell_type": "code",
   "execution_count": null,
   "id": "25277145",
   "metadata": {},
   "outputs": [],
   "source": [
    "task = DeepLeaningTimeSeriesForecastingTask()\n",
    "task.fit(dfs,result_base_eda=fit_pipeline.results[0])"
   ]
  },
  {
   "cell_type": "code",
   "execution_count": null,
   "id": "cb2b77c6",
   "metadata": {},
   "outputs": [],
   "source": []
  },
  {
   "cell_type": "code",
   "execution_count": null,
   "id": "ba5fb9dc",
   "metadata": {},
   "outputs": [],
   "source": []
  },
  {
   "cell_type": "code",
   "execution_count": null,
   "id": "9fdee4e6",
   "metadata": {},
   "outputs": [],
   "source": []
  }
 ],
 "metadata": {
  "kernelspec": {
   "display_name": "tsad",
   "language": "python",
   "name": "tsad"
  },
  "language_info": {
   "codemirror_mode": {
    "name": "ipython",
    "version": 3
   },
   "file_extension": ".py",
   "mimetype": "text/x-python",
   "name": "python",
   "nbconvert_exporter": "python",
   "pygments_lexer": "ipython3",
   "version": "3.10.11"
  },
  "toc": {
   "base_numbering": 1,
   "nav_menu": {},
   "number_sections": true,
   "sideBar": true,
   "skip_h1_title": false,
   "title_cell": "Table of Contents",
   "title_sidebar": "Contents",
   "toc_cell": false,
   "toc_position": {},
   "toc_section_display": true,
   "toc_window_display": false
  },
  "toc-autonumbering": true
 },
 "nbformat": 4,
 "nbformat_minor": 5
}
