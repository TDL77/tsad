{
 "cells": [
  {
   "cell_type": "code",
   "execution_count": 1,
   "id": "11178739",
   "metadata": {},
   "outputs": [],
   "source": [
    "import sys\n",
    "sys.path.insert(1, '../')\n",
    "import pandas as pd "
   ]
  },
  {
   "cell_type": "code",
   "execution_count": 2,
   "id": "9c7cca3d",
   "metadata": {},
   "outputs": [],
   "source": [
    "from tsad.base.datasets import load_exhauster_faults"
   ]
  },
  {
   "cell_type": "code",
   "execution_count": 4,
   "id": "a471d9b6",
   "metadata": {},
   "outputs": [
    {
     "name": "stderr",
     "output_type": "stream",
     "text": [
      "\n",
      "KeyboardInterrupt\n",
      "\n"
     ]
    }
   ],
   "source": [
    "df = load_exhauster_faults(equipment_number=1)"
   ]
  },
  {
   "cell_type": "code",
   "execution_count": 9,
   "id": "d12e82fc",
   "metadata": {},
   "outputs": [],
   "source": [
    "get_link = 'https://getfile.dokpub.com/yandex/get/'\n",
    "links = {\n",
    "    1 : 'https://disk.yandex.ru/d/NUPXNgancdY-kw',\n",
    "    2 : 'https://disk.yandex.ru/d/16moKa1JyR5UOg',\n",
    "    3 : 'https://disk.yandex.ru/d/_pIk_m2DVdqYXw',\n",
    "    4 : 'https://disk.yandex.ru/d/KKnuyNbDMf2kyA',\n",
    "    5 : 'https://disk.yandex.ru/d/LWsbxXmJFC0hbg',\n",
    "    6 : 'https://disk.yandex.ru/d/IOerYX7eQuyB8Q',\n",
    "    }\n",
    "\n",
    "url = get_link + links[5]\n",
    "frame = pd.read_parquet(url)"
   ]
  },
  {
   "cell_type": "code",
   "execution_count": 7,
   "id": "bbda1d37",
   "metadata": {},
   "outputs": [
    {
     "data": {
      "text/plain": [
       "'https://getfile.dokpub.com/yandex/get/https://disk.yandex.ru/d/NUPXNgancdY-kw'"
      ]
     },
     "execution_count": 7,
     "metadata": {},
     "output_type": "execute_result"
    }
   ],
   "source": [
    "url"
   ]
  },
  {
   "cell_type": "code",
   "execution_count": null,
   "id": "c68b51e8",
   "metadata": {},
   "outputs": [],
   "source": []
  }
 ],
 "metadata": {
  "kernelspec": {
   "display_name": "tsad2",
   "language": "python",
   "name": "tsad2"
  },
  "language_info": {
   "codemirror_mode": {
    "name": "ipython",
    "version": 3
   },
   "file_extension": ".py",
   "mimetype": "text/x-python",
   "name": "python",
   "nbconvert_exporter": "python",
   "pygments_lexer": "ipython3",
   "version": "3.10.11"
  },
  "toc": {
   "base_numbering": 1,
   "nav_menu": {},
   "number_sections": true,
   "sideBar": true,
   "skip_h1_title": false,
   "title_cell": "Table of Contents",
   "title_sidebar": "Contents",
   "toc_cell": false,
   "toc_position": {},
   "toc_section_display": true,
   "toc_window_display": false
  }
 },
 "nbformat": 4,
 "nbformat_minor": 5
}
