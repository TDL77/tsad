{
 "cells": [
  {
   "cell_type": "code",
   "execution_count": 1,
   "id": "11178739",
   "metadata": {},
   "outputs": [],
   "source": [
    "import sys\n",
    "sys.path.insert(1, '../')\n",
    "import pandas as pd "
   ]
  },
  {
   "cell_type": "code",
   "execution_count": 2,
   "id": "9c7cca3d",
   "metadata": {},
   "outputs": [],
   "source": [
    "from tsad.base.datasets import load_exhauster_faults"
   ]
  },
  {
   "cell_type": "code",
   "execution_count": 3,
   "id": "a471d9b6",
   "metadata": {},
   "outputs": [],
   "source": [
    "# dataset = load_exhauster_faults(equipment_number=1)\n",
    "# df = dataset.frame\n",
    "df = pd.read_parquet('C:/Users/kompn/YandexDisk/активности/Севресталь. ТОиР 18-28 мая/data/tsad_data/4.parquet')"
   ]
  },
  {
   "cell_type": "code",
   "execution_count": 4,
   "id": "7eb5a9bd",
   "metadata": {},
   "outputs": [],
   "source": [
    "from tsad.base.pipeline import Pipeline\n",
    "from tsad.base.datasets import load_skab\n",
    "from tsad.pipelines import ResidualAnomalyDetectionTaskSet"
   ]
  },
  {
   "cell_type": "code",
   "execution_count": null,
   "id": "700d081b",
   "metadata": {},
   "outputs": [],
   "source": []
  },
  {
   "cell_type": "code",
   "execution_count": 5,
   "id": "6829240e",
   "metadata": {},
   "outputs": [
    {
     "data": {
      "text/plain": [
       "'Dataset size: 9335034, features: 18'"
      ]
     },
     "metadata": {},
     "output_type": "display_data"
    },
    {
     "data": {
      "text/plain": [
       "'Time index from 2000-01-16 22:46:12 to 2003-01-01 09:25:02'"
      ]
     },
     "metadata": {},
     "output_type": "display_data"
    },
    {
     "data": {
      "text/plain": [
       "'Total duration: 1080 days 10:38:50'"
      ]
     },
     "metadata": {},
     "output_type": "display_data"
    },
    {
     "data": {
      "text/plain": [
       "float64    16\n",
       "bool        1\n",
       "object      1\n",
       "Name: count, dtype: int64"
      ]
     },
     "metadata": {},
     "output_type": "display_data"
    },
    {
     "data": {
      "text/plain": [
       "anomaly                                     bool\n",
       "Rotor Current 1                          float64\n",
       "Vibration on Support 4. Longitudinal.    float64\n",
       "Vibration on Support 4                   float64\n",
       "Vibration on Support 3. Longitudinal.    float64\n",
       "Vibration on Support 3                   float64\n",
       "Vibration on Support 2                   float64\n",
       "Vibration on Support 1                   float64\n",
       "Oil Temperature in Oil Block             float64\n",
       "Oil Temperature in System                float64\n",
       "Bearing Temperature on Support 3         float64\n",
       "Bearing Temperature on Support 2         float64\n",
       "Bearing Temperature on Support 1         float64\n",
       "Oil Pressure in System                   float64\n",
       "Stator Current                           float64\n",
       "Rotor Current 2                          float64\n",
       "Bearing Temperature on Support 4         float64\n",
       "anomaly_category                          object\n",
       "dtype: object"
      ]
     },
     "metadata": {},
     "output_type": "display_data"
    },
    {
     "name": "stdout",
     "output_type": "stream",
     "text": [
      "['__abstractmethods__', '__annotations__', '__class__', '__delattr__', '__dict__', '__dir__', '__doc__', '__eq__', '__format__', '__ge__', '__getattribute__', '__gt__', '__hash__', '__init__', '__init_subclass__', '__le__', '__lt__', '__module__', '__ne__', '__new__', '__reduce__', '__reduce_ex__', '__repr__', '__setattr__', '__sizeof__', '__slots__', '__str__', '__subclasshook__', '__weakref__', '_abc_impl', 'amount_unique_diff', 'amount_unique_diff_percent', 'freq_tobe', 'frequence_of_diff_interval', 'index_freq_climed', 'max_diff', 'min_diff', 'most_frequent_diff_amount_cases', 'most_frequent_diff_amount_cases_percent', 'most_frequent_diff_value', 'save', 'show']\n"
     ]
    },
    {
     "ename": "AttributeError",
     "evalue": "'TimeDiscretizationResult' object has no attribute 'dataset_analysis_result'",
     "output_type": "error",
     "traceback": [
      "\u001b[1;31m---------------------------------------------------------------------------\u001b[0m",
      "\u001b[1;31mAttributeError\u001b[0m                            Traceback (most recent call last)",
      "Cell \u001b[1;32mIn[5], line 26\u001b[0m\n\u001b[0;32m     15\u001b[0m taskset \u001b[38;5;241m=\u001b[39m [\n\u001b[0;32m     16\u001b[0m     HighLevelDatasetAnalysisTask(),\n\u001b[0;32m     17\u001b[0m     TimeDiscretizationTask(freq_tobe_approach\u001b[38;5;241m=\u001b[39m\u001b[38;5;124m'\u001b[39m\u001b[38;5;124mmost_frequent\u001b[39m\u001b[38;5;124m'\u001b[39m),\n\u001b[1;32m   (...)\u001b[0m\n\u001b[0;32m     21\u001b[0m     StandardScalerTask(),\n\u001b[0;32m     22\u001b[0m     SplitByNaNTask(),]\n\u001b[0;32m     25\u001b[0m pipeline \u001b[38;5;241m=\u001b[39m Pipeline(taskset,show\u001b[38;5;241m=\u001b[39m\u001b[38;5;28;01mTrue\u001b[39;00m)\n\u001b[1;32m---> 26\u001b[0m pred \u001b[38;5;241m=\u001b[39m \u001b[43mpipeline\u001b[49m\u001b[38;5;241;43m.\u001b[39;49m\u001b[43mfit_predict\u001b[49m\u001b[43m(\u001b[49m\u001b[43mdf\u001b[49m\u001b[43m,\u001b[49m\u001b[43mn_epochs\u001b[49m\u001b[38;5;241;43m=\u001b[39;49m\u001b[38;5;241;43m5\u001b[39;49m\u001b[43m)\u001b[49m\n",
      "File \u001b[1;32m~\\YandexDisk\\tsad\\Tutorials\\..\\tsad\\base\\pipeline.py:221\u001b[0m, in \u001b[0;36mPipeline.fit_predict\u001b[1;34m(self, df, **params)\u001b[0m\n\u001b[0;32m    218\u001b[0m \u001b[38;5;28;01mdef\u001b[39;00m \u001b[38;5;21mfit_predict\u001b[39m(\u001b[38;5;28mself\u001b[39m, df: pd\u001b[38;5;241m.\u001b[39mDataFrame, \u001b[38;5;241m*\u001b[39m\u001b[38;5;241m*\u001b[39mparams) \u001b[38;5;241m-\u001b[39m\u001b[38;5;241m>\u001b[39m pd\u001b[38;5;241m.\u001b[39mDataFrame:\n\u001b[0;32m    220\u001b[0m     \u001b[38;5;28mself\u001b[39m\u001b[38;5;241m.\u001b[39mmode \u001b[38;5;241m=\u001b[39m PipelineMode\u001b[38;5;241m.\u001b[39mFIT_PREDICT\n\u001b[1;32m--> 221\u001b[0m     \u001b[38;5;28;01mreturn\u001b[39;00m \u001b[38;5;28mself\u001b[39m\u001b[38;5;241m.\u001b[39m_run(df, \u001b[38;5;241m*\u001b[39m\u001b[38;5;241m*\u001b[39mparams)\n",
      "File \u001b[1;32m~\\YandexDisk\\tsad\\Tutorials\\..\\tsad\\base\\pipeline.py:213\u001b[0m, in \u001b[0;36mPipeline._run\u001b[1;34m(self, df, **params)\u001b[0m\n\u001b[0;32m    211\u001b[0m     \u001b[38;5;28;01mif\u001b[39;00m \u001b[38;5;28mself\u001b[39m\u001b[38;5;241m.\u001b[39mshow:\n\u001b[0;32m    212\u001b[0m         \u001b[38;5;28mself\u001b[39m\u001b[38;5;241m.\u001b[39m_annotate_task_results(result)\n\u001b[1;32m--> 213\u001b[0m         \u001b[43mresult\u001b[49m\u001b[38;5;241;43m.\u001b[39;49m\u001b[43mshow\u001b[49m\u001b[43m(\u001b[49m\u001b[43m)\u001b[49m\n\u001b[0;32m    215\u001b[0m \u001b[38;5;28;01mreturn\u001b[39;00m task_df\n",
      "File \u001b[1;32m~\\YandexDisk\\tsad\\Tutorials\\..\\tsad\\tasks\\eda.py:204\u001b[0m, in \u001b[0;36mTimeDiscretizationResult.show\u001b[1;34m(self)\u001b[0m\n\u001b[0;32m    201\u001b[0m \u001b[38;5;28;01mfrom\u001b[39;00m \u001b[38;5;21;01mIPython\u001b[39;00m\u001b[38;5;21;01m.\u001b[39;00m\u001b[38;5;21;01mdisplay\u001b[39;00m \u001b[38;5;28;01mimport\u001b[39;00m display\n\u001b[0;32m    202\u001b[0m \u001b[38;5;28mprint\u001b[39m(\u001b[38;5;28mdir\u001b[39m(\u001b[38;5;28mself\u001b[39m))\n\u001b[1;32m--> 204\u001b[0m display(\u001b[38;5;124mf\u001b[39m\u001b[38;5;124m\"\u001b[39m\u001b[38;5;124mDuring the period from \u001b[39m\u001b[38;5;132;01m{\u001b[39;00m\u001b[38;5;28;43mself\u001b[39;49m\u001b[38;5;241;43m.\u001b[39;49m\u001b[43mdataset_analysis_result\u001b[49m\u001b[38;5;241m.\u001b[39mstart_time\u001b[38;5;132;01m}\u001b[39;00m\u001b[38;5;124m to \u001b[39m\u001b[38;5;132;01m{\u001b[39;00m\u001b[38;5;28mself\u001b[39m\u001b[38;5;241m.\u001b[39mdataset_analysis_result\u001b[38;5;241m.\u001b[39mend_time\u001b[38;5;132;01m}\u001b[39;00m\u001b[38;5;124m\"\u001b[39m)\n\u001b[0;32m    205\u001b[0m display(\u001b[38;5;124mf\u001b[39m\u001b[38;5;124m\"\u001b[39m\u001b[38;5;124mWith a total duration of \u001b[39m\u001b[38;5;132;01m{\u001b[39;00m\u001b[38;5;28mself\u001b[39m\u001b[38;5;241m.\u001b[39mdataset_analysis_result\u001b[38;5;241m.\u001b[39mduration\u001b[38;5;132;01m}\u001b[39;00m\u001b[38;5;124m\"\u001b[39m)\n\u001b[0;32m    207\u001b[0m display(\u001b[38;5;124mf\u001b[39m\u001b[38;5;124m\"\u001b[39m\u001b[38;5;124mDistribution of periods between points\u001b[39m\u001b[38;5;124m\"\u001b[39m)\n",
      "\u001b[1;31mAttributeError\u001b[0m: 'TimeDiscretizationResult' object has no attribute 'dataset_analysis_result'"
     ]
    }
   ],
   "source": [
    "from tsad.tasks.eda import HighLevelDatasetAnalysisTask, TimeDiscretizationTask\n",
    "from tsad.tasks.eda import FindNaNTask, EquipmentDowntimeTask\n",
    "from tsad.tasks.preprocess import ResampleProcessingTask \n",
    "from tsad.tasks.preprocess import SplitByNaNTask, PrepareSeqSamplesTask\n",
    "from tsad.tasks.deep_learning_anomaly_detection import ResidualAnomalyDetectionTask\n",
    "from tsad.tasks.deep_learning_forecasting import DeepLeaningTimeSeriesForecastingTask\n",
    "\n",
    "from tsad.base.pipeline import Pipeline\n",
    "from tsad.base.wrappers import SklearnWrapper\n",
    "\n",
    "from sklearn.preprocessing import StandardScaler\n",
    "\n",
    "StandardScalerTask = SklearnWrapper(StandardScaler)\n",
    "\n",
    "taskset = [\n",
    "    HighLevelDatasetAnalysisTask(),\n",
    "    TimeDiscretizationTask(freq_tobe_approach='most_frequent'),\n",
    "    FindNaNTask(),\n",
    "    EquipmentDowntimeTask(),\n",
    "    ResampleProcessingTask(),\n",
    "    StandardScalerTask(),\n",
    "    SplitByNaNTask(),]\n",
    "    \n",
    "    \n",
    "pipeline = Pipeline(taskset,show=True)\n",
    "pred = pipeline.fit_predict(df,n_epochs=5)"
   ]
  },
  {
   "cell_type": "code",
   "execution_count": null,
   "id": "82908e0d",
   "metadata": {},
   "outputs": [],
   "source": []
  }
 ],
 "metadata": {
  "kernelspec": {
   "display_name": "tsad2",
   "language": "python",
   "name": "tsad2"
  },
  "language_info": {
   "codemirror_mode": {
    "name": "ipython",
    "version": 3
   },
   "file_extension": ".py",
   "mimetype": "text/x-python",
   "name": "python",
   "nbconvert_exporter": "python",
   "pygments_lexer": "ipython3",
   "version": "3.10.11"
  },
  "toc": {
   "base_numbering": 1,
   "nav_menu": {},
   "number_sections": true,
   "sideBar": true,
   "skip_h1_title": false,
   "title_cell": "Table of Contents",
   "title_sidebar": "Contents",
   "toc_cell": false,
   "toc_position": {},
   "toc_section_display": true,
   "toc_window_display": false
  }
 },
 "nbformat": 4,
 "nbformat_minor": 5
}
