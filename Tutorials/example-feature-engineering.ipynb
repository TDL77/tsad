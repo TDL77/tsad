{
 "cells": [
  {
   "cell_type": "code",
   "execution_count": 1,
   "id": "51f93df5-c1e4-490e-b62d-4c4996b2d63b",
   "metadata": {},
   "outputs": [],
   "source": [
    "# %load_ext autoreload\n",
    "# %autoreload 2"
   ]
  },
  {
   "cell_type": "code",
   "execution_count": 2,
   "id": "34316f87-18ae-45b1-b716-0ebeb8bb814f",
   "metadata": {},
   "outputs": [],
   "source": [
    "import numpy as np\n",
    "import pandas as pd"
   ]
  },
  {
   "cell_type": "code",
   "execution_count": 3,
   "id": "b0d549ab-d4be-45ed-94d2-76305a4851cf",
   "metadata": {},
   "outputs": [],
   "source": [
    "import warnings\n",
    "warnings.filterwarnings('ignore')\n",
    "warnings.simplefilter('ignore')\n",
    "warnings.simplefilter('ignore', np.RankWarning)\n",
    "\n",
    "import logging, sys\n",
    "logging.disable(sys.maxsize)"
   ]
  },
  {
   "cell_type": "markdown",
   "id": "01a0f7fd-f369-4bfe-be36-50133a37596c",
   "metadata": {},
   "source": [
    "# Load Data\n",
    "### Загрузка данных"
   ]
  },
  {
   "cell_type": "code",
   "execution_count": 4,
   "id": "a4affea6-a71f-458b-b68e-340ad3259908",
   "metadata": {},
   "outputs": [],
   "source": [
    "try: \n",
    "    from tsad.base.datasets import load_skab\n",
    "except:\n",
    "    import sys\n",
    "    sys.path.append('../')\n",
    "    from tsad.base.datasets import load_skab"
   ]
  },
  {
   "cell_type": "code",
   "execution_count": 5,
   "id": "8e208896-f3c2-47e1-9ce3-92049bac5dce",
   "metadata": {},
   "outputs": [
    {
     "data": {
      "text/plain": [
       "(1154, 10)"
      ]
     },
     "execution_count": 5,
     "metadata": {},
     "output_type": "execute_result"
    }
   ],
   "source": [
    "dataset = load_skab()\n",
    "df = dataset.frame\n",
    "df = df.reset_index(level=[0])\n",
    "df = df[df['experiment']=='valve1/6']\n",
    "df = df.drop(columns='experiment')\n",
    "df.shape"
   ]
  },
  {
   "cell_type": "code",
   "execution_count": 6,
   "id": "4ccf78d8-c81b-4920-b870-59ed8348b405",
   "metadata": {},
   "outputs": [
    {
     "data": {
      "text/plain": [
       "(1200, 10)"
      ]
     },
     "execution_count": 6,
     "metadata": {},
     "output_type": "execute_result"
    }
   ],
   "source": [
    "#TODO use task in pipeline to resample dataframe\n",
    "df = df.resample('1s').mean().ffill()\n",
    "df.shape"
   ]
  },
  {
   "cell_type": "code",
   "execution_count": 7,
   "id": "35d422f3-9674-4a44-93ce-a442f17d8835",
   "metadata": {},
   "outputs": [],
   "source": [
    "features = dataset.feature_names\n",
    "target = dataset.target_names[0]"
   ]
  },
  {
   "cell_type": "markdown",
   "id": "4f1fbaf6-314e-4819-9ef9-82fd1821c2ba",
   "metadata": {},
   "source": [
    "# Feature Generation\n",
    "### Генерация признаков"
   ]
  },
  {
   "cell_type": "markdown",
   "id": "7cf84f2f-01db-4fcf-a7c6-322f109b1e03",
   "metadata": {},
   "source": [
    "## Create a FeatureGenerationTask Instance\n",
    "#### Создание экземпляра задачи FeatureGenerationTask"
   ]
  },
  {
   "cell_type": "markdown",
   "id": "87f84c5d-ea4d-44c0-b333-f8146519ca0a",
   "metadata": {},
   "source": [
    "The `FeatureGenerationTask` is designed to facilitate feature generation from a given DataFrame based on a specified configuration. It is responsible for generating features from time series data according to a user-defined or default configuration.\n",
    "\n",
    "__RU:__ _Функция FeatureGenerationTask предназначена для облегчения генерации признаков из заданного фрейма данных на основе заданной конфигурации. Она отвечает за генерацию признаков из данных временных рядов в соответствии с пользовательской конфигурацией или конфигурацией по умолчанию._"
   ]
  },
  {
   "cell_type": "code",
   "execution_count": 8,
   "id": "e63106e7-de8b-41d3-b02f-ada364d340ca",
   "metadata": {},
   "outputs": [],
   "source": [
    "try: \n",
    "    from tsad.tasks.feature_generation import FeatureGenerationTask\n",
    "except:\n",
    "    import sys\n",
    "    sys.path.append('../')\n",
    "    from tsad.tasks.feature_generation import FeatureGenerationTask\n"
   ]
  },
  {
   "cell_type": "code",
   "execution_count": 9,
   "id": "96aaf24f-7291-4d8b-9e37-e3e1f295be32",
   "metadata": {},
   "outputs": [],
   "source": [
    "feature_generation_task = FeatureGenerationTask(config=None, features=features)"
   ]
  },
  {
   "cell_type": "markdown",
   "id": "a961dbee-fcd1-410e-9d23-0114fbd0f5f9",
   "metadata": {},
   "source": [
    "- `config` (optional): Configuration for feature generation, provided as a list of dictionaries. If not provided, default configurations will be used.\n",
    "- `features` (optional): A list of features to consider. If not specified, all available columns in the DataFrame will be used.\n",
    "\n",
    "__RU:__\n",
    "- `config` (необязательно): Конфигурация для генерации признаков, предоставляемая в виде списка словарей. Если не указано, будут использоваться конфигурации по умолчанию.\n",
    "- `features` (необязательно): Список признков, которые следует учитывать. Если не указано, будут использоваться все доступные столбцы во фрейме данных."
   ]
  },
  {
   "cell_type": "markdown",
   "id": "d6e7457e-9701-43db-9ee3-ff07666f475a",
   "metadata": {},
   "source": [
    "## Default configuration\n",
    "#### Конфигурация по умполчанию"
   ]
  },
  {
   "cell_type": "markdown",
   "id": "3d31c8c0-1699-4e87-a57b-ed9944b0cd34",
   "metadata": {},
   "source": [
    "__Default feature generation functions__:\n",
    "\n",
    "By default, this method uses the [EfficientFCParameters](https://tsfresh.readthedocs.io/en/latest/api/tsfresh.feature_extraction.html#tsfresh.feature_extraction.settings.EfficientFCParameters) function for feature generation, which provides most common optimized set of feature extraction functions.\n",
    "\n",
    "\n",
    "__Default windows__:\n",
    "\n",
    "The default window sizes for feature generation are determined based on the index frequency of the input DataFrame (_freq_df_). The following window sizes are used:\n",
    "\n",
    "- Window 1: 4 times the frequency of the DataFrame (4 * _freq_df_)\n",
    "- Window 2: 10 times the frequency of the DataFrame (10 * _freq_df_)\n",
    "\n",
    "These window sizes are selected to capture a range of temporal patterns in the time series data."
   ]
  },
  {
   "cell_type": "markdown",
   "id": "34403e7c",
   "metadata": {},
   "source": [
    "__Функции генерации признаков по умолчанию__:\n",
    "\n",
    "По умолчанию этот метод использует функцию [EfficientFCParameters](https://tsfresh.readthedocs.io/en/latest/api/tsfresh.feature_extraction.html#tsfresh.feature_extraction.settings.EfficientFCParameters) для генерации признков, которая предоставляет наиболее распространенный оптимизированный набор функций извлечения признаков.\n",
    "\n",
    "\n",
    "__Окна по умолчанию__:\n",
    "\n",
    "Размеры окон по умолчанию для генерации признков определяются на основе индексной частоты фрейма входных данных (_freq_df_). Используются следующие размеры окон:\n",
    "\n",
    "- Окно 1: частота фрейма данных в 4 раза больше (4 * _freq_df_)\n",
    "- Окно 2: частота фрейма данных в 10 раз больше (10 * _freq_df_)\n",
    "\n",
    "Эти размеры окон выбраны для того, чтобы охватить диапазон временных закономерностей в данных временных рядов."
   ]
  },
  {
   "cell_type": "markdown",
   "id": "5b819595-43f8-4c81-9d87-ab29b19269da",
   "metadata": {},
   "source": [
    "### Fitting the Task\n",
    "#### Обучение"
   ]
  },
  {
   "cell_type": "markdown",
   "id": "0771269a-68cf-4cfa-acee-515e8ed77682",
   "metadata": {},
   "source": [
    "Now that you have initialized the task, it's time to fit it to your input DataFrame. The `fit` method will perform feature generation based on your configuration. Here's how to use it:\n",
    "\n",
    "__RU:__ _Теперь, когда вы инициализировали задачу, пришло время \"подогнать\" ее к входному фрейму данных. Метод fit выполнит генерацию признаков на основе вашей конфигурации. Вот как его использовать:_"
   ]
  },
  {
   "cell_type": "code",
   "execution_count": 10,
   "id": "f51ba561-a63d-4731-ba42-5d14b0de3c25",
   "metadata": {},
   "outputs": [
    {
     "name": "stdout",
     "output_type": "stream",
     "text": [
      "CPU times: user 1.79 s, sys: 482 ms, total: 2.28 s\n",
      "Wall time: 17.2 s\n"
     ]
    },
    {
     "data": {
      "text/plain": [
       "(1200, 4342)"
      ]
     },
     "execution_count": 10,
     "metadata": {},
     "output_type": "execute_result"
    }
   ],
   "source": [
    "%%time\n",
    "# Fit the FeatureGenerationTask to your DataFrame\n",
    "df_generated, generation_result = feature_generation_task.fit_predict(df)\n",
    "df_generated.shape"
   ]
  },
  {
   "cell_type": "markdown",
   "id": "18cb4c5a-866f-49c2-a6f4-99b840119d85",
   "metadata": {},
   "source": [
    "- `df` should be your input DataFrame containing the data you want to generate features from.\n",
    "- `df_generated` will be a new DataFrame containing the original columns plus the generated features.\n",
    "- `generation_result` will hold information about the generated features."
   ]
  },
  {
   "cell_type": "markdown",
   "id": "983b6b0e",
   "metadata": {},
   "source": [
    "- `df` должен быть вашим входным фреймом данных, содержащим данные, из которых вы хотите сгенерировать признаки.\n",
    "- `df_generated` будет новым фреймом данных, содержащим исходные столбцы плюс сгенерированные признаки.\n",
    "- `generation_result` будет содержать информацию о сгенерированных признаках."
   ]
  },
  {
   "cell_type": "markdown",
   "id": "0956c29d-3a3d-4fa1-9611-6590ec6debb5",
   "metadata": {},
   "source": [
    "### Making Predictions\n",
    "#### Формирование прогнозов"
   ]
  },
  {
   "cell_type": "markdown",
   "id": "38e737a6-d40b-461e-8525-60f67f642844",
   "metadata": {},
   "source": [
    "If you want to use these generated features for predictions, you can do so easily using the `predict` method:\n",
    "\n",
    "__RU:__ _Если вы хотите использовать эти сгенерированные признаки для прогнозирования, вы можете легко сделать это, используя метод \"predict\".:_"
   ]
  },
  {
   "cell_type": "code",
   "execution_count": 11,
   "id": "a00587a1-a930-4c34-8d36-a26971c67fc5",
   "metadata": {},
   "outputs": [
    {
     "name": "stdout",
     "output_type": "stream",
     "text": [
      "CPU times: user 1.78 s, sys: 485 ms, total: 2.27 s\n",
      "Wall time: 16.4 s\n"
     ]
    },
    {
     "data": {
      "text/plain": [
       "(1200, 4342)"
      ]
     },
     "execution_count": 11,
     "metadata": {},
     "output_type": "execute_result"
    }
   ],
   "source": [
    "%%time\n",
    "df_predicted, _ = feature_generation_task.predict(df, generation_result)\n",
    "df_predicted.shape"
   ]
  },
  {
   "cell_type": "markdown",
   "id": "d61c94f8-c1ca-41e5-babd-cbc156d087f7",
   "metadata": {},
   "source": [
    "## Custom configuration\n",
    "#### Пользовательская конфигурация"
   ]
  },
  {
   "cell_type": "markdown",
   "id": "decbab62-f758-434f-9626-2d18f05a13b7",
   "metadata": {},
   "source": [
    "When performing feature generation, you have the flexibility to define a custom configuration tailored to your specific needs. This custom configuration allows you to select a set of feature extraction functions, specify the series (columns) to which these functions will be applied, and define the windows for calculating these features.\n",
    "\n",
    "__RU:__ _При выполнении генерации признаков у вас есть возможность гибко определить пользовательскую конфигурацию, адаптированную к вашим конкретным потребностям. Эта пользовательская конфигурация позволяет вам выбрать набор функций извлечения признаков, указать ряды (столбцы), к которым будут применяться эти функции, и определить окна для вычисления._"
   ]
  },
  {
   "cell_type": "markdown",
   "id": "f6571a02-0972-4555-88e5-f4ee5cca8e8d",
   "metadata": {},
   "source": [
    "### Custom Configuration Example\n",
    "#### Пример пользовательской конфигурации"
   ]
  },
  {
   "cell_type": "markdown",
   "id": "1dc70f54-5f11-4c64-bd93-2ac355ce534e",
   "metadata": {},
   "source": [
    "If you need to customize the feature generation process, you can provide your own configuration. The config parameter allows you to define a list of dictionaries, each specifying a set of features to generate.\n",
    "\n",
    "__RU:__ _Если вам нужно настроить процесс генерации признков, вы можете предоставить свою собственную конфигурацию. Параметр config позволяет вам определить список словарей, в каждом из которых указан набор признаков для генерации._"
   ]
  },
  {
   "cell_type": "code",
   "execution_count": 12,
   "id": "e5a88c80-37a7-4b22-abb3-9976c5ee9c57",
   "metadata": {},
   "outputs": [],
   "source": [
    "import scipy.stats as ss\n",
    "\n",
    "from tsflex.features import FuncWrapper\n",
    "from tsflex.features.utils import make_robust"
   ]
  },
  {
   "cell_type": "code",
   "execution_count": 13,
   "id": "d7d4438b-3092-4e85-8a16-aba9545ff341",
   "metadata": {},
   "outputs": [],
   "source": [
    "def slope(x): return (x[-1] - x[0]) / x[0] if x[0] else 0\n",
    "def abs_diff_mean(x): return np.mean(np.abs(x[1:] - x[:-1])) if len(x) > 1 else 0\n",
    "def diff_std(x): return np.std(x[1:] - x[:-1]) if len(x) > 1 else 0\n",
    "\n",
    "funcs = [make_robust(f) for f in [np.min, np.max, np.std, np.mean, slope, ss.skew, abs_diff_mean, diff_std, sum, len,]]\n",
    "\n",
    "custom_config = [\n",
    "    {\"functions\": funcs,\n",
    "     'series_names': ['Pressure', 'Temperature'],\n",
    "     \"windows\": [\"10s\", \"60s\"],\n",
    "    }\n",
    "]"
   ]
  },
  {
   "cell_type": "markdown",
   "id": "fab0fec6-b573-4650-ad12-6a948696ef2f",
   "metadata": {},
   "source": [
    "- `functions`: This is a list of feature extraction functions that will be applied to the selected series. These functions are defined in the `funcs` list, which includes functions like minimum, maximum, standard deviation, mean, slope, skewness, and more. You can customize this list to include the specific functions that are relevant to your analysis.\n",
    "\n",
    "- `series_names`: This is a list of column names in your DataFrame to which the feature extraction functions will be applied. In this example, the functions will be applied to the `Pressure` and `Temperature` series. You can modify this list to include the names of the series you want to analyze.\n",
    "\n",
    "- `windows`: This is a list of window sizes for feature calculation. In this example, two window sizes are specified: \"1s\" (1 second) and \"60s\" (60 seconds). These window sizes determine how the time series data will be segmented for feature extraction. Adjust these window sizes based on your analysis requirements."
   ]
  },
  {
   "cell_type": "markdown",
   "id": "87569fde",
   "metadata": {},
   "source": [
    "__RU:__\n",
    "\n",
    "- `functions`: это список функций извлечения признаков, которые будут применены к выбранной серии. Эти функции определены в списке `func`, который включает в себя такие функции, как минимум, максимум, стандартное отклонение, среднее значение, наклон, асимметрия и другие. Вы можете настроить этот список, включив в него конкретные функции, имеющие отношение к вашему анализу.\n",
    "\n",
    "- `series_names`: это список имен столбцов в вашем DataFrame, к которым будут применяться функции извлечения признаков. В этом примере функции будут применены к сериям `Pressure`и `Temperature`. Вы можете изменить этот список, включив в него названия серий, которые вы хотите проанализировать.\n",
    "\n",
    "- `windows`: это список размеров окон для расчета объектов. В этом примере указаны два размера окна: «1s» (1 секунда) и «60s» (60 секунд). Эти размеры окна определяют, как данные временных рядов будут сегментированы для извлечения признаков. Настройте размеры этих окон в соответствии с вашими требованиями к анализу."
   ]
  },
  {
   "cell_type": "markdown",
   "id": "a978f6c8-e0cc-4edb-85e4-02cc118d2168",
   "metadata": {},
   "source": [
    "### Feature Extraction Functions\n",
    "\n",
    "Feature Extraction functions compute various statistical, temporal, spectral, and other characteristics of time series data. In your feature generation task, you can use a variety of feature extraction functions from libraries like tsfresh, tsfel, numpy, scipy, or even custom functions. \n"
   ]
  },
  {
   "cell_type": "markdown",
   "id": "d1615b04",
   "metadata": {},
   "source": [
    "__RU:__\n",
    "\n",
    "Функции извлечения признаков\n",
    "\n",
    "Функции извлечения признаков вычисляют различные статистические, временные, спектральные и другие характеристики данных временных рядов. В задаче создания функций вы можете использовать различные функции извлечения функций из библиотек, таких как tsfresh, tsfel, numpy, scipy или даже пользовательские функции."
   ]
  },
  {
   "cell_type": "markdown",
   "id": "2ffd87ca-1227-4c0f-bca2-b9bbba08ea36",
   "metadata": {},
   "source": [
    "__Feature Extraction Categories__:\n",
    "\n",
    "1. _Statistical Features_:\n",
    "These features capture statistical properties of the time series data.\n",
    "Common statistical features include mean, median, standard deviation, skewness, kurtosis, variance, and more.\n",
    "Example: `np.mean`, `tsfresh.feature_extraction.feature_calculators.median`, etc.\n",
    "\n",
    "2. _Temporal Features_:\n",
    "Temporal features describe patterns over time within the time series.\n",
    "Examples include autocorrelation, mean absolute difference, mean difference, distance, absolute energy, and more.\n",
    "Example: `tsfresh.feature_extraction.features.autocorr`, `tsfel.features.mean_abs_diff`, etc.\n",
    "\n",
    "\n",
    "3. _Spectral Features_:\n",
    "Spectral features provide insights into the frequency domain characteristics of the time series.\n",
    "These features include wavelet entropy, spectral entropy, power spectral density, and more.\n",
    "Example: `tsfresh.feature_extraction.features.wavelet_entropy`, `tsfel.features.spectral_entropy`, etc.\n",
    "\n",
    "4. _Custom Functions_:\n",
    "You can define custom feature extraction functions tailored to your specific analysis requirements.\n",
    "These functions can capture domain-specific insights or unique patterns in the data.\n",
    "Example: Custom functions like `slope(x)`, `abs_diff_mean(x)`, and `diff_std(x)` defined in code.\n",
    "\n",
    "5. _External Libraries_:\n",
    "You can leverage external libraries like tsfresh and tsfel for a wide range of pre-defined feature extraction functions.\n",
    "These libraries offer functions for calculating advanced features such as entropy, time-domain, and frequency-domain features.\n",
    "Example: `tsfresh.feature_extraction.features.entropy`, `tsfel.features.abs_energy`"
   ]
  },
  {
   "cell_type": "markdown",
   "id": "d6f6b43d",
   "metadata": {},
   "source": [
    "__Категории извлечения признаков__:\n",
    "\n",
    "1. _Статистические характеристики_:\n",
    "Эти признаки отражают статистические свойства данных временных рядов.\n",
    "Общие статистические характеристики включают среднее значение, медиану, стандартное отклонение, асимметрию, эксцесс, дисперсию и многое другое.\n",
    "Пример: `np.mean`, `tsfresh.feature_extraction.feature_calculators.median` и т.д.\n",
    "\n",
    "2. _Временные характеристики_:\n",
    "Временные характеристики описывают закономерности во времени внутри временного ряда.\n",
    "Примеры включают автокорреляцию, среднюю абсолютную разницу, среднюю разницу, расстояние, абсолютную энергию и многое другое.\n",
    "Пример: `tsfresh.feature_extraction.features.autocorr`, `tsfel.features.mean_abs_diff` и т. д.\n",
    "\n",
    "\n",
    "3. _Спектральные характеристики_:\n",
    "Спектральные характеристики дают представление о характеристиках временного ряда в частотной области.\n",
    "Эти функции включают вейвлет-энтропию, спектральную энтропию, спектральную плотность мощности и многое другое.\n",
    "Пример: `tsfresh.feature_extraction.features.wavelet_entropy`, `tsfel.features.spectral_entropy` и т. д.\n",
    "\n",
    "4. _Пользовательские функции_:\n",
    "Вы можете определить пользовательские функции извлечения признаков, адаптированные к вашим конкретным требованиям анализа.\n",
    "Эти функции могут фиксировать специфичную для предметной области информацию или уникальные закономерности в данных.\n",
    "Пример: пользовательские функции, такие как `slope(x)`, `abs_diff_mean(x)` и `diff_std(x)`, определенные в коде.\n",
    "\n",
    "5. _Внешние библиотеки_:\n",
    "Вы можете использовать внешние библиотеки, такие как tsfresh и tsfel, для широкого спектра предопределенных функций извлечения признаков.\n",
    "Эти библиотеки предлагают функции для расчета расширенных функций, таких как энтропия, функции во временной и частотной областях.\n",
    "Пример: `tsfresh.feature_extraction.features.entropy`, `tsfel.features.abs_energy`"
   ]
  },
  {
   "cell_type": "code",
   "execution_count": 14,
   "id": "04bddb74-aad3-457b-a206-ddb079e7bf9f",
   "metadata": {},
   "outputs": [],
   "source": [
    "from tsfel.feature_extraction.features import (\n",
    "    # Some temporal features\n",
    "    autocorr, mean_abs_diff, mean_diff, distance, zero_cross,\n",
    "    abs_energy, pk_pk_distance, entropy, neighbourhood_peaks,\n",
    "    # Some statistical features\n",
    "    interq_range, kurtosis, skewness, calc_max, calc_median, \n",
    "    median_abs_deviation, rms, \n",
    "    # Some spectral features\n",
    "    #  -> Almost all are \"advanced\" features\n",
    "    wavelet_entropy\n",
    ")\n",
    "\n",
    "tsfel_funcs = [\n",
    "    # Temporal\n",
    "    autocorr, mean_abs_diff, mean_diff, distance,\n",
    "    abs_energy, pk_pk_distance, neighbourhood_peaks,\n",
    "    # FuncWrapper(entropy, prob=\"kde\", output_names=\"entropy_kde\"),\n",
    "    # FuncWrapper(entropy, prob=\"gauss\", output_names=\"entropy_gauss\"),\n",
    "    # # Statistical\n",
    "    interq_range, kurtosis, skewness, calc_max, calc_median, \n",
    "    median_abs_deviation, rms,\n",
    "    # Spectral\n",
    "    wavelet_entropy,  \n",
    "]\n",
    "\n",
    "# tsfresh\n",
    "from tsfresh.feature_extraction.feature_calculators import (\n",
    "    cid_ce,\n",
    "    variance_larger_than_standard_deviation,\n",
    ")\n",
    "\n",
    "tsfresh_funcs=[\n",
    "        variance_larger_than_standard_deviation,\n",
    "        FuncWrapper(cid_ce, normalize=True),\n",
    "    ]"
   ]
  },
  {
   "cell_type": "markdown",
   "id": "2b7a6414-c4d9-4de0-ae2d-d39b2c576177",
   "metadata": {},
   "source": [
    "__Choosing Feature Extraction Functions__\n",
    "\n",
    "When choosing feature extraction functions for your analysis, consider the following factors:\n",
    "\n",
    "- Relevance: Select functions that are relevant to your analysis goals. For instance, if you're interested in detecting periodicity, consider using autocorrelation or spectral features.\n",
    "\n",
    "- Computational Efficiency: Consider the computational cost of the functions, especially when dealing with large datasets. Some functions may be computationally expensive.\n",
    "  \n",
    "- Domain Knowledge: Leverage your domain knowledge to identify features that have interpretability and meaning in your specific domain.\n",
    "  \n",
    "- Customization: Don't hesitate to define custom functions if the standard functions do not capture the patterns you're interested in."
   ]
  },
  {
   "cell_type": "markdown",
   "id": "0de730a7",
   "metadata": {},
   "source": [
    "__Выбор функций извлечения признаков__\n",
    "\n",
    "При выборе функций извлечения признаков для анализа учитывайте следующие факторы:\n",
    "\n",
    "- Актуальность: выберите функции, соответствующие целям вашего анализа. Например, если вы заинтересованы в обнаружении периодичности, рассмотрите возможность использования автокорреляции или спектральных функций.\n",
    "\n",
    "- Эффективность вычислений: учитывайте вычислительные затраты функций, особенно при работе с большими наборами данных. Некоторые функции могут быть дорогостоящими в вычислительном отношении.\n",
    "  \n",
    "- Знание предметной области: используйте свои знания предметной области для определения функций, которые можно интерпретировать и которые имеют значение в вашей конкретной предметной области.\n",
    "  \n",
    "- Настройка: не стесняйтесь определять пользовательские функции, если стандартные функции не отражают интересующие вас шаблоны."
   ]
  },
  {
   "cell_type": "markdown",
   "id": "ea33a02c-ab26-4cb3-afa0-cebbf1ff4b70",
   "metadata": {},
   "source": [
    "### Applying Custom Configuration\n",
    "#### Применение пользовательской конфигурации"
   ]
  },
  {
   "cell_type": "markdown",
   "id": "7ba16755-21cd-426a-9fbe-b60beacb843d",
   "metadata": {},
   "source": [
    "To apply the custom configuration for feature generation, you can use the FeatureGenerationTask class. Here's an example of how to use it:\n",
    "\n",
    "__RU:__ _Чтобы применить пользовательскую конфигурацию для создания признаков, вы можете использовать класс FeatureGenerationTask. Вот пример того, как его использовать:_"
   ]
  },
  {
   "cell_type": "code",
   "execution_count": 15,
   "id": "36e0f4b1-a936-4fc2-9fdc-32e042d4e84f",
   "metadata": {},
   "outputs": [
    {
     "name": "stdout",
     "output_type": "stream",
     "text": [
      "CPU times: user 7 µs, sys: 2 µs, total: 9 µs\n",
      "Wall time: 10 µs\n"
     ]
    }
   ],
   "source": [
    "%%time\n",
    "# Define your custom configuration\n",
    "custom_config = [\n",
    "    {\"functions\": funcs,\n",
    "     'series_names': ['Pressure', 'Temperature'],\n",
    "     \"windows\": [\"10s\", \"60s\"],\n",
    "    },\n",
    "    {\"functions\": tsfel_funcs,\n",
    "     'series_names': ['Pressure', 'Temperature', 'Thermocouple', 'Voltage'],\n",
    "     \"windows\": [\"30s\", \"60s\"],\n",
    "    },\n",
    "    {\"functions\": tsfresh_funcs,\n",
    "     'series_names': ['Pressure', 'Temperature'],\n",
    "     \"windows\": [\"20s\", \"60s\"],\n",
    "    },\n",
    "]\n",
    "\n",
    "custom_feature_generation_task = FeatureGenerationTask(config=custom_config, features=features)"
   ]
  },
  {
   "cell_type": "code",
   "execution_count": 16,
   "id": "275a55d9-a0b9-42c0-8f3c-e1995b28ed81",
   "metadata": {},
   "outputs": [
    {
     "name": "stdout",
     "output_type": "stream",
     "text": [
      "CPU times: user 93.4 ms, sys: 54.8 ms, total: 148 ms\n",
      "Wall time: 1.15 s\n"
     ]
    },
    {
     "data": {
      "text/plain": [
       "(1200, 178)"
      ]
     },
     "execution_count": 16,
     "metadata": {},
     "output_type": "execute_result"
    }
   ],
   "source": [
    "%%time\n",
    "df_generated, generation_result = custom_feature_generation_task.fit_predict(df)\n",
    "df_generated.shape"
   ]
  },
  {
   "cell_type": "code",
   "execution_count": 17,
   "id": "5bb92d7a-6d91-42ae-b1dc-1b87346a6e8a",
   "metadata": {},
   "outputs": [
    {
     "name": "stdout",
     "output_type": "stream",
     "text": [
      "CPU times: user 85.7 ms, sys: 47.7 ms, total: 133 ms\n",
      "Wall time: 1.1 s\n"
     ]
    },
    {
     "data": {
      "text/plain": [
       "(1200, 178)"
      ]
     },
     "execution_count": 17,
     "metadata": {},
     "output_type": "execute_result"
    }
   ],
   "source": [
    "%%time\n",
    "df_predicted, _ = custom_feature_generation_task.predict(df, generation_result)\n",
    "df_predicted.shape"
   ]
  },
  {
   "cell_type": "markdown",
   "id": "79f7a246-956c-42da-8aeb-6a881ebbe8b9",
   "metadata": {},
   "source": [
    "# Feature Selection\n",
    "### Выбор признаков"
   ]
  },
  {
   "cell_type": "markdown",
   "id": "405c1ba4-0391-43ad-927c-dac0f220417a",
   "metadata": {},
   "source": [
    "## Create a FeatureSelectionTask Instance\n",
    "### Создайте экземпляр FeatureSelectionTask"
   ]
  },
  {
   "cell_type": "code",
   "execution_count": 18,
   "id": "0b3daf1c-6ea3-4264-9912-531107aac0f6",
   "metadata": {},
   "outputs": [],
   "source": [
    "try: \n",
    "    from tsad.tasks.feature_selection import FeatureSelectionTask\n",
    "except:\n",
    "    import sys\n",
    "    sys.path.append('../')\n",
    "    from tsad.tasks.feature_selection import FeatureSelectionTask\n"
   ]
  },
  {
   "cell_type": "markdown",
   "id": "303ee1b0-dd57-4858-a7b3-24af1c9e19d2",
   "metadata": {},
   "source": [
    "\n",
    "The `FeatureSelectionTask` class is part of `tsad` framework and is used for feature selection. Here's an overview of its main attributes:\n",
    "\n",
    "- `target`: The target feature name you want to predict.\n",
    "- `n_features_to_select`: Number of features to select (a fraction or an integer).\n",
    "- `feature_selection_method`: Method for feature selection. Options include 'univariate', 'tsfresh', 'sequential', or 'frommodel'.\n",
    "- `feature_selection_estimator`: Estimator used for feature selection (e.g., 'regressor' or 'classifier').\n",
    "remove_constant_features: Whether to remove constant features.\n",
    "\n",
    "When creating a `FeatureSelectionTask` instance, you can customize several parameters to tailor the feature selection process to your specific needs. Here's a detailed explanation of these parameters:\n",
    "\n",
    "- `target` (str):\n",
    "  - Required: Specify the name of your target feature. This is the feature you want to predict using your machine learning model.\n",
    "- `n_features_to_select` (float | int | None):\n",
    "  - Optional: Number of features to select.\n",
    "  - If you provide an integer value, it will select that exact number of features.\n",
    "  - If you provide a float value (e.g., 0.2), it will select a fraction of features based on the total number of available features.\n",
    "  - Setting it to None (default) will not perform any feature selection based on the number of features.\n",
    "- `feature_selection_method` (str | None):\n",
    "  - Optional: Method for feature selection.\n",
    "  - Options include:\n",
    "    - `univariate`: Perform univariate feature selection based on statistical tests.\n",
    "    - `tsfresh`: Utilize the `tsfresh` library for automated time series feature selection.\n",
    "    - `sequential`: Sequential feature selection using an estimator (e.g., RandomForest) for classification or regression.\n",
    "    - `frommodel`: Select features using an estimator (e.g., RandomForest) for classification or regression.\n",
    "  - If set to `None` (default), it will use the `frommodel` method by default.\n",
    "- `feature_selection_estimator` (str | None):\n",
    "  - Optional: Feature selection estimator.\n",
    "  - If you choose 'sequential' or 'frommodel' as the feature selection method, you need to specify the estimator.\n",
    "  - Options depend on your specific use case (e.g., 'classifier' or 'regressor' for classification or regression tasks).\n",
    "  - If set to None (default), it will use 'regressor' as the default estimator.\n",
    "- `remove_constant_features` (bool):\n",
    "  - Optional: Whether to remove constant features from the dataset.\n",
    "  - Constant features have the same value for all samples and usually don't provide valuable information.\n",
    "  - Setting it to `True` (default) will remove constant features, and False will keep them in the dataset.\n",
    "\n",
    "Let's create an instance of `FeatureSelectionTask` and specify the configuration for feature selection."
   ]
  },
  {
   "cell_type": "markdown",
   "id": "7271f463",
   "metadata": {},
   "source": [
    "__RU:__\n",
    "\n",
    "Класс FeatureSelectionTask является частью платформы tsad и используется для выбора признков. Вот краткий обзор его основных свойств:\n",
    "\n",
    "- `target`: имя целевого объекта, который вы хотите предсказать.\n",
    "- `n_features_to_select`: количество признаков для выбора (дробное или целое число).\n",
    "- `feature_selection_method`: метод выбора признков. Возможные варианты: 'univariate', 'tsfresh', 'sequential', или 'frommodel'.\n",
    "- `feature_selection_estimator`: оценщик, используемый для выбора признаки (например, 'regressor' или 'classifier').\n",
    "- `remove_constant_features`: Удалять ли постоянные признаки.\n",
    "\n",
    "При создании экземпляра `FeatureSelectionTask` вы можете настроить несколько параметров, чтобы адаптировать процесс выбора признаков к вашим конкретным потребностям. Вот подробное объяснение этих параметров:\n",
    "\n",
    "- `target` (стр):\n",
    "   - Обязательно: укажите имя целевого признака. Это признак, которуй вы хотите предсказать, используя свою модель машинного обучения.\n",
    "- `n_features_to_select` (float | int | None):\n",
    "   - Необязательно: количество признаков для выбора.\n",
    "   - Если вы укажете целое значение, будет выбрано именно это количество признаков.\n",
    "   - Если вы укажете плавающее значение (например, 0,2), будет выбрана часть признаков в зависимости от общего количества доступных признаков.\n",
    "   - Установка значения «Нет» (по умолчанию) не приведет к выбору признаков на основе количества.\n",
    "- `feature_selection_method` (str | Нет):\n",
    "   - Необязательно: метод выбора признаков.\n",
    "   - Опции включают в себя:\n",
    "     - `univariate`: выполнить одномерный выбор признаков на основе статистических тестов.\n",
    "     - `tsfresh`: используйте библиотеку `tsfresh` для автоматического выбора признаков временных рядов.\n",
    "     - `sequential`: последовательный выбор признаков с использованием оценщика (например, RandomForest) для классификации или регрессии.\n",
    "     - `frommodel`: выберите признаки с помощью оценщика (например, RandomForest) для классификации или регрессии.\n",
    "   — Если установлено значение «Нет» (по умолчанию), по умолчанию будет использоваться метод «frommodel».\n",
    "- `feature_selection_estimator` (str | Нет):\n",
    "   - Необязательно: средство оценки выбора признаков.\n",
    "   - Если вы выбираете «последовательный» или «из модели» в качестве метода выбора признаков, вам необходимо указать оценщик.\n",
    "   – Параметры зависят от вашего конкретного варианта использования (например, «классификатор» или «регрессор» для задач классификации или регрессии).\n",
    "   - Если установлено значение «Нет» (по умолчанию), в качестве оценщика по умолчанию будет использоваться «регрессор».\n",
    "- `remove_constant_features` (bool):\n",
    "   - Необязательно: удалять ли постоянные признаки из набора данных.\n",
    "   - Постоянные признаки имеют одинаковое значение для всех образцов и обычно не дают ценной информации.\n",
    "   - Установка значения «True» (по умолчанию) приведет к удалению постоянных признаков, а значение False сохранит их в наборе данных.\n",
    "\n",
    "Давайте создадим экземпляр FeatureSelectionTask и укажем конфигурацию для выбора признаков."
   ]
  },
  {
   "cell_type": "code",
   "execution_count": 19,
   "id": "b65591c0-915c-4620-8e5e-615c4f8560db",
   "metadata": {},
   "outputs": [],
   "source": [
    "feature_selection_task = FeatureSelectionTask(\n",
    "    target=target,  # Specify your target feature name\n",
    "    n_features_to_select=0.2,  # Number of features to select (you can use an integer or fraction)\n",
    "    feature_selection_method='univariate',  # Choose your feature selection method\n",
    "    feature_selection_estimator='classifier',  # Choose your estimator (for classification)\n",
    "    remove_constant_features=True  # Remove constant features\n",
    ")"
   ]
  },
  {
   "cell_type": "markdown",
   "id": "58cf42f3-1108-4655-9ea1-4e4ec9179631",
   "metadata": {},
   "source": [
    "## Fit and Select Features\n",
    "#### Обучить и выбрать признаки"
   ]
  },
  {
   "cell_type": "markdown",
   "id": "25921166-2384-405d-a725-013e1407067d",
   "metadata": {},
   "source": [
    "Next, we'll fit the `FeatureSelectionTask` to our dataset and perform feature selection. This step will return a DataFrame with the selected features and a result object for further analysis.\n",
    "\n",
    "__RU:__ _Далее мы адаптируем `FeatureSelectionTask` к нашему набору данных и выполним выбор признаков. Этот шаг вернет DataFrame с выбранными признаками и объектом результата для дальнейшего анализа._"
   ]
  },
  {
   "cell_type": "code",
   "execution_count": 20,
   "id": "99624a50-005d-4885-824c-74b8ec311de4",
   "metadata": {},
   "outputs": [
    {
     "name": "stdout",
     "output_type": "stream",
     "text": [
      "(1200, 178)\n",
      "(1200, 33)\n"
     ]
    }
   ],
   "source": [
    "print(df_generated.shape)\n",
    "df_selected, result = feature_selection_task.fit_predict(df_generated)\n",
    "print(df_selected.shape)"
   ]
  },
  {
   "cell_type": "markdown",
   "id": "d09f8797-b17b-4541-bea8-451d3a4f119a",
   "metadata": {},
   "source": [
    "Now that we have our selected features in the `df_selected` DataFrame, we can proceed with model training and evaluation.\n",
    "\n",
    "__RU:__ _Теперь, когда у нас есть выбранные признаки в DataFrame df_selected, мы можем приступить к обучению и оценке модели._"
   ]
  },
  {
   "cell_type": "code",
   "execution_count": 21,
   "id": "24d4348b-cf37-40db-b32e-7716163eece8",
   "metadata": {},
   "outputs": [
    {
     "data": {
      "text/plain": [
       "(1200, 33)"
      ]
     },
     "execution_count": 21,
     "metadata": {},
     "output_type": "execute_result"
    }
   ],
   "source": [
    "feature_selection_task.predict(df_generated, result)[0].shape"
   ]
  },
  {
   "cell_type": "markdown",
   "id": "20ef44c0-6d4c-4ac7-914b-308d1b14e903",
   "metadata": {},
   "source": [
    "# Make Pipeline\n",
    "### Создание конвейера"
   ]
  },
  {
   "cell_type": "code",
   "execution_count": 22,
   "id": "2a4d0acd-a1a1-48dd-830a-392d3471fb8e",
   "metadata": {},
   "outputs": [],
   "source": [
    "try: \n",
    "    from tsad.base.pipeline import Pipeline\n",
    "except:\n",
    "    import sys\n",
    "    sys.path.append('../')\n",
    "    from tsad.base.pipeline import Pipeline"
   ]
  },
  {
   "cell_type": "markdown",
   "id": "8f51dc72-65f7-4a75-9b93-36733ede356b",
   "metadata": {},
   "source": [
    "You have defined a combined pipeline using the `Pipeline` class, which allows you to define and execute multiple data processing tasks sequentially. The pipeline consists of two main tasks: feature generation and feature selection.\n",
    "\n",
    "__RU:__ _Вы определили комбинированный конвейер с помощью класса Pipeline, который позволяет вам последовательно определять и выполнять несколько задач обработки данных. Конвейер состоит из двух основных задач: создания признаков и их выбора._"
   ]
  },
  {
   "cell_type": "code",
   "execution_count": 23,
   "id": "39e0372d-bf3c-4e6f-bb58-73b72ee16a55",
   "metadata": {},
   "outputs": [],
   "source": [
    "pipeline = Pipeline([\n",
    "    FeatureGenerationTask(features=features, config=None),\n",
    "    FeatureSelectionTask(target=target, \n",
    "                         remove_constant_features=True,\n",
    "                         feature_selection_method='univariate', \n",
    "                         feature_selection_estimator='classifier'\n",
    "                        ),\n",
    "                    ]\n",
    ")"
   ]
  },
  {
   "cell_type": "markdown",
   "id": "07fcce41-8b03-4d9c-8cd1-2eeb8cc0c636",
   "metadata": {},
   "source": [
    "__Feature Generation Task__\n",
    "\n",
    "The first task in the pipeline is the `FeatureGenerationTask`. This task is responsible for generating new features from the input data. You can customize the features to generate by providing a list of feature names in the features parameter. In this case, config is set to None, indicating that the default configuration for feature generation will be used.\n",
    "\n",
    "__Feature Selection Task__\n",
    "\n",
    "The second task in the pipeline is the `FeatureSelectionTask`. This task is focused on selecting a subset of relevant features from the ones generated in the previous step."
   ]
  },
  {
   "cell_type": "markdown",
   "id": "825b30b0",
   "metadata": {},
   "source": [
    "__Задача создания признаков__\n",
    "\n",
    "Первой задачей в конвейере является `FeatureGenerationTask`. Эта задача отвечает за создание новых признаков из входных данных. Вы можете настроить генерируемые признаки, указав список имен признаков в параметре Features. В этом случае для параметра config установлено значение None, что указывает на то, что для создания признаков будет использоваться конфигурация по умолчанию.\n",
    "\n",
    "__Задача выбора признаков__\n",
    "\n",
    "Вторая задача в конвейере — `FeatureSelectionTask`. Эта задача сосредоточена на выборе подмножества соответствующих признаков из созданных на предыдущем шаге."
   ]
  },
  {
   "cell_type": "markdown",
   "id": "a84412a5-8615-427a-bd43-7753fff1e79c",
   "metadata": {},
   "source": [
    "## Fitting the Pipeline\n",
    "#### Обучение конвейера"
   ]
  },
  {
   "cell_type": "markdown",
   "id": "c38f1351-838e-41e9-ab5f-cf4828be4c17",
   "metadata": {},
   "source": [
    "After defining the pipeline, you can fit it to your dataset using the `fit_predict` method:\n",
    "\n",
    "__RU:__ _После определения конвейера вы можете обучить его на своем наборе данных с помощью метода `fit_predict`:_"
   ]
  },
  {
   "cell_type": "code",
   "execution_count": 24,
   "id": "ea81323d-2614-4dc9-b43e-0ad9bf3da307",
   "metadata": {},
   "outputs": [
    {
     "name": "stdout",
     "output_type": "stream",
     "text": [
      "CPU times: user 2.39 s, sys: 518 ms, total: 2.91 s\n",
      "Wall time: 17 s\n"
     ]
    },
    {
     "data": {
      "text/plain": [
       "(1200, 637)"
      ]
     },
     "execution_count": 24,
     "metadata": {},
     "output_type": "execute_result"
    }
   ],
   "source": [
    "%%time\n",
    "df_fit = pipeline.fit_predict(df)\n",
    "df_fit.shape"
   ]
  },
  {
   "cell_type": "markdown",
   "id": "2cfb6cb4-cb27-47fc-821b-2cc38b9dca2e",
   "metadata": {},
   "source": [
    "Here, `df` represents input DataFrame. When you call `pipeline.fit(df)`, it performs the following steps:\n",
    "\n",
    "1. The `FeatureGenerationTask` generates new features from the input DataFrame `df`.\n",
    "2. The `FeatureSelectionTask` selects a subset of features based on the specified criteria, including removing constant features and using a classification-based estimator.\n",
    "3. The resulting DataFrame with the selected features is stored in the variable `df_fit`."
   ]
  },
  {
   "cell_type": "markdown",
   "id": "ac2aeff9",
   "metadata": {},
   "source": [
    "__RU:__\n",
    "Здесь `df` представляет собой входной DataFrame. Когда вы вызываете `pipeline.fit_predict(df)`, он выполняет следующие шаги:\n",
    "\n",
    "1. FeatureGenerationTask генерирует новые признаки из входного DataFrame df.\n",
    "2. FeatureSelectionTask выбирает подмножество признаков на основе заданных критериев, включая удаление постоянных признаков и использование средства оценки на основе классификации.\n",
    "3. Полученный DataFrame с выбранными признаками сохраняется в переменной df_fit."
   ]
  },
  {
   "cell_type": "markdown",
   "id": "16aab6aa-891d-4100-874e-528dd9358f7a",
   "metadata": {},
   "source": [
    "## Predicting with the Pipeline\n",
    "#### Прогнозирование в конвейере"
   ]
  },
  {
   "cell_type": "markdown",
   "id": "5f275814-6a99-4748-a8c8-2cf3934e0852",
   "metadata": {},
   "source": [
    "Once you have fitted your combined pipeline to your dataset using the `fit` method, you can also use it to make predictions. Here's how you can predict using the pipeline:\n",
    "\n",
    "__RU:__ _После того как вы адаптировали комбинированный конвейер к набору данных с помощью метода `fit`, вы также можете использовать его для прогнозирования. Вот как можно прогнозировать с помощью конвейера:_"
   ]
  },
  {
   "cell_type": "code",
   "execution_count": 25,
   "id": "82312eb4-fe88-4bf9-9c9c-4ec55229bfc0",
   "metadata": {},
   "outputs": [
    {
     "name": "stdout",
     "output_type": "stream",
     "text": [
      "CPU times: user 323 ms, sys: 188 ms, total: 511 ms\n",
      "Wall time: 3.47 s\n"
     ]
    },
    {
     "data": {
      "text/plain": [
       "(1200, 637)"
      ]
     },
     "execution_count": 25,
     "metadata": {},
     "output_type": "execute_result"
    }
   ],
   "source": [
    "%%time\n",
    "df_predict = pipeline.predict(df)\n",
    "df_predict.shape"
   ]
  },
  {
   "cell_type": "markdown",
   "id": "1c01193e-67cc-4e0a-92e9-468b7e4f4883",
   "metadata": {},
   "source": [
    "The `predict` method is used to apply the trained pipeline to a new dataset (`df` in this case) and generate predictions or transformations based on the previously learned feature generation and selection steps.\n",
    "\n",
    "__RU:__ _Метод `predict` используется для применения обученного конвейера к новому набору данных (в данном случае «df») и генерации прогнозов или преобразований на основе ранее изученных шагов генерации и выбора признаков._"
   ]
  }
 ],
 "metadata": {
  "kernelspec": {
   "display_name": "venv",
   "language": "python",
   "name": "python3"
  },
  "language_info": {
   "codemirror_mode": {
    "name": "ipython",
    "version": 3
   },
   "file_extension": ".py",
   "mimetype": "text/x-python",
   "name": "python",
   "nbconvert_exporter": "python",
   "pygments_lexer": "ipython3",
   "version": "3.10.0"
  }
 },
 "nbformat": 4,
 "nbformat_minor": 5
}
