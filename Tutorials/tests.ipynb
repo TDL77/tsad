{
 "cells": [
  {
   "cell_type": "code",
   "execution_count": 1,
   "metadata": {},
   "outputs": [],
   "source": [
    "import sys\n",
    "import logging\n",
    "\n",
    "sys.path.insert(1, '../')\n",
    "\n",
    "from importlib import reload\n",
    "\n",
    "reload(logging)\n",
    "logging.basicConfig(stream=sys.stdout, level=logging.DEBUG, format='%(message)s')"
   ]
  },
  {
   "cell_type": "code",
   "execution_count": 2,
   "metadata": {},
   "outputs": [],
   "source": [
    "from tsad.pipelines import Pipeline\n",
    "from tsad.tasks.eda import HighLevelDatasetAnalysisTask, TimeDiscretizationTask, FindNaNTask, EquipmentDowntimeTask\n",
    "from tsad.tasks.preprocess import ScalingTask, ValueRangeProcessingTask\n",
    "\n",
    "from tsad.datasets import load_combines"
   ]
  },
  {
   "cell_type": "code",
   "execution_count": 5,
   "metadata": {},
   "outputs": [],
   "source": [
    "dataset = load_combines()"
   ]
  },
  {
   "cell_type": "markdown",
   "metadata": {},
   "source": [
    "#### Working with Task without Pipeline"
   ]
  },
  {
   "cell_type": "code",
   "execution_count": 6,
   "metadata": {},
   "outputs": [
    {
     "data": {
      "text/plain": [
       "'Датасет размером 450, признаков: 4'"
      ]
     },
     "metadata": {},
     "output_type": "display_data"
    },
    {
     "data": {
      "text/plain": [
       "'В период с 2023-04-21 13:32:48.228000 по 2023-04-25 23:59:59.999000'"
      ]
     },
     "metadata": {},
     "output_type": "display_data"
    },
    {
     "data": {
      "text/plain": [
       "'Общей длительностью 4 days 10:27:11.771000'"
      ]
     },
     "metadata": {},
     "output_type": "display_data"
    },
    {
     "data": {
      "text/plain": [
       "float64    4\n",
       "Name: count, dtype: int64"
      ]
     },
     "metadata": {},
     "output_type": "display_data"
    },
    {
     "data": {
      "text/plain": [
       "Описание\n",
       "Anker     float64\n",
       "Cut       float64\n",
       "Go        float64\n",
       "Uncert    float64\n",
       "dtype: object"
      ]
     },
     "metadata": {},
     "output_type": "display_data"
    }
   ],
   "source": [
    "cdt = HighLevelDatasetAnalysisTask()\n",
    "cdt_df, cdt_result = cdt.fit(dataset.frame)\n",
    "cdt_result.show()"
   ]
  },
  {
   "cell_type": "code",
   "execution_count": null,
   "metadata": {},
   "outputs": [],
   "source": [
    "discretization = TimeDiscretizationTask()\n",
    "discretization.com = cdt_result\n",
    "\n",
    "_, discretization_result = discretization.fit(cdt_df)\n",
    "\n",
    "discretization_result.dataset_analysis_result = cdt_result\n",
    "discretization_result.show()"
   ]
  },
  {
   "cell_type": "markdown",
   "metadata": {},
   "source": [
    "#### Working with separate pipelines for group of tasks"
   ]
  },
  {
   "cell_type": "code",
   "execution_count": 7,
   "metadata": {},
   "outputs": [],
   "source": [
    "eda_tasks = [\n",
    "    HighLevelDatasetAnalysisTask(),\n",
    "    TimeDiscretizationTask(freq_tobe='1s'),\n",
    "    FindNaNTask(),\n",
    "    EquipmentDowntimeTask()\n",
    "]\n",
    "\n",
    "eda_pipeline = Pipeline(eda_tasks, show=False)\n",
    "eda_fit_df = eda_pipeline.fit(dataset.frame)"
   ]
  },
  {
   "cell_type": "code",
   "execution_count": 11,
   "metadata": {},
   "outputs": [
    {
     "name": "stdout",
     "output_type": "stream",
     "text": [
      "Adding parameter nan_result with type FindNaNResult from Pipeline results.\n",
      "Adding parameter downtime_result with type EquipmentDowntimeResult from Pipeline results.\n",
      "Значения вышедшие за интервал будут удалены\n",
      "Adding parameter vrp_result with type ValueRangeProcessingResult from Pipeline results.\n",
      "Значения вышедшие за интервал будут удалены\n"
     ]
    },
    {
     "data": {
      "text/plain": [
       "array([[ 0.        ,         nan,  0.        ,         nan],\n",
       "       [        nan,         nan,         nan,         nan],\n",
       "       [        nan,         nan,         nan,         nan],\n",
       "       ...,\n",
       "       [        nan,         nan,         nan,         nan],\n",
       "       [        nan,         nan,         nan,         nan],\n",
       "       [ 0.        ,  1.04027283,  0.        , -1.04027283]])"
      ]
     },
     "execution_count": 11,
     "metadata": {},
     "output_type": "execute_result"
    }
   ],
   "source": [
    "preprocess_tasks = [\n",
    "    ScalingTask(),\n",
    "    ValueRangeProcessingTask()\n",
    "]\n",
    "\n",
    "preprocess_pipeline = Pipeline(preprocess_tasks, results=eda_pipeline.results, show=True)\n",
    "preprocess_fit_df = preprocess_pipeline.fit(eda_fit_df)\n",
    "preprocess_pipeline.predict(eda_fit_df)"
   ]
  },
  {
   "cell_type": "markdown",
   "metadata": {},
   "source": [
    "#### Work with Pipeline"
   ]
  },
  {
   "cell_type": "code",
   "execution_count": null,
   "metadata": {},
   "outputs": [],
   "source": [
    "pipeline = Pipeline(eda_tasks + preprocess_tasks)\n",
    "pipeline.fit(dataset.frame)"
   ]
  }
 ],
 "metadata": {
  "kernelspec": {
   "display_name": "Python 3 (ipykernel)",
   "language": "python",
   "name": "python3"
  },
  "language_info": {
   "codemirror_mode": {
    "name": "ipython",
    "version": 3
   },
   "file_extension": ".py",
   "mimetype": "text/x-python",
   "name": "python",
   "nbconvert_exporter": "python",
   "pygments_lexer": "ipython3",
   "version": "3.10.9"
  },
  "toc": {
   "base_numbering": 1,
   "nav_menu": {},
   "number_sections": true,
   "sideBar": true,
   "skip_h1_title": false,
   "title_cell": "Table of Contents",
   "title_sidebar": "Contents",
   "toc_cell": false,
   "toc_position": {},
   "toc_section_display": true,
   "toc_window_display": false
  }
 },
 "nbformat": 4,
 "nbformat_minor": 4
}
