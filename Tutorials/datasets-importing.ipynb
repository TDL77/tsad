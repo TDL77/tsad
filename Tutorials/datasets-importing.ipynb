{
 "cells": [
  {
   "cell_type": "code",
   "execution_count": 1,
   "id": "eb118206-a660-413a-9185-cbd9da3be522",
   "metadata": {},
   "outputs": [],
   "source": [
    "import sys\n",
    "import pandas as pd\n",
    "\n",
    "sys.path.insert(1, '../')"
   ]
  },
  {
   "cell_type": "markdown",
   "id": "c6c158b4-78f9-4234-adff-cc4d71078115",
   "metadata": {},
   "source": [
    "Let's demonstrate in this  how to import datasets and check some information about them."
   ]
  },
  {
   "cell_type": "markdown",
   "id": "0d251cdf-607f-423e-8b0c-81489a3252dd",
   "metadata": {},
   "source": [
    "# Combines state monitoring dataset"
   ]
  },
  {
   "cell_type": "markdown",
   "id": "42a560c9-2912-4a58-8fdb-6314bd862273",
   "metadata": {},
   "source": [
    "### Importing"
   ]
  },
  {
   "cell_type": "code",
   "execution_count": 2,
   "id": "5756c37c-6339-4044-88bc-ca9a64cd8b96",
   "metadata": {},
   "outputs": [],
   "source": [
    "from tsad.datasets import load_combines\n",
    "\n",
    "dataset = load_combines()"
   ]
  },
  {
   "cell_type": "markdown",
   "id": "b80c4c20-f04f-4a89-8b12-1cd53d7f4c3a",
   "metadata": {},
   "source": [
    "### Dataset info"
   ]
  },
  {
   "cell_type": "code",
   "execution_count": 3,
   "id": "9129b287-68f4-4e22-876e-c515e176643c",
   "metadata": {},
   "outputs": [
    {
     "data": {
      "text/plain": [
       "'Combines state monitoring'"
      ]
     },
     "execution_count": 3,
     "metadata": {},
     "output_type": "execute_result"
    }
   ],
   "source": [
    "dataset.name"
   ]
  },
  {
   "cell_type": "code",
   "execution_count": 4,
   "id": "9268b9c2-88bd-490d-bc9b-5dbbf34f5c0d",
   "metadata": {},
   "outputs": [
    {
     "data": {
      "text/plain": [
       "''"
      ]
     },
     "execution_count": 4,
     "metadata": {},
     "output_type": "execute_result"
    }
   ],
   "source": [
    "dataset.description"
   ]
  },
  {
   "cell_type": "code",
   "execution_count": 5,
   "id": "cf234415-fdb2-4043-a33b-fd5186a7841a",
   "metadata": {},
   "outputs": [
    {
     "data": {
      "text/plain": [
       "''"
      ]
     },
     "execution_count": 5,
     "metadata": {},
     "output_type": "execute_result"
    }
   ],
   "source": [
    "dataset.task"
   ]
  },
  {
   "cell_type": "code",
   "execution_count": 6,
   "id": "47f535da-6407-4f6b-8561-8e749f971b02",
   "metadata": {},
   "outputs": [
    {
     "data": {
      "text/plain": [
       "['Anker', 'Cut', 'Go', 'Uncert']"
      ]
     },
     "execution_count": 6,
     "metadata": {},
     "output_type": "execute_result"
    }
   ],
   "source": [
    "dataset.feature_names"
   ]
  },
  {
   "cell_type": "code",
   "execution_count": 7,
   "id": "053bfc03-f668-4d0d-84d0-e5d4a15c871e",
   "metadata": {},
   "outputs": [],
   "source": [
    "dataset.target_names"
   ]
  },
  {
   "cell_type": "markdown",
   "id": "666258fa-2cf0-4349-998b-78d2360204f1",
   "metadata": {},
   "source": [
    "### Dataset"
   ]
  },
  {
   "cell_type": "code",
   "execution_count": 8,
   "id": "d1df64ab-58ca-415b-95f3-25062ea4873a",
   "metadata": {},
   "outputs": [
    {
     "data": {
      "text/html": [
       "<div>\n",
       "<style scoped>\n",
       "    .dataframe tbody tr th:only-of-type {\n",
       "        vertical-align: middle;\n",
       "    }\n",
       "\n",
       "    .dataframe tbody tr th {\n",
       "        vertical-align: top;\n",
       "    }\n",
       "\n",
       "    .dataframe thead th {\n",
       "        text-align: right;\n",
       "    }\n",
       "</style>\n",
       "<table border=\"1\" class=\"dataframe\">\n",
       "  <thead>\n",
       "    <tr style=\"text-align: right;\">\n",
       "      <th>Описание</th>\n",
       "      <th>Anker</th>\n",
       "      <th>Cut</th>\n",
       "      <th>Go</th>\n",
       "      <th>Uncert</th>\n",
       "    </tr>\n",
       "    <tr>\n",
       "      <th>Время</th>\n",
       "      <th></th>\n",
       "      <th></th>\n",
       "      <th></th>\n",
       "      <th></th>\n",
       "    </tr>\n",
       "  </thead>\n",
       "  <tbody>\n",
       "    <tr>\n",
       "      <th>2023-04-21 13:32:48.228</th>\n",
       "      <td>0.0</td>\n",
       "      <td>NaN</td>\n",
       "      <td>NaN</td>\n",
       "      <td>NaN</td>\n",
       "    </tr>\n",
       "    <tr>\n",
       "      <th>2023-04-21 13:32:48.230</th>\n",
       "      <td>NaN</td>\n",
       "      <td>NaN</td>\n",
       "      <td>0.0</td>\n",
       "      <td>NaN</td>\n",
       "    </tr>\n",
       "  </tbody>\n",
       "</table>\n",
       "</div>"
      ],
      "text/plain": [
       "Описание                 Anker  Cut   Go  Uncert\n",
       "Время                                           \n",
       "2023-04-21 13:32:48.228    0.0  NaN  NaN     NaN\n",
       "2023-04-21 13:32:48.230    NaN  NaN  0.0     NaN"
      ]
     },
     "execution_count": 8,
     "metadata": {},
     "output_type": "execute_result"
    }
   ],
   "source": [
    "dataset.frame.head(2)"
   ]
  },
  {
   "cell_type": "markdown",
   "id": "3579b8a0-a8ca-49c7-8d59-47778d059f60",
   "metadata": {},
   "source": [
    "# SKAB (skoltech anomaly benchmark) teaser"
   ]
  },
  {
   "cell_type": "markdown",
   "id": "ec040668-1e2c-49c0-af59-4a2e5c73886a",
   "metadata": {},
   "source": [
    "### Importing"
   ]
  },
  {
   "cell_type": "code",
   "execution_count": 9,
   "id": "d808f302-6790-4f35-81a8-7da4ec04420d",
   "metadata": {},
   "outputs": [],
   "source": [
    "from tsad.datasets import load_skab_teaser\n",
    "\n",
    "dataset = load_skab_teaser()"
   ]
  },
  {
   "cell_type": "markdown",
   "id": "df9d8471-0590-4af8-945a-f0e312d30097",
   "metadata": {},
   "source": [
    "### Dataset info"
   ]
  },
  {
   "cell_type": "code",
   "execution_count": 10,
   "id": "e2aeb5a7-6e69-45e8-8325-4753a1636ff2",
   "metadata": {},
   "outputs": [
    {
     "data": {
      "text/plain": [
       "'SKAB (skoltech anomaly benchmark) teaser'"
      ]
     },
     "execution_count": 10,
     "metadata": {},
     "output_type": "execute_result"
    }
   ],
   "source": [
    "dataset.name"
   ]
  },
  {
   "cell_type": "code",
   "execution_count": 11,
   "id": "63af06b2-2269-4d28-b8c4-4df00d4e0cb6",
   "metadata": {},
   "outputs": [
    {
     "data": {
      "text/plain": [
       "'Dataset for process monitoring (changepoint detection) benchmarking. It is just a short version (teaser) of SKAB'"
      ]
     },
     "execution_count": 11,
     "metadata": {},
     "output_type": "execute_result"
    }
   ],
   "source": [
    "dataset.description"
   ]
  },
  {
   "cell_type": "code",
   "execution_count": 12,
   "id": "37d9b6b6-0405-4bb8-9bcf-10ce45af4452",
   "metadata": {},
   "outputs": [
    {
     "data": {
      "text/plain": [
       "'Process monitoring (changepoint detection)'"
      ]
     },
     "execution_count": 12,
     "metadata": {},
     "output_type": "execute_result"
    }
   ],
   "source": [
    "dataset.task"
   ]
  },
  {
   "cell_type": "code",
   "execution_count": 13,
   "id": "11f68fd1-7c2d-4f15-96cf-2d582d466362",
   "metadata": {},
   "outputs": [
    {
     "data": {
      "text/plain": [
       "['Accelerometer1RMS',\n",
       " 'Accelerometer2RMS',\n",
       " 'Current',\n",
       " 'Pressure',\n",
       " 'Temperature',\n",
       " 'Thermocouple',\n",
       " 'Voltage',\n",
       " 'Volume Flow RateRMS']"
      ]
     },
     "execution_count": 13,
     "metadata": {},
     "output_type": "execute_result"
    }
   ],
   "source": [
    "dataset.feature_names"
   ]
  },
  {
   "cell_type": "code",
   "execution_count": 14,
   "id": "3263af96-23de-4cd9-838b-41895ed1c170",
   "metadata": {},
   "outputs": [],
   "source": [
    "dataset.target_names"
   ]
  },
  {
   "cell_type": "markdown",
   "id": "d02460b8-3346-4c7b-8641-1f941c033136",
   "metadata": {},
   "source": [
    "### Dataset"
   ]
  },
  {
   "cell_type": "markdown",
   "id": "f31ab903-10dd-486c-a118-a597ac30aff4",
   "metadata": {},
   "source": [
    "Dataset has separate markup (labels). Dataset itself:"
   ]
  },
  {
   "cell_type": "code",
   "execution_count": 15,
   "id": "8ff32d1c-0593-42e7-b61a-1b76b03bb863",
   "metadata": {},
   "outputs": [
    {
     "data": {
      "text/html": [
       "<div>\n",
       "<style scoped>\n",
       "    .dataframe tbody tr th:only-of-type {\n",
       "        vertical-align: middle;\n",
       "    }\n",
       "\n",
       "    .dataframe tbody tr th {\n",
       "        vertical-align: top;\n",
       "    }\n",
       "\n",
       "    .dataframe thead th {\n",
       "        text-align: right;\n",
       "    }\n",
       "</style>\n",
       "<table border=\"1\" class=\"dataframe\">\n",
       "  <thead>\n",
       "    <tr style=\"text-align: right;\">\n",
       "      <th>id</th>\n",
       "      <th>Accelerometer1RMS</th>\n",
       "      <th>Accelerometer2RMS</th>\n",
       "      <th>Current</th>\n",
       "      <th>Pressure</th>\n",
       "      <th>Temperature</th>\n",
       "      <th>Thermocouple</th>\n",
       "      <th>Voltage</th>\n",
       "      <th>Volume Flow RateRMS</th>\n",
       "    </tr>\n",
       "    <tr>\n",
       "      <th>datetime</th>\n",
       "      <th></th>\n",
       "      <th></th>\n",
       "      <th></th>\n",
       "      <th></th>\n",
       "      <th></th>\n",
       "      <th></th>\n",
       "      <th></th>\n",
       "      <th></th>\n",
       "    </tr>\n",
       "  </thead>\n",
       "  <tbody>\n",
       "    <tr>\n",
       "      <th>2019-07-08 17:02:14</th>\n",
       "      <td>0.04283</td>\n",
       "      <td>0.080612</td>\n",
       "      <td>0.000749</td>\n",
       "      <td>-0.273216</td>\n",
       "      <td>28.2099</td>\n",
       "      <td>23.4457</td>\n",
       "      <td>252.743</td>\n",
       "      <td>37.0242</td>\n",
       "    </tr>\n",
       "    <tr>\n",
       "      <th>2019-07-08 17:02:32</th>\n",
       "      <td>0.04333</td>\n",
       "      <td>0.084116</td>\n",
       "      <td>0.000849</td>\n",
       "      <td>0.054711</td>\n",
       "      <td>28.3486</td>\n",
       "      <td>23.4492</td>\n",
       "      <td>240.488</td>\n",
       "      <td>37.0000</td>\n",
       "    </tr>\n",
       "  </tbody>\n",
       "</table>\n",
       "</div>"
      ],
      "text/plain": [
       "id                   Accelerometer1RMS  Accelerometer2RMS   Current  Pressure  \\\n",
       "datetime                                                                        \n",
       "2019-07-08 17:02:14            0.04283           0.080612  0.000749 -0.273216   \n",
       "2019-07-08 17:02:32            0.04333           0.084116  0.000849  0.054711   \n",
       "\n",
       "id                   Temperature  Thermocouple  Voltage  Volume Flow RateRMS  \n",
       "datetime                                                                      \n",
       "2019-07-08 17:02:14      28.2099       23.4457  252.743              37.0242  \n",
       "2019-07-08 17:02:32      28.3486       23.4492  240.488              37.0000  "
      ]
     },
     "execution_count": 15,
     "metadata": {},
     "output_type": "execute_result"
    }
   ],
   "source": [
    "dataset.frame[0].head(2)"
   ]
  },
  {
   "cell_type": "markdown",
   "id": "2b205485-67a4-4214-949f-1070aa9ee4c4",
   "metadata": {},
   "source": [
    "Labels:"
   ]
  },
  {
   "cell_type": "code",
   "execution_count": 16,
   "id": "6e7d2075-005c-4a70-a43d-c7835c97d361",
   "metadata": {},
   "outputs": [
    {
     "data": {
      "text/plain": [
       "[('2019-07-08 18:39:22', '2019-07-08 18:42:32'),\n",
       " ('2019-07-08 18:44:36', '2019-07-08 18:46:51'),\n",
       " ('2019-07-08 19:06:57', '2019-07-08 19:11:31'),\n",
       " ('2019-07-08 19:14:40', '2019-07-08 19:21:16')]"
      ]
     },
     "execution_count": 16,
     "metadata": {},
     "output_type": "execute_result"
    }
   ],
   "source": [
    "dataset.frame[1]"
   ]
  },
  {
   "cell_type": "markdown",
   "id": "fa449203-645d-41ec-8a7d-8751424285be",
   "metadata": {},
   "source": [
    "# NASA Turbofan Jet Engine Data Set"
   ]
  },
  {
   "cell_type": "markdown",
   "id": "f6644e25-5cdc-4035-a131-f7988c90fdac",
   "metadata": {},
   "source": [
    "### Importing"
   ]
  },
  {
   "cell_type": "code",
   "execution_count": 17,
   "id": "a16cc80d-9391-4909-b3ff-3da0fd4abe96",
   "metadata": {},
   "outputs": [],
   "source": [
    "from tsad.datasets import load_turbofan_jet_engine\n",
    "\n",
    "dataset = load_turbofan_jet_engine()"
   ]
  },
  {
   "cell_type": "markdown",
   "id": "f03b94dc-1a50-4790-986d-41b507240b4d",
   "metadata": {},
   "source": [
    "### Dataset info"
   ]
  },
  {
   "cell_type": "code",
   "execution_count": 18,
   "id": "773f99da-c678-445e-bc27-b846e413902c",
   "metadata": {},
   "outputs": [
    {
     "data": {
      "text/plain": [
       "'NASA Turbofan Jet Engine Data Set'"
      ]
     },
     "execution_count": 18,
     "metadata": {},
     "output_type": "execute_result"
    }
   ],
   "source": [
    "dataset.name"
   ]
  },
  {
   "cell_type": "code",
   "execution_count": 19,
   "id": "2cdc9305-829a-42e1-a96d-8ac91426a20f",
   "metadata": {},
   "outputs": [
    {
     "name": "stdout",
     "output_type": "stream",
     "text": [
      "Dataset includes Run-to-Failure simulated data from turbo fan jet engines. In this dataset the goal is to predict the remaining useful life (RUL) of each engine in the test dataset. RUL is equivalent of number of flights remained for the engine after the last datapoint in the test dataset.\n",
      "    - In train dataset there are 100 engines. The last cycle for each engine represents the cycle when failure had happened.\n",
      "    - In test dataset there are 100 engines as well. But this time, failure cycle was not provided.\n"
     ]
    }
   ],
   "source": [
    "print(dataset.description)"
   ]
  },
  {
   "cell_type": "code",
   "execution_count": 20,
   "id": "4a742562-9710-42a7-8993-237fdb48be7e",
   "metadata": {},
   "outputs": [
    {
     "data": {
      "text/plain": [
       "'Remaining useful life prediction'"
      ]
     },
     "execution_count": 20,
     "metadata": {},
     "output_type": "execute_result"
    }
   ],
   "source": [
    "dataset.task"
   ]
  },
  {
   "cell_type": "code",
   "execution_count": 21,
   "id": "c9e631d0-2458-4e0d-ae16-879677b95ff9",
   "metadata": {},
   "outputs": [
    {
     "data": {
      "text/plain": [
       "['id',\n",
       " 'cycle',\n",
       " 'setting1',\n",
       " 'setting2',\n",
       " 'setting3',\n",
       " 's1',\n",
       " 's2',\n",
       " 's3',\n",
       " 's4',\n",
       " 's5',\n",
       " 's6',\n",
       " 's7',\n",
       " 's8',\n",
       " 's9',\n",
       " 's10',\n",
       " 's11',\n",
       " 's12',\n",
       " 's13',\n",
       " 's14',\n",
       " 's15',\n",
       " 's16',\n",
       " 's17',\n",
       " 's18',\n",
       " 's19',\n",
       " 's20',\n",
       " 's21']"
      ]
     },
     "execution_count": 21,
     "metadata": {},
     "output_type": "execute_result"
    }
   ],
   "source": [
    "dataset.feature_names"
   ]
  },
  {
   "cell_type": "code",
   "execution_count": 22,
   "id": "1d9b7f1e-eee7-4b18-8c0b-679a2fd4d139",
   "metadata": {},
   "outputs": [
    {
     "data": {
      "text/plain": [
       "['ttf']"
      ]
     },
     "execution_count": 22,
     "metadata": {},
     "output_type": "execute_result"
    }
   ],
   "source": [
    "dataset.target_names"
   ]
  },
  {
   "cell_type": "markdown",
   "id": "29fdec93-b9fd-46e5-9f5b-e472d25ff1c3",
   "metadata": {},
   "source": [
    "### Dataset"
   ]
  },
  {
   "cell_type": "markdown",
   "id": "c8edf6ed-3948-441e-98bc-56cbf2d87e1f",
   "metadata": {},
   "source": [
    "Dataset has separate X_train, X_test and y_test.\n",
    "\n",
    "X_train:"
   ]
  },
  {
   "cell_type": "code",
   "execution_count": 23,
   "id": "4b1011fb-7ea5-4a85-8bce-9cf417ccf5e8",
   "metadata": {},
   "outputs": [
    {
     "data": {
      "text/html": [
       "<div>\n",
       "<style scoped>\n",
       "    .dataframe tbody tr th:only-of-type {\n",
       "        vertical-align: middle;\n",
       "    }\n",
       "\n",
       "    .dataframe tbody tr th {\n",
       "        vertical-align: top;\n",
       "    }\n",
       "\n",
       "    .dataframe thead th {\n",
       "        text-align: right;\n",
       "    }\n",
       "</style>\n",
       "<table border=\"1\" class=\"dataframe\">\n",
       "  <thead>\n",
       "    <tr style=\"text-align: right;\">\n",
       "      <th></th>\n",
       "      <th>id</th>\n",
       "      <th>cycle</th>\n",
       "      <th>setting1</th>\n",
       "      <th>setting2</th>\n",
       "      <th>setting3</th>\n",
       "      <th>s1</th>\n",
       "      <th>s2</th>\n",
       "      <th>s3</th>\n",
       "      <th>s4</th>\n",
       "      <th>s5</th>\n",
       "      <th>...</th>\n",
       "      <th>s12</th>\n",
       "      <th>s13</th>\n",
       "      <th>s14</th>\n",
       "      <th>s15</th>\n",
       "      <th>s16</th>\n",
       "      <th>s17</th>\n",
       "      <th>s18</th>\n",
       "      <th>s19</th>\n",
       "      <th>s20</th>\n",
       "      <th>s21</th>\n",
       "    </tr>\n",
       "  </thead>\n",
       "  <tbody>\n",
       "    <tr>\n",
       "      <th>0</th>\n",
       "      <td>1</td>\n",
       "      <td>1</td>\n",
       "      <td>-0.0007</td>\n",
       "      <td>-0.0004</td>\n",
       "      <td>100.0</td>\n",
       "      <td>518.67</td>\n",
       "      <td>641.82</td>\n",
       "      <td>1589.70</td>\n",
       "      <td>1400.60</td>\n",
       "      <td>14.62</td>\n",
       "      <td>...</td>\n",
       "      <td>521.66</td>\n",
       "      <td>2388.02</td>\n",
       "      <td>8138.62</td>\n",
       "      <td>8.4195</td>\n",
       "      <td>0.03</td>\n",
       "      <td>392</td>\n",
       "      <td>2388</td>\n",
       "      <td>100.0</td>\n",
       "      <td>39.06</td>\n",
       "      <td>23.4190</td>\n",
       "    </tr>\n",
       "    <tr>\n",
       "      <th>1</th>\n",
       "      <td>1</td>\n",
       "      <td>2</td>\n",
       "      <td>0.0019</td>\n",
       "      <td>-0.0003</td>\n",
       "      <td>100.0</td>\n",
       "      <td>518.67</td>\n",
       "      <td>642.15</td>\n",
       "      <td>1591.82</td>\n",
       "      <td>1403.14</td>\n",
       "      <td>14.62</td>\n",
       "      <td>...</td>\n",
       "      <td>522.28</td>\n",
       "      <td>2388.07</td>\n",
       "      <td>8131.49</td>\n",
       "      <td>8.4318</td>\n",
       "      <td>0.03</td>\n",
       "      <td>392</td>\n",
       "      <td>2388</td>\n",
       "      <td>100.0</td>\n",
       "      <td>39.00</td>\n",
       "      <td>23.4236</td>\n",
       "    </tr>\n",
       "  </tbody>\n",
       "</table>\n",
       "<p>2 rows × 26 columns</p>\n",
       "</div>"
      ],
      "text/plain": [
       "   id  cycle  setting1  setting2  setting3      s1      s2       s3       s4  \\\n",
       "0   1      1   -0.0007   -0.0004     100.0  518.67  641.82  1589.70  1400.60   \n",
       "1   1      2    0.0019   -0.0003     100.0  518.67  642.15  1591.82  1403.14   \n",
       "\n",
       "      s5  ...     s12      s13      s14     s15   s16  s17   s18    s19  \\\n",
       "0  14.62  ...  521.66  2388.02  8138.62  8.4195  0.03  392  2388  100.0   \n",
       "1  14.62  ...  522.28  2388.07  8131.49  8.4318  0.03  392  2388  100.0   \n",
       "\n",
       "     s20      s21  \n",
       "0  39.06  23.4190  \n",
       "1  39.00  23.4236  \n",
       "\n",
       "[2 rows x 26 columns]"
      ]
     },
     "execution_count": 23,
     "metadata": {},
     "output_type": "execute_result"
    }
   ],
   "source": [
    "dataset.frame[0].head(2)"
   ]
  },
  {
   "cell_type": "markdown",
   "id": "a976690d-cf46-48d4-87b4-a18d4da4293a",
   "metadata": {},
   "source": [
    "X_test:"
   ]
  },
  {
   "cell_type": "code",
   "execution_count": 24,
   "id": "27361fb1-d86a-4f52-a788-09b48255bcf2",
   "metadata": {},
   "outputs": [
    {
     "data": {
      "text/html": [
       "<div>\n",
       "<style scoped>\n",
       "    .dataframe tbody tr th:only-of-type {\n",
       "        vertical-align: middle;\n",
       "    }\n",
       "\n",
       "    .dataframe tbody tr th {\n",
       "        vertical-align: top;\n",
       "    }\n",
       "\n",
       "    .dataframe thead th {\n",
       "        text-align: right;\n",
       "    }\n",
       "</style>\n",
       "<table border=\"1\" class=\"dataframe\">\n",
       "  <thead>\n",
       "    <tr style=\"text-align: right;\">\n",
       "      <th></th>\n",
       "      <th>id</th>\n",
       "      <th>cycle</th>\n",
       "      <th>setting1</th>\n",
       "      <th>setting2</th>\n",
       "      <th>setting3</th>\n",
       "      <th>s1</th>\n",
       "      <th>s2</th>\n",
       "      <th>s3</th>\n",
       "      <th>s4</th>\n",
       "      <th>s5</th>\n",
       "      <th>...</th>\n",
       "      <th>s12</th>\n",
       "      <th>s13</th>\n",
       "      <th>s14</th>\n",
       "      <th>s15</th>\n",
       "      <th>s16</th>\n",
       "      <th>s17</th>\n",
       "      <th>s18</th>\n",
       "      <th>s19</th>\n",
       "      <th>s20</th>\n",
       "      <th>s21</th>\n",
       "    </tr>\n",
       "  </thead>\n",
       "  <tbody>\n",
       "    <tr>\n",
       "      <th>0</th>\n",
       "      <td>1</td>\n",
       "      <td>1</td>\n",
       "      <td>0.0023</td>\n",
       "      <td>0.0003</td>\n",
       "      <td>100.0</td>\n",
       "      <td>518.67</td>\n",
       "      <td>643.02</td>\n",
       "      <td>1585.29</td>\n",
       "      <td>1398.21</td>\n",
       "      <td>14.62</td>\n",
       "      <td>...</td>\n",
       "      <td>521.72</td>\n",
       "      <td>2388.03</td>\n",
       "      <td>8125.55</td>\n",
       "      <td>8.4052</td>\n",
       "      <td>0.03</td>\n",
       "      <td>392</td>\n",
       "      <td>2388</td>\n",
       "      <td>100.0</td>\n",
       "      <td>38.86</td>\n",
       "      <td>23.3735</td>\n",
       "    </tr>\n",
       "    <tr>\n",
       "      <th>1</th>\n",
       "      <td>1</td>\n",
       "      <td>2</td>\n",
       "      <td>-0.0027</td>\n",
       "      <td>-0.0003</td>\n",
       "      <td>100.0</td>\n",
       "      <td>518.67</td>\n",
       "      <td>641.71</td>\n",
       "      <td>1588.45</td>\n",
       "      <td>1395.42</td>\n",
       "      <td>14.62</td>\n",
       "      <td>...</td>\n",
       "      <td>522.16</td>\n",
       "      <td>2388.06</td>\n",
       "      <td>8139.62</td>\n",
       "      <td>8.3803</td>\n",
       "      <td>0.03</td>\n",
       "      <td>393</td>\n",
       "      <td>2388</td>\n",
       "      <td>100.0</td>\n",
       "      <td>39.02</td>\n",
       "      <td>23.3916</td>\n",
       "    </tr>\n",
       "  </tbody>\n",
       "</table>\n",
       "<p>2 rows × 26 columns</p>\n",
       "</div>"
      ],
      "text/plain": [
       "   id  cycle  setting1  setting2  setting3      s1      s2       s3       s4  \\\n",
       "0   1      1    0.0023    0.0003     100.0  518.67  643.02  1585.29  1398.21   \n",
       "1   1      2   -0.0027   -0.0003     100.0  518.67  641.71  1588.45  1395.42   \n",
       "\n",
       "      s5  ...     s12      s13      s14     s15   s16  s17   s18    s19  \\\n",
       "0  14.62  ...  521.72  2388.03  8125.55  8.4052  0.03  392  2388  100.0   \n",
       "1  14.62  ...  522.16  2388.06  8139.62  8.3803  0.03  393  2388  100.0   \n",
       "\n",
       "     s20      s21  \n",
       "0  38.86  23.3735  \n",
       "1  39.02  23.3916  \n",
       "\n",
       "[2 rows x 26 columns]"
      ]
     },
     "execution_count": 24,
     "metadata": {},
     "output_type": "execute_result"
    }
   ],
   "source": [
    "dataset.frame[1].head(2)"
   ]
  },
  {
   "cell_type": "markdown",
   "id": "7a2d5535-3ace-4d1f-a3d1-feaf312e18e1",
   "metadata": {},
   "source": [
    "y_test:"
   ]
  },
  {
   "cell_type": "code",
   "execution_count": 25,
   "id": "1192ee53-6732-4e43-923c-1dea5677f4fb",
   "metadata": {},
   "outputs": [
    {
     "data": {
      "text/html": [
       "<div>\n",
       "<style scoped>\n",
       "    .dataframe tbody tr th:only-of-type {\n",
       "        vertical-align: middle;\n",
       "    }\n",
       "\n",
       "    .dataframe tbody tr th {\n",
       "        vertical-align: top;\n",
       "    }\n",
       "\n",
       "    .dataframe thead th {\n",
       "        text-align: right;\n",
       "    }\n",
       "</style>\n",
       "<table border=\"1\" class=\"dataframe\">\n",
       "  <thead>\n",
       "    <tr style=\"text-align: right;\">\n",
       "      <th></th>\n",
       "      <th>ttf</th>\n",
       "    </tr>\n",
       "  </thead>\n",
       "  <tbody>\n",
       "    <tr>\n",
       "      <th>0</th>\n",
       "      <td>112</td>\n",
       "    </tr>\n",
       "    <tr>\n",
       "      <th>1</th>\n",
       "      <td>98</td>\n",
       "    </tr>\n",
       "  </tbody>\n",
       "</table>\n",
       "</div>"
      ],
      "text/plain": [
       "   ttf\n",
       "0  112\n",
       "1   98"
      ]
     },
     "execution_count": 25,
     "metadata": {},
     "output_type": "execute_result"
    }
   ],
   "source": [
    "dataset.frame[2].head(2)"
   ]
  },
  {
   "cell_type": "code",
   "execution_count": null,
   "id": "8dfa410d-5734-41c9-b4c8-6ea3b269ae9a",
   "metadata": {},
   "outputs": [],
   "source": []
  }
 ],
 "metadata": {
  "kernelspec": {
   "display_name": "Python 3 (ipykernel)",
   "language": "python",
   "name": "python3"
  },
  "language_info": {
   "codemirror_mode": {
    "name": "ipython",
    "version": 3
   },
   "file_extension": ".py",
   "mimetype": "text/x-python",
   "name": "python",
   "nbconvert_exporter": "python",
   "pygments_lexer": "ipython3",
   "version": "3.10.9"
  }
 },
 "nbformat": 4,
 "nbformat_minor": 5
}
