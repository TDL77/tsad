{
 "cells": [
  {
   "cell_type": "code",
   "execution_count": 1,
   "id": "eb118206-a660-413a-9185-cbd9da3be522",
   "metadata": {},
   "outputs": [],
   "source": [
    "import sys\n",
    "import pandas as pd\n",
    "\n",
    "sys.path.insert(1, '../')"
   ]
  },
  {
   "cell_type": "markdown",
   "id": "c6c158b4-78f9-4234-adff-cc4d71078115",
   "metadata": {},
   "source": [
    "Let's demonstrate in this  how to import datasets and check some information about them. To begin with, we can check all the available datasets:\n",
    "\n",
    "__RU:__ _Давайте продемонстрируем, как импортировать наборы данных и посмотреть информацию о них. Для начала мы можем посмотреть все доступные наборы данных:_"
   ]
  },
  {
   "cell_type": "code",
   "execution_count": 2,
   "id": "221774c9-7a5b-4f51-b06e-bcad23a010cb",
   "metadata": {},
   "outputs": [
    {
     "data": {
      "text/plain": [
       "{'Combines state monitoring': 'load_combines()',\n",
       " 'SKAB (skoltech anomaly benchmark) teaser': 'load_skab_teaser()',\n",
       " 'SKAB (skoltech anomaly benchmark)': 'load_skab()',\n",
       " 'NASA Turbofan Jet Engine Data Set': 'load_turbofan_jet_engine()',\n",
       " 'TEP (Tennessee Eastman process)': 'load_tep()',\n",
       " 'Pressurized Water Reactor (PWR) Dataset for Fault Detection': 'load_pwr_anomalies()',\n",
       " 'NPP Power Transformer RUL': 'load_transformer_rul()'}"
      ]
     },
     "execution_count": 2,
     "metadata": {},
     "output_type": "execute_result"
    }
   ],
   "source": [
    "from tsad.base.datasets import list_of_datasets\n",
    "\n",
    "list_of_datasets()"
   ]
  },
  {
   "cell_type": "markdown",
   "id": "0f8f3279-1548-4128-90f6-f167a459376a",
   "metadata": {},
   "source": [
    "In this dictionary keys represent names of the datasets, and values represent modules with the datasets. Let's try them out.\n",
    "Docstrings contain links to the detailed dataset description, if one exists.\n",
    "\n",
    "__RU:__ _В этом словаре ключи представляют имена наборов данных, а значения представляют модули с наборами данных. Давайте попробуем их._\n",
    "_Строки документации содержат ссылки на подробное описание набора данных._"
   ]
  },
  {
   "cell_type": "markdown",
   "id": "0d251cdf-607f-423e-8b0c-81489a3252dd",
   "metadata": {},
   "source": [
    "# Combines state monitoring dataset\n",
    "### Набор данных мониторинга состояния комбайнов"
   ]
  },
  {
   "cell_type": "markdown",
   "id": "42a560c9-2912-4a58-8fdb-6314bd862273",
   "metadata": {},
   "source": [
    "### Importing\n",
    "#### Импорт функций"
   ]
  },
  {
   "cell_type": "code",
   "execution_count": 3,
   "id": "5756c37c-6339-4044-88bc-ca9a64cd8b96",
   "metadata": {},
   "outputs": [],
   "source": [
    "from tsad.base.datasets import load_combines\n",
    "\n",
    "dataset = load_combines()"
   ]
  },
  {
   "cell_type": "markdown",
   "id": "b80c4c20-f04f-4a89-8b12-1cd53d7f4c3a",
   "metadata": {},
   "source": [
    "### Dataset info\n",
    "#### Информация о наборе данных"
   ]
  },
  {
   "cell_type": "code",
   "execution_count": 4,
   "id": "9129b287-68f4-4e22-876e-c515e176643c",
   "metadata": {},
   "outputs": [
    {
     "name": "stdout",
     "output_type": "stream",
     "text": [
      "Dataset's name: Combines state monitoring\n",
      "\n",
      "Dataset's description: \n",
      "\n",
      "Tast to solve with dataset: \n",
      "\n",
      "Dataset's features: ['Anker', 'Cut', 'Go', 'Uncert']\n",
      "\n",
      "Dataset's target: None\n"
     ]
    }
   ],
   "source": [
    "print(f\"Dataset's name: {dataset.name}\\n\")\n",
    "print(f\"Dataset's description: {dataset.description}\\n\")\n",
    "print(f\"Tast to solve with dataset: {dataset.task}\\n\")\n",
    "print(f\"Dataset's features: {dataset.feature_names}\\n\")\n",
    "print(f\"Dataset's target: {dataset.target_names}\")"
   ]
  },
  {
   "cell_type": "markdown",
   "id": "666258fa-2cf0-4349-998b-78d2360204f1",
   "metadata": {},
   "source": [
    "### Dataset\n",
    "#### Набор данных"
   ]
  },
  {
   "cell_type": "code",
   "execution_count": 5,
   "id": "d1df64ab-58ca-415b-95f3-25062ea4873a",
   "metadata": {},
   "outputs": [
    {
     "data": {
      "text/html": [
       "<div>\n",
       "<style scoped>\n",
       "    .dataframe tbody tr th:only-of-type {\n",
       "        vertical-align: middle;\n",
       "    }\n",
       "\n",
       "    .dataframe tbody tr th {\n",
       "        vertical-align: top;\n",
       "    }\n",
       "\n",
       "    .dataframe thead th {\n",
       "        text-align: right;\n",
       "    }\n",
       "</style>\n",
       "<table border=\"1\" class=\"dataframe\">\n",
       "  <thead>\n",
       "    <tr style=\"text-align: right;\">\n",
       "      <th>Описание</th>\n",
       "      <th>Anker</th>\n",
       "      <th>Cut</th>\n",
       "      <th>Go</th>\n",
       "      <th>Uncert</th>\n",
       "    </tr>\n",
       "    <tr>\n",
       "      <th>Время</th>\n",
       "      <th></th>\n",
       "      <th></th>\n",
       "      <th></th>\n",
       "      <th></th>\n",
       "    </tr>\n",
       "  </thead>\n",
       "  <tbody>\n",
       "    <tr>\n",
       "      <th>2023-04-21 13:32:48.228</th>\n",
       "      <td>0.0</td>\n",
       "      <td>NaN</td>\n",
       "      <td>NaN</td>\n",
       "      <td>NaN</td>\n",
       "    </tr>\n",
       "    <tr>\n",
       "      <th>2023-04-21 13:32:48.230</th>\n",
       "      <td>NaN</td>\n",
       "      <td>NaN</td>\n",
       "      <td>0.0</td>\n",
       "      <td>NaN</td>\n",
       "    </tr>\n",
       "  </tbody>\n",
       "</table>\n",
       "</div>"
      ],
      "text/plain": [
       "Описание                 Anker  Cut   Go  Uncert\n",
       "Время                                           \n",
       "2023-04-21 13:32:48.228    0.0  NaN  NaN     NaN\n",
       "2023-04-21 13:32:48.230    NaN  NaN  0.0     NaN"
      ]
     },
     "execution_count": 5,
     "metadata": {},
     "output_type": "execute_result"
    }
   ],
   "source": [
    "dataset.frame.head(2)"
   ]
  },
  {
   "cell_type": "markdown",
   "id": "3579b8a0-a8ca-49c7-8d59-47778d059f60",
   "metadata": {},
   "source": [
    "# SKAB (skoltech anomaly benchmark) teaser\n",
    "### SKAB (набор данных Сколтеха для тестирования) Тизер"
   ]
  },
  {
   "cell_type": "markdown",
   "id": "ec040668-1e2c-49c0-af59-4a2e5c73886a",
   "metadata": {},
   "source": [
    "### Importing\n",
    "#### Импорт функций"
   ]
  },
  {
   "cell_type": "code",
   "execution_count": 6,
   "id": "d808f302-6790-4f35-81a8-7da4ec04420d",
   "metadata": {},
   "outputs": [],
   "source": [
    "from tsad.base.datasets import load_skab_teaser\n",
    "\n",
    "dataset = load_skab_teaser()"
   ]
  },
  {
   "cell_type": "markdown",
   "id": "df9d8471-0590-4af8-945a-f0e312d30097",
   "metadata": {},
   "source": [
    "### Dataset info\n",
    "#### Информация о наборе данных"
   ]
  },
  {
   "cell_type": "code",
   "execution_count": 7,
   "id": "e2aeb5a7-6e69-45e8-8325-4753a1636ff2",
   "metadata": {},
   "outputs": [
    {
     "name": "stdout",
     "output_type": "stream",
     "text": [
      "Dataset's name: SKAB (skoltech anomaly benchmark) teaser\n",
      "\n",
      "Dataset's description: Dataset for process monitoring (changepoint detection) benchmarking. It is just a short version (teaser) of SKAB\n",
      "\n",
      "Tast to solve with dataset: Process monitoring (changepoint detection)\n",
      "\n",
      "Dataset's features: ['Accelerometer1RMS', 'Accelerometer2RMS', 'Current', 'Pressure', 'Temperature', 'Thermocouple', 'Voltage', 'Volume Flow RateRMS']\n",
      "\n",
      "Dataset's target: None\n"
     ]
    }
   ],
   "source": [
    "print(f\"Dataset's name: {dataset.name}\\n\")\n",
    "print(f\"Dataset's description: {dataset.description}\\n\")\n",
    "print(f\"Tast to solve with dataset: {dataset.task}\\n\")\n",
    "print(f\"Dataset's features: {dataset.feature_names}\\n\")\n",
    "print(f\"Dataset's target: {dataset.target_names}\")"
   ]
  },
  {
   "cell_type": "markdown",
   "id": "d02460b8-3346-4c7b-8641-1f941c033136",
   "metadata": {},
   "source": [
    "### Dataset\n",
    "#### Набор данных"
   ]
  },
  {
   "cell_type": "markdown",
   "id": "f31ab903-10dd-486c-a118-a597ac30aff4",
   "metadata": {},
   "source": [
    "Dataset has separate markup (labels). Dataset itself:\n",
    "\n",
    "__RU:__ _Набор данных имеет отдельную разметку (метки). Сам набор данных:_"
   ]
  },
  {
   "cell_type": "code",
   "execution_count": 8,
   "id": "8ff32d1c-0593-42e7-b61a-1b76b03bb863",
   "metadata": {},
   "outputs": [
    {
     "data": {
      "text/html": [
       "<div>\n",
       "<style scoped>\n",
       "    .dataframe tbody tr th:only-of-type {\n",
       "        vertical-align: middle;\n",
       "    }\n",
       "\n",
       "    .dataframe tbody tr th {\n",
       "        vertical-align: top;\n",
       "    }\n",
       "\n",
       "    .dataframe thead th {\n",
       "        text-align: right;\n",
       "    }\n",
       "</style>\n",
       "<table border=\"1\" class=\"dataframe\">\n",
       "  <thead>\n",
       "    <tr style=\"text-align: right;\">\n",
       "      <th>id</th>\n",
       "      <th>Accelerometer1RMS</th>\n",
       "      <th>Accelerometer2RMS</th>\n",
       "      <th>Current</th>\n",
       "      <th>Pressure</th>\n",
       "      <th>Temperature</th>\n",
       "      <th>Thermocouple</th>\n",
       "      <th>Voltage</th>\n",
       "      <th>Volume Flow RateRMS</th>\n",
       "    </tr>\n",
       "    <tr>\n",
       "      <th>datetime</th>\n",
       "      <th></th>\n",
       "      <th></th>\n",
       "      <th></th>\n",
       "      <th></th>\n",
       "      <th></th>\n",
       "      <th></th>\n",
       "      <th></th>\n",
       "      <th></th>\n",
       "    </tr>\n",
       "  </thead>\n",
       "  <tbody>\n",
       "    <tr>\n",
       "      <th>2019-07-08 17:02:14</th>\n",
       "      <td>0.04283</td>\n",
       "      <td>0.080612</td>\n",
       "      <td>0.000749</td>\n",
       "      <td>-0.273216</td>\n",
       "      <td>28.2099</td>\n",
       "      <td>23.4457</td>\n",
       "      <td>252.743</td>\n",
       "      <td>37.0242</td>\n",
       "    </tr>\n",
       "    <tr>\n",
       "      <th>2019-07-08 17:02:32</th>\n",
       "      <td>0.04333</td>\n",
       "      <td>0.084116</td>\n",
       "      <td>0.000849</td>\n",
       "      <td>0.054711</td>\n",
       "      <td>28.3486</td>\n",
       "      <td>23.4492</td>\n",
       "      <td>240.488</td>\n",
       "      <td>37.0000</td>\n",
       "    </tr>\n",
       "  </tbody>\n",
       "</table>\n",
       "</div>"
      ],
      "text/plain": [
       "id                   Accelerometer1RMS  Accelerometer2RMS   Current  Pressure  \\\n",
       "datetime                                                                        \n",
       "2019-07-08 17:02:14            0.04283           0.080612  0.000749 -0.273216   \n",
       "2019-07-08 17:02:32            0.04333           0.084116  0.000849  0.054711   \n",
       "\n",
       "id                   Temperature  Thermocouple  Voltage  Volume Flow RateRMS  \n",
       "datetime                                                                      \n",
       "2019-07-08 17:02:14      28.2099       23.4457  252.743              37.0242  \n",
       "2019-07-08 17:02:32      28.3486       23.4492  240.488              37.0000  "
      ]
     },
     "execution_count": 8,
     "metadata": {},
     "output_type": "execute_result"
    }
   ],
   "source": [
    "dataset.frame[0].head(2)"
   ]
  },
  {
   "cell_type": "markdown",
   "id": "2b205485-67a4-4214-949f-1070aa9ee4c4",
   "metadata": {},
   "source": [
    "Labels:\n",
    "\n",
    "__RU__: _Метки:_"
   ]
  },
  {
   "cell_type": "code",
   "execution_count": 9,
   "id": "6e7d2075-005c-4a70-a43d-c7835c97d361",
   "metadata": {},
   "outputs": [
    {
     "data": {
      "text/plain": [
       "[('2019-07-08 18:39:22', '2019-07-08 18:42:32'),\n",
       " ('2019-07-08 18:44:36', '2019-07-08 18:46:51'),\n",
       " ('2019-07-08 19:06:57', '2019-07-08 19:11:31'),\n",
       " ('2019-07-08 19:14:40', '2019-07-08 19:21:16')]"
      ]
     },
     "execution_count": 9,
     "metadata": {},
     "output_type": "execute_result"
    }
   ],
   "source": [
    "dataset.frame[1]"
   ]
  },
  {
   "cell_type": "markdown",
   "id": "c73879ed-3720-46c4-8ce5-3c7bf36e34f2",
   "metadata": {},
   "source": [
    "# SKAB (skoltech anomaly benchmark)\n",
    "### SKAB (набор данных Сколтеха для тестирования поиска аномалий)"
   ]
  },
  {
   "cell_type": "markdown",
   "id": "1a5d3de8-dfb2-4c29-8e74-356ca56be665",
   "metadata": {},
   "source": [
    "### Importing\n",
    "#### Импорт функций"
   ]
  },
  {
   "cell_type": "code",
   "execution_count": 10,
   "id": "2cc1f883-e6d4-47b4-b7cd-3e14320069c2",
   "metadata": {},
   "outputs": [],
   "source": [
    "from tsad.base.datasets import load_skab\n",
    "\n",
    "dataset = load_skab()"
   ]
  },
  {
   "cell_type": "markdown",
   "id": "c4d9ec8c-0b42-4fe6-9a53-394ab5046709",
   "metadata": {},
   "source": [
    "### Dataset info\n",
    "#### Информация о наборе данных"
   ]
  },
  {
   "cell_type": "code",
   "execution_count": 11,
   "id": "8495097d-dd90-45d7-b4b6-fdd8c2747596",
   "metadata": {},
   "outputs": [
    {
     "name": "stdout",
     "output_type": "stream",
     "text": [
      "Dataset's name: SKAB (skoltech anomaly benchmark)\n",
      "\n",
      "Dataset's description: Dataset for process monitoring (changepoint detection) benchmarking\n",
      "\n",
      "Tast to solve with dataset: Process monitoring (changepoint detection)\n",
      "\n",
      "Dataset's features: ['Accelerometer1RMS', 'Accelerometer2RMS', 'Current', 'Pressure', 'Temperature', 'Thermocouple', 'Voltage', 'Volume Flow RateRMS']\n",
      "\n",
      "Dataset's target: ['anomaly', 'changepoint']\n"
     ]
    }
   ],
   "source": [
    "print(f\"Dataset's name: {dataset.name}\\n\")\n",
    "print(f\"Dataset's description: {dataset.description}\\n\")\n",
    "print(f\"Tast to solve with dataset: {dataset.task}\\n\")\n",
    "print(f\"Dataset's features: {dataset.feature_names}\\n\")\n",
    "print(f\"Dataset's target: {dataset.target_names}\")"
   ]
  },
  {
   "cell_type": "markdown",
   "id": "852ffb95-d22b-4555-963e-6325194152bc",
   "metadata": {},
   "source": [
    "### Dataset\n",
    "#### Набор данных"
   ]
  },
  {
   "cell_type": "code",
   "execution_count": 12,
   "id": "2244d272-0107-4961-9316-50ab18aabd96",
   "metadata": {},
   "outputs": [
    {
     "data": {
      "text/html": [
       "<div>\n",
       "<style scoped>\n",
       "    .dataframe tbody tr th:only-of-type {\n",
       "        vertical-align: middle;\n",
       "    }\n",
       "\n",
       "    .dataframe tbody tr th {\n",
       "        vertical-align: top;\n",
       "    }\n",
       "\n",
       "    .dataframe thead th {\n",
       "        text-align: right;\n",
       "    }\n",
       "</style>\n",
       "<table border=\"1\" class=\"dataframe\">\n",
       "  <thead>\n",
       "    <tr style=\"text-align: right;\">\n",
       "      <th></th>\n",
       "      <th></th>\n",
       "      <th>Accelerometer1RMS</th>\n",
       "      <th>Accelerometer2RMS</th>\n",
       "      <th>Current</th>\n",
       "      <th>Pressure</th>\n",
       "      <th>Temperature</th>\n",
       "      <th>Thermocouple</th>\n",
       "      <th>Voltage</th>\n",
       "      <th>Volume Flow RateRMS</th>\n",
       "      <th>anomaly</th>\n",
       "      <th>changepoint</th>\n",
       "    </tr>\n",
       "    <tr>\n",
       "      <th>experiment</th>\n",
       "      <th>datetime</th>\n",
       "      <th></th>\n",
       "      <th></th>\n",
       "      <th></th>\n",
       "      <th></th>\n",
       "      <th></th>\n",
       "      <th></th>\n",
       "      <th></th>\n",
       "      <th></th>\n",
       "      <th></th>\n",
       "      <th></th>\n",
       "    </tr>\n",
       "  </thead>\n",
       "  <tbody>\n",
       "    <tr>\n",
       "      <th rowspan=\"2\" valign=\"top\">valve1/6</th>\n",
       "      <th>2020-03-09 12:14:36</th>\n",
       "      <td>0.027429</td>\n",
       "      <td>0.040353</td>\n",
       "      <td>0.77031</td>\n",
       "      <td>0.382638</td>\n",
       "      <td>71.2129</td>\n",
       "      <td>25.0827</td>\n",
       "      <td>219.789</td>\n",
       "      <td>32.0000</td>\n",
       "      <td>0.0</td>\n",
       "      <td>0.0</td>\n",
       "    </tr>\n",
       "    <tr>\n",
       "      <th>2020-03-09 12:14:37</th>\n",
       "      <td>0.027269</td>\n",
       "      <td>0.040226</td>\n",
       "      <td>1.09696</td>\n",
       "      <td>0.710565</td>\n",
       "      <td>71.4284</td>\n",
       "      <td>25.0863</td>\n",
       "      <td>233.117</td>\n",
       "      <td>32.0104</td>\n",
       "      <td>0.0</td>\n",
       "      <td>0.0</td>\n",
       "    </tr>\n",
       "  </tbody>\n",
       "</table>\n",
       "</div>"
      ],
      "text/plain": [
       "                                Accelerometer1RMS  Accelerometer2RMS  Current  \\\n",
       "experiment datetime                                                             \n",
       "valve1/6   2020-03-09 12:14:36           0.027429           0.040353  0.77031   \n",
       "           2020-03-09 12:14:37           0.027269           0.040226  1.09696   \n",
       "\n",
       "                                Pressure  Temperature  Thermocouple  Voltage  \\\n",
       "experiment datetime                                                            \n",
       "valve1/6   2020-03-09 12:14:36  0.382638      71.2129       25.0827  219.789   \n",
       "           2020-03-09 12:14:37  0.710565      71.4284       25.0863  233.117   \n",
       "\n",
       "                                Volume Flow RateRMS  anomaly  changepoint  \n",
       "experiment datetime                                                        \n",
       "valve1/6   2020-03-09 12:14:36              32.0000      0.0          0.0  \n",
       "           2020-03-09 12:14:37              32.0104      0.0          0.0  "
      ]
     },
     "execution_count": 12,
     "metadata": {},
     "output_type": "execute_result"
    }
   ],
   "source": [
    "dataset.frame.head(2)"
   ]
  },
  {
   "cell_type": "markdown",
   "id": "fa449203-645d-41ec-8a7d-8751424285be",
   "metadata": {},
   "source": [
    "# NASA Turbofan Jet Engine Data Set\n",
    "### Набор данных о турбовентиляторном реактивном двигателе НАСА"
   ]
  },
  {
   "cell_type": "markdown",
   "id": "f6644e25-5cdc-4035-a131-f7988c90fdac",
   "metadata": {},
   "source": [
    "### Importing\n",
    "#### Импорт функций"
   ]
  },
  {
   "cell_type": "code",
   "execution_count": 13,
   "id": "a16cc80d-9391-4909-b3ff-3da0fd4abe96",
   "metadata": {},
   "outputs": [],
   "source": [
    "from tsad.base.datasets import load_turbofan_jet_engine\n",
    "\n",
    "dataset = load_turbofan_jet_engine()"
   ]
  },
  {
   "cell_type": "markdown",
   "id": "f03b94dc-1a50-4790-986d-41b507240b4d",
   "metadata": {},
   "source": [
    "### Dataset info\n",
    "#### Информация о наборе данных"
   ]
  },
  {
   "cell_type": "code",
   "execution_count": 14,
   "id": "1d9b7f1e-eee7-4b18-8c0b-679a2fd4d139",
   "metadata": {},
   "outputs": [
    {
     "name": "stdout",
     "output_type": "stream",
     "text": [
      "Dataset's name: NASA Turbofan Jet Engine Data Set\n",
      "\n",
      "Dataset's description: Dataset includes Run-to-Failure simulated data from turbo fan jet engines. In this dataset the goal is to predict the remaining useful life (RUL) of each engine in the test dataset. RUL is equivalent of number of flights remained for the engine after the last datapoint in the test dataset.\n",
      "    - In train dataset there are 100 engines. The last cycle for each engine represents the cycle when failure had happened.\n",
      "    - In test dataset there are 100 engines as well. But this time, failure cycle was not provided.\n",
      "\n",
      "Tast to solve with dataset: Remaining useful life prediction\n",
      "\n",
      "Dataset's features: ['id', 'cycle', 'setting1', 'setting2', 'setting3', 's1', 's2', 's3', 's4', 's5', 's6', 's7', 's8', 's9', 's10', 's11', 's12', 's13', 's14', 's15', 's16', 's17', 's18', 's19', 's20', 's21']\n",
      "\n",
      "Dataset's target: ['ttf']\n"
     ]
    }
   ],
   "source": [
    "print(f\"Dataset's name: {dataset.name}\\n\")\n",
    "print(f\"Dataset's description: {dataset.description}\\n\")\n",
    "print(f\"Tast to solve with dataset: {dataset.task}\\n\")\n",
    "print(f\"Dataset's features: {dataset.feature_names}\\n\")\n",
    "print(f\"Dataset's target: {dataset.target_names}\")"
   ]
  },
  {
   "cell_type": "markdown",
   "id": "29fdec93-b9fd-46e5-9f5b-e472d25ff1c3",
   "metadata": {},
   "source": [
    "### Dataset\n",
    "#### Набор данных"
   ]
  },
  {
   "cell_type": "markdown",
   "id": "c8edf6ed-3948-441e-98bc-56cbf2d87e1f",
   "metadata": {},
   "source": [
    "Dataset has separate X_train, X_test and y_test.\n",
    "\n",
    "__RU:__ _Набор данных содержит отдельные X_train, X_test и y_test._\n",
    "\n",
    "X_train:"
   ]
  },
  {
   "cell_type": "code",
   "execution_count": 15,
   "id": "4b1011fb-7ea5-4a85-8bce-9cf417ccf5e8",
   "metadata": {},
   "outputs": [
    {
     "data": {
      "text/html": [
       "<div>\n",
       "<style scoped>\n",
       "    .dataframe tbody tr th:only-of-type {\n",
       "        vertical-align: middle;\n",
       "    }\n",
       "\n",
       "    .dataframe tbody tr th {\n",
       "        vertical-align: top;\n",
       "    }\n",
       "\n",
       "    .dataframe thead th {\n",
       "        text-align: right;\n",
       "    }\n",
       "</style>\n",
       "<table border=\"1\" class=\"dataframe\">\n",
       "  <thead>\n",
       "    <tr style=\"text-align: right;\">\n",
       "      <th></th>\n",
       "      <th>id</th>\n",
       "      <th>cycle</th>\n",
       "      <th>setting1</th>\n",
       "      <th>setting2</th>\n",
       "      <th>setting3</th>\n",
       "      <th>s1</th>\n",
       "      <th>s2</th>\n",
       "      <th>s3</th>\n",
       "      <th>s4</th>\n",
       "      <th>s5</th>\n",
       "      <th>...</th>\n",
       "      <th>s12</th>\n",
       "      <th>s13</th>\n",
       "      <th>s14</th>\n",
       "      <th>s15</th>\n",
       "      <th>s16</th>\n",
       "      <th>s17</th>\n",
       "      <th>s18</th>\n",
       "      <th>s19</th>\n",
       "      <th>s20</th>\n",
       "      <th>s21</th>\n",
       "    </tr>\n",
       "  </thead>\n",
       "  <tbody>\n",
       "    <tr>\n",
       "      <th>0</th>\n",
       "      <td>1</td>\n",
       "      <td>1</td>\n",
       "      <td>-0.0007</td>\n",
       "      <td>-0.0004</td>\n",
       "      <td>100.0</td>\n",
       "      <td>518.67</td>\n",
       "      <td>641.82</td>\n",
       "      <td>1589.70</td>\n",
       "      <td>1400.60</td>\n",
       "      <td>14.62</td>\n",
       "      <td>...</td>\n",
       "      <td>521.66</td>\n",
       "      <td>2388.02</td>\n",
       "      <td>8138.62</td>\n",
       "      <td>8.4195</td>\n",
       "      <td>0.03</td>\n",
       "      <td>392</td>\n",
       "      <td>2388</td>\n",
       "      <td>100.0</td>\n",
       "      <td>39.06</td>\n",
       "      <td>23.4190</td>\n",
       "    </tr>\n",
       "    <tr>\n",
       "      <th>1</th>\n",
       "      <td>1</td>\n",
       "      <td>2</td>\n",
       "      <td>0.0019</td>\n",
       "      <td>-0.0003</td>\n",
       "      <td>100.0</td>\n",
       "      <td>518.67</td>\n",
       "      <td>642.15</td>\n",
       "      <td>1591.82</td>\n",
       "      <td>1403.14</td>\n",
       "      <td>14.62</td>\n",
       "      <td>...</td>\n",
       "      <td>522.28</td>\n",
       "      <td>2388.07</td>\n",
       "      <td>8131.49</td>\n",
       "      <td>8.4318</td>\n",
       "      <td>0.03</td>\n",
       "      <td>392</td>\n",
       "      <td>2388</td>\n",
       "      <td>100.0</td>\n",
       "      <td>39.00</td>\n",
       "      <td>23.4236</td>\n",
       "    </tr>\n",
       "  </tbody>\n",
       "</table>\n",
       "<p>2 rows × 26 columns</p>\n",
       "</div>"
      ],
      "text/plain": [
       "   id  cycle  setting1  setting2  setting3      s1      s2       s3       s4  \\\n",
       "0   1      1   -0.0007   -0.0004     100.0  518.67  641.82  1589.70  1400.60   \n",
       "1   1      2    0.0019   -0.0003     100.0  518.67  642.15  1591.82  1403.14   \n",
       "\n",
       "      s5  ...     s12      s13      s14     s15   s16  s17   s18    s19  \\\n",
       "0  14.62  ...  521.66  2388.02  8138.62  8.4195  0.03  392  2388  100.0   \n",
       "1  14.62  ...  522.28  2388.07  8131.49  8.4318  0.03  392  2388  100.0   \n",
       "\n",
       "     s20      s21  \n",
       "0  39.06  23.4190  \n",
       "1  39.00  23.4236  \n",
       "\n",
       "[2 rows x 26 columns]"
      ]
     },
     "execution_count": 15,
     "metadata": {},
     "output_type": "execute_result"
    }
   ],
   "source": [
    "dataset.frame[0].head(2)"
   ]
  },
  {
   "cell_type": "markdown",
   "id": "a976690d-cf46-48d4-87b4-a18d4da4293a",
   "metadata": {},
   "source": [
    "X_test:"
   ]
  },
  {
   "cell_type": "code",
   "execution_count": 16,
   "id": "27361fb1-d86a-4f52-a788-09b48255bcf2",
   "metadata": {},
   "outputs": [
    {
     "data": {
      "text/html": [
       "<div>\n",
       "<style scoped>\n",
       "    .dataframe tbody tr th:only-of-type {\n",
       "        vertical-align: middle;\n",
       "    }\n",
       "\n",
       "    .dataframe tbody tr th {\n",
       "        vertical-align: top;\n",
       "    }\n",
       "\n",
       "    .dataframe thead th {\n",
       "        text-align: right;\n",
       "    }\n",
       "</style>\n",
       "<table border=\"1\" class=\"dataframe\">\n",
       "  <thead>\n",
       "    <tr style=\"text-align: right;\">\n",
       "      <th></th>\n",
       "      <th>id</th>\n",
       "      <th>cycle</th>\n",
       "      <th>setting1</th>\n",
       "      <th>setting2</th>\n",
       "      <th>setting3</th>\n",
       "      <th>s1</th>\n",
       "      <th>s2</th>\n",
       "      <th>s3</th>\n",
       "      <th>s4</th>\n",
       "      <th>s5</th>\n",
       "      <th>...</th>\n",
       "      <th>s12</th>\n",
       "      <th>s13</th>\n",
       "      <th>s14</th>\n",
       "      <th>s15</th>\n",
       "      <th>s16</th>\n",
       "      <th>s17</th>\n",
       "      <th>s18</th>\n",
       "      <th>s19</th>\n",
       "      <th>s20</th>\n",
       "      <th>s21</th>\n",
       "    </tr>\n",
       "  </thead>\n",
       "  <tbody>\n",
       "    <tr>\n",
       "      <th>0</th>\n",
       "      <td>1</td>\n",
       "      <td>1</td>\n",
       "      <td>0.0023</td>\n",
       "      <td>0.0003</td>\n",
       "      <td>100.0</td>\n",
       "      <td>518.67</td>\n",
       "      <td>643.02</td>\n",
       "      <td>1585.29</td>\n",
       "      <td>1398.21</td>\n",
       "      <td>14.62</td>\n",
       "      <td>...</td>\n",
       "      <td>521.72</td>\n",
       "      <td>2388.03</td>\n",
       "      <td>8125.55</td>\n",
       "      <td>8.4052</td>\n",
       "      <td>0.03</td>\n",
       "      <td>392</td>\n",
       "      <td>2388</td>\n",
       "      <td>100.0</td>\n",
       "      <td>38.86</td>\n",
       "      <td>23.3735</td>\n",
       "    </tr>\n",
       "    <tr>\n",
       "      <th>1</th>\n",
       "      <td>1</td>\n",
       "      <td>2</td>\n",
       "      <td>-0.0027</td>\n",
       "      <td>-0.0003</td>\n",
       "      <td>100.0</td>\n",
       "      <td>518.67</td>\n",
       "      <td>641.71</td>\n",
       "      <td>1588.45</td>\n",
       "      <td>1395.42</td>\n",
       "      <td>14.62</td>\n",
       "      <td>...</td>\n",
       "      <td>522.16</td>\n",
       "      <td>2388.06</td>\n",
       "      <td>8139.62</td>\n",
       "      <td>8.3803</td>\n",
       "      <td>0.03</td>\n",
       "      <td>393</td>\n",
       "      <td>2388</td>\n",
       "      <td>100.0</td>\n",
       "      <td>39.02</td>\n",
       "      <td>23.3916</td>\n",
       "    </tr>\n",
       "  </tbody>\n",
       "</table>\n",
       "<p>2 rows × 26 columns</p>\n",
       "</div>"
      ],
      "text/plain": [
       "   id  cycle  setting1  setting2  setting3      s1      s2       s3       s4  \\\n",
       "0   1      1    0.0023    0.0003     100.0  518.67  643.02  1585.29  1398.21   \n",
       "1   1      2   -0.0027   -0.0003     100.0  518.67  641.71  1588.45  1395.42   \n",
       "\n",
       "      s5  ...     s12      s13      s14     s15   s16  s17   s18    s19  \\\n",
       "0  14.62  ...  521.72  2388.03  8125.55  8.4052  0.03  392  2388  100.0   \n",
       "1  14.62  ...  522.16  2388.06  8139.62  8.3803  0.03  393  2388  100.0   \n",
       "\n",
       "     s20      s21  \n",
       "0  38.86  23.3735  \n",
       "1  39.02  23.3916  \n",
       "\n",
       "[2 rows x 26 columns]"
      ]
     },
     "execution_count": 16,
     "metadata": {},
     "output_type": "execute_result"
    }
   ],
   "source": [
    "dataset.frame[1].head(2)"
   ]
  },
  {
   "cell_type": "markdown",
   "id": "7a2d5535-3ace-4d1f-a3d1-feaf312e18e1",
   "metadata": {},
   "source": [
    "y_test:"
   ]
  },
  {
   "cell_type": "code",
   "execution_count": 17,
   "id": "1192ee53-6732-4e43-923c-1dea5677f4fb",
   "metadata": {},
   "outputs": [
    {
     "data": {
      "text/html": [
       "<div>\n",
       "<style scoped>\n",
       "    .dataframe tbody tr th:only-of-type {\n",
       "        vertical-align: middle;\n",
       "    }\n",
       "\n",
       "    .dataframe tbody tr th {\n",
       "        vertical-align: top;\n",
       "    }\n",
       "\n",
       "    .dataframe thead th {\n",
       "        text-align: right;\n",
       "    }\n",
       "</style>\n",
       "<table border=\"1\" class=\"dataframe\">\n",
       "  <thead>\n",
       "    <tr style=\"text-align: right;\">\n",
       "      <th></th>\n",
       "      <th>ttf</th>\n",
       "    </tr>\n",
       "  </thead>\n",
       "  <tbody>\n",
       "    <tr>\n",
       "      <th>0</th>\n",
       "      <td>112</td>\n",
       "    </tr>\n",
       "    <tr>\n",
       "      <th>1</th>\n",
       "      <td>98</td>\n",
       "    </tr>\n",
       "  </tbody>\n",
       "</table>\n",
       "</div>"
      ],
      "text/plain": [
       "   ttf\n",
       "0  112\n",
       "1   98"
      ]
     },
     "execution_count": 17,
     "metadata": {},
     "output_type": "execute_result"
    }
   ],
   "source": [
    "dataset.frame[2].head(2)"
   ]
  },
  {
   "cell_type": "markdown",
   "id": "f0a8c0a9-ebf1-4e77-ae8a-1e5330b5cf71",
   "metadata": {},
   "source": [
    "# TEP (Tennessee Eastman process)\n",
    "## TEP (процесс Теннесси Истмана)"
   ]
  },
  {
   "cell_type": "markdown",
   "id": "bf4671bc-0b5b-48e8-a108-0113c018d983",
   "metadata": {},
   "source": [
    "### Importing\n",
    "#### Импорт функций"
   ]
  },
  {
   "cell_type": "code",
   "execution_count": 18,
   "id": "24d0a99b-d926-463a-8317-01603bf80803",
   "metadata": {},
   "outputs": [],
   "source": [
    "from tsad.base.datasets import load_tep\n",
    "\n",
    "dataset = load_tep()"
   ]
  },
  {
   "cell_type": "markdown",
   "id": "2dc81446-f33a-4641-8220-84b27456787a",
   "metadata": {},
   "source": [
    "### Dataset info\n",
    "#### Информация о наборе данных"
   ]
  },
  {
   "cell_type": "code",
   "execution_count": 19,
   "id": "37067791-6645-41af-879d-8e9c426117cf",
   "metadata": {},
   "outputs": [
    {
     "name": "stdout",
     "output_type": "stream",
     "text": [
      "Dataset's name: TEP (Tennessee Eastman process)\n",
      "\n",
      "Dataset's description: Each training data file contains 480 rows and 52 columns and each testing data file contains 960 rows and 52 columns.  An observation vector at a particular time instant is given by x=[XMEAS(1), XMEAS(2), ..., XMEAS(41), XMV(1), ..., XMV(11)]^T where XMEAS(n) is the n-th measured variable and XMV(n) is the n-th manipulated variable.\n",
      "\n",
      "Tast to solve with dataset: Outlier detection\n",
      "\n",
      "Dataset's features: ['XMEAS(1)', 'XMEAS(2)', 'XMEAS(3)', 'XMEAS(4)', 'XMEAS(5)', 'XMEAS(6)', 'XMEAS(7)', 'XMEAS(8)', 'XMEAS(9)', 'XMEAS(10)', 'XMEAS(11)', 'XMEAS(12)', 'XMEAS(13)', 'XMEAS(14)', 'XMEAS(15)', 'XMEAS(16)', 'XMEAS(17)', 'XMEAS(18)', 'XMEAS(19)', 'XMEAS(20)', 'XMEAS(21)', 'XMEAS(22)', 'XMEAS(23)', 'XMEAS(24)', 'XMEAS(25)', 'XMEAS(26)', 'XMEAS(27)', 'XMEAS(28)', 'XMEAS(29)', 'XMEAS(30)', 'XMEAS(31)', 'XMEAS(32)', 'XMEAS(33)', 'XMEAS(34)', 'XMEAS(35)', 'XMEAS(36)', 'XMEAS(37)', 'XMEAS(38)', 'XMEAS(39)', 'XMEAS(40)', 'XMEAS(41)', 'XMV(1)', 'XMV(2)', 'XMV(3)', 'XMV(4)', 'XMV(5)', 'XMV(6)', 'XMV(7)', 'XMV(8)', 'XMV(9)', 'XMV(10)', 'XMV(11)']\n",
      "\n",
      "Dataset's target: None\n"
     ]
    }
   ],
   "source": [
    "print(f\"Dataset's name: {dataset.name}\\n\")\n",
    "print(f\"Dataset's description: {dataset.description}\\n\")\n",
    "print(f\"Tast to solve with dataset: {dataset.task}\\n\")\n",
    "print(f\"Dataset's features: {dataset.feature_names}\\n\")\n",
    "print(f\"Dataset's target: {dataset.target_names}\")"
   ]
  },
  {
   "cell_type": "markdown",
   "id": "0cae8f7d-408e-4308-a1c7-e39cb4228f42",
   "metadata": {},
   "source": [
    "### Dataset\n",
    "#### Набор данных"
   ]
  },
  {
   "cell_type": "code",
   "execution_count": 20,
   "id": "4024bb22-bebc-4c45-a9de-0b022fb82098",
   "metadata": {},
   "outputs": [
    {
     "data": {
      "text/html": [
       "<div>\n",
       "<style scoped>\n",
       "    .dataframe tbody tr th:only-of-type {\n",
       "        vertical-align: middle;\n",
       "    }\n",
       "\n",
       "    .dataframe tbody tr th {\n",
       "        vertical-align: top;\n",
       "    }\n",
       "\n",
       "    .dataframe thead th {\n",
       "        text-align: right;\n",
       "    }\n",
       "</style>\n",
       "<table border=\"1\" class=\"dataframe\">\n",
       "  <thead>\n",
       "    <tr style=\"text-align: right;\">\n",
       "      <th></th>\n",
       "      <th></th>\n",
       "      <th>XMEAS(1)</th>\n",
       "      <th>XMEAS(2)</th>\n",
       "      <th>XMEAS(3)</th>\n",
       "      <th>XMEAS(4)</th>\n",
       "      <th>XMEAS(5)</th>\n",
       "      <th>XMEAS(6)</th>\n",
       "      <th>XMEAS(7)</th>\n",
       "      <th>XMEAS(8)</th>\n",
       "      <th>XMEAS(9)</th>\n",
       "      <th>XMEAS(10)</th>\n",
       "      <th>...</th>\n",
       "      <th>XMV(2)</th>\n",
       "      <th>XMV(3)</th>\n",
       "      <th>XMV(4)</th>\n",
       "      <th>XMV(5)</th>\n",
       "      <th>XMV(6)</th>\n",
       "      <th>XMV(7)</th>\n",
       "      <th>XMV(8)</th>\n",
       "      <th>XMV(9)</th>\n",
       "      <th>XMV(10)</th>\n",
       "      <th>XMV(11)</th>\n",
       "    </tr>\n",
       "    <tr>\n",
       "      <th>experiment</th>\n",
       "      <th>index</th>\n",
       "      <th></th>\n",
       "      <th></th>\n",
       "      <th></th>\n",
       "      <th></th>\n",
       "      <th></th>\n",
       "      <th></th>\n",
       "      <th></th>\n",
       "      <th></th>\n",
       "      <th></th>\n",
       "      <th></th>\n",
       "      <th></th>\n",
       "      <th></th>\n",
       "      <th></th>\n",
       "      <th></th>\n",
       "      <th></th>\n",
       "      <th></th>\n",
       "      <th></th>\n",
       "      <th></th>\n",
       "      <th></th>\n",
       "      <th></th>\n",
       "      <th></th>\n",
       "    </tr>\n",
       "  </thead>\n",
       "  <tbody>\n",
       "    <tr>\n",
       "      <th rowspan=\"2\" valign=\"top\">1</th>\n",
       "      <th>0</th>\n",
       "      <td>0.25025</td>\n",
       "      <td>3657.2</td>\n",
       "      <td>4520.1</td>\n",
       "      <td>9.3965</td>\n",
       "      <td>26.715</td>\n",
       "      <td>42.191</td>\n",
       "      <td>2704.5</td>\n",
       "      <td>74.593</td>\n",
       "      <td>120.42</td>\n",
       "      <td>0.33701</td>\n",
       "      <td>...</td>\n",
       "      <td>53.850</td>\n",
       "      <td>24.670</td>\n",
       "      <td>61.839</td>\n",
       "      <td>22.101</td>\n",
       "      <td>40.078</td>\n",
       "      <td>33.041</td>\n",
       "      <td>48.969</td>\n",
       "      <td>47.459</td>\n",
       "      <td>41.841</td>\n",
       "      <td>18.049</td>\n",
       "    </tr>\n",
       "    <tr>\n",
       "      <th>1</th>\n",
       "      <td>0.25135</td>\n",
       "      <td>3662.1</td>\n",
       "      <td>4532.3</td>\n",
       "      <td>9.4020</td>\n",
       "      <td>26.644</td>\n",
       "      <td>42.812</td>\n",
       "      <td>2704.9</td>\n",
       "      <td>75.044</td>\n",
       "      <td>120.39</td>\n",
       "      <td>0.33723</td>\n",
       "      <td>...</td>\n",
       "      <td>53.705</td>\n",
       "      <td>24.562</td>\n",
       "      <td>61.348</td>\n",
       "      <td>22.264</td>\n",
       "      <td>40.050</td>\n",
       "      <td>39.154</td>\n",
       "      <td>49.870</td>\n",
       "      <td>47.403</td>\n",
       "      <td>41.188</td>\n",
       "      <td>18.008</td>\n",
       "    </tr>\n",
       "  </tbody>\n",
       "</table>\n",
       "<p>2 rows × 52 columns</p>\n",
       "</div>"
      ],
      "text/plain": [
       "                  XMEAS(1)  XMEAS(2)  XMEAS(3)  XMEAS(4)  XMEAS(5)  XMEAS(6)  \\\n",
       "experiment index                                                               \n",
       "1          0       0.25025    3657.2    4520.1    9.3965    26.715    42.191   \n",
       "           1       0.25135    3662.1    4532.3    9.4020    26.644    42.812   \n",
       "\n",
       "                  XMEAS(7)  XMEAS(8)  XMEAS(9)  XMEAS(10)  ...  XMV(2)  \\\n",
       "experiment index                                           ...           \n",
       "1          0        2704.5    74.593    120.42    0.33701  ...  53.850   \n",
       "           1        2704.9    75.044    120.39    0.33723  ...  53.705   \n",
       "\n",
       "                  XMV(3)  XMV(4)  XMV(5)  XMV(6)  XMV(7)  XMV(8)  XMV(9)  \\\n",
       "experiment index                                                           \n",
       "1          0      24.670  61.839  22.101  40.078  33.041  48.969  47.459   \n",
       "           1      24.562  61.348  22.264  40.050  39.154  49.870  47.403   \n",
       "\n",
       "                  XMV(10)  XMV(11)  \n",
       "experiment index                    \n",
       "1          0       41.841   18.049  \n",
       "           1       41.188   18.008  \n",
       "\n",
       "[2 rows x 52 columns]"
      ]
     },
     "execution_count": 20,
     "metadata": {},
     "output_type": "execute_result"
    }
   ],
   "source": [
    "dataset.frame.head(2)"
   ]
  },
  {
   "cell_type": "markdown",
   "id": "31bbfdcd-918b-4550-862d-386afbe3c4d4",
   "metadata": {},
   "source": [
    "# Pressurized Water Reactor (PWR) Dataset for Fault Detection\n",
    "### Набор данных о водяном реакторе под давлением (PWR) для обнаружения неисправностей"
   ]
  },
  {
   "cell_type": "markdown",
   "id": "04bfdb23-2e43-4f28-b4c6-9571d55db4a9",
   "metadata": {},
   "source": [
    "### Importing\n",
    "#### Импорт функций"
   ]
  },
  {
   "cell_type": "code",
   "execution_count": 21,
   "id": "0a4c630e-1b12-4e8c-b064-78b66c0638b5",
   "metadata": {},
   "outputs": [],
   "source": [
    "from tsad.base.datasets import load_pwr_anomalies\n",
    "\n",
    "dataset = load_pwr_anomalies()"
   ]
  },
  {
   "cell_type": "markdown",
   "id": "edea0232-fffa-4ee2-aa94-d17e825afa74",
   "metadata": {},
   "source": [
    "### Dataset info\n",
    "#### Информация о наборе данных"
   ]
  },
  {
   "cell_type": "code",
   "execution_count": 22,
   "id": "ce438b1b-350c-4400-95df-c67d8ef8053c",
   "metadata": {},
   "outputs": [
    {
     "name": "stdout",
     "output_type": "stream",
     "text": [
      "Dataset's name: Pressurized Water Reactor (PWR) Dataset for Fault Detection\n",
      "\n",
      "Dataset's description: Our collected dataset is benchmark data in case of reactor abnormalities detection with labels. There are 267 readings from 14 sensors of three categories: a temperature sensor, pressure sensor, and vibration sensor (including ionization chamber, accelerometer, and relative displacement sensors). This particular dataset can be utilized in the case of unsupervised abnormality detection.\n",
      "\n",
      "Tast to solve with dataset: Anomaly detection\n",
      "\n",
      "Dataset's features: ['Temperature', 'Pressure', 'Flow1', 'Flow2', 'VRR12', 'VRR22', 'VRR23', 'VRR33', 'VRS01', 'VRS03', 'VRS21', 'VRS31', 'VRS02', 'VRI01', 'VRI02', 'VRI03']\n",
      "\n",
      "Dataset's target: None\n"
     ]
    }
   ],
   "source": [
    "print(f\"Dataset's name: {dataset.name}\\n\")\n",
    "print(f\"Dataset's description: {dataset.description}\\n\")\n",
    "print(f\"Tast to solve with dataset: {dataset.task}\\n\")\n",
    "print(f\"Dataset's features: {dataset.feature_names}\\n\")\n",
    "print(f\"Dataset's target: {dataset.target_names}\")"
   ]
  },
  {
   "cell_type": "markdown",
   "id": "2050b701-ae69-403a-8c56-0dc6d8f00e83",
   "metadata": {},
   "source": [
    "### Dataset\n",
    "#### Набор данных"
   ]
  },
  {
   "cell_type": "code",
   "execution_count": 23,
   "id": "9ac4d13a-2fa6-44a0-a4b5-5699b66d5e1a",
   "metadata": {},
   "outputs": [
    {
     "data": {
      "text/html": [
       "<div>\n",
       "<style scoped>\n",
       "    .dataframe tbody tr th:only-of-type {\n",
       "        vertical-align: middle;\n",
       "    }\n",
       "\n",
       "    .dataframe tbody tr th {\n",
       "        vertical-align: top;\n",
       "    }\n",
       "\n",
       "    .dataframe thead th {\n",
       "        text-align: right;\n",
       "    }\n",
       "</style>\n",
       "<table border=\"1\" class=\"dataframe\">\n",
       "  <thead>\n",
       "    <tr style=\"text-align: right;\">\n",
       "      <th></th>\n",
       "      <th>Temperature</th>\n",
       "      <th>Pressure</th>\n",
       "      <th>Flow1</th>\n",
       "      <th>Flow2</th>\n",
       "      <th>VRR12</th>\n",
       "      <th>VRR22</th>\n",
       "      <th>VRR23</th>\n",
       "      <th>VRR33</th>\n",
       "      <th>VRS01</th>\n",
       "      <th>VRS03</th>\n",
       "      <th>VRS21</th>\n",
       "      <th>VRS31</th>\n",
       "      <th>VRS02</th>\n",
       "      <th>VRI01</th>\n",
       "      <th>VRI02</th>\n",
       "      <th>VRI03</th>\n",
       "    </tr>\n",
       "    <tr>\n",
       "      <th>Readings</th>\n",
       "      <th></th>\n",
       "      <th></th>\n",
       "      <th></th>\n",
       "      <th></th>\n",
       "      <th></th>\n",
       "      <th></th>\n",
       "      <th></th>\n",
       "      <th></th>\n",
       "      <th></th>\n",
       "      <th></th>\n",
       "      <th></th>\n",
       "      <th></th>\n",
       "      <th></th>\n",
       "      <th></th>\n",
       "      <th></th>\n",
       "      <th></th>\n",
       "    </tr>\n",
       "  </thead>\n",
       "  <tbody>\n",
       "    <tr>\n",
       "      <th>1</th>\n",
       "      <td>248.852987</td>\n",
       "      <td>9.689813</td>\n",
       "      <td>4462.130014</td>\n",
       "      <td>13302.9265</td>\n",
       "      <td>19.060938</td>\n",
       "      <td>0.059119</td>\n",
       "      <td>0.050589</td>\n",
       "      <td>0.111864</td>\n",
       "      <td>0.033951</td>\n",
       "      <td>0.047812</td>\n",
       "      <td>0.232627</td>\n",
       "      <td>0.253775</td>\n",
       "      <td>0.400726</td>\n",
       "      <td>1.763223</td>\n",
       "      <td>0.003031</td>\n",
       "      <td>0.004995</td>\n",
       "    </tr>\n",
       "    <tr>\n",
       "      <th>2</th>\n",
       "      <td>269.315740</td>\n",
       "      <td>1.279532</td>\n",
       "      <td>4480.252595</td>\n",
       "      <td>13784.45225</td>\n",
       "      <td>19.062128</td>\n",
       "      <td>0.059089</td>\n",
       "      <td>0.048788</td>\n",
       "      <td>0.111340</td>\n",
       "      <td>0.034060</td>\n",
       "      <td>0.052611</td>\n",
       "      <td>0.233342</td>\n",
       "      <td>0.315067</td>\n",
       "      <td>0.128517</td>\n",
       "      <td>1.769272</td>\n",
       "      <td>0.003164</td>\n",
       "      <td>0.004999</td>\n",
       "    </tr>\n",
       "  </tbody>\n",
       "</table>\n",
       "</div>"
      ],
      "text/plain": [
       "          Temperature  Pressure        Flow1        Flow2      VRR12  \\\n",
       "Readings                                                               \n",
       "1          248.852987  9.689813  4462.130014   13302.9265  19.060938   \n",
       "2          269.315740  1.279532  4480.252595  13784.45225  19.062128   \n",
       "\n",
       "             VRR22     VRR23     VRR33     VRS01     VRS03     VRS21  \\\n",
       "Readings                                                               \n",
       "1         0.059119  0.050589  0.111864  0.033951  0.047812  0.232627   \n",
       "2         0.059089  0.048788  0.111340  0.034060  0.052611  0.233342   \n",
       "\n",
       "             VRS31     VRS02     VRI01     VRI02     VRI03  \n",
       "Readings                                                    \n",
       "1         0.253775  0.400726  1.763223  0.003031  0.004995  \n",
       "2         0.315067  0.128517  1.769272  0.003164  0.004999  "
      ]
     },
     "execution_count": 23,
     "metadata": {},
     "output_type": "execute_result"
    }
   ],
   "source": [
    "dataset.frame.head(2)"
   ]
  },
  {
   "cell_type": "markdown",
   "id": "0497d360-57dd-4dd4-98bf-b61a4e5e32dc",
   "metadata": {},
   "source": [
    "# NPP Power Transformer RUL"
   ]
  },
  {
   "cell_type": "markdown",
   "id": "c453820d-a5f1-42e0-88cd-78f1cf97191a",
   "metadata": {},
   "source": [
    "### Importing\n",
    "#### Импорт функций"
   ]
  },
  {
   "cell_type": "code",
   "execution_count": 3,
   "id": "baf8ed2e-d89f-42f7-b11c-4de8115976dc",
   "metadata": {},
   "outputs": [],
   "source": [
    "from tsad.base.datasets import load_transformer_rul\n",
    "\n",
    "dataset = load_transformer_rul()"
   ]
  },
  {
   "cell_type": "markdown",
   "id": "e1807c3a-1f16-4c42-864d-6fead5d13dab",
   "metadata": {},
   "source": [
    "### Dataset info\n",
    "#### Информация о наборе данных"
   ]
  },
  {
   "cell_type": "code",
   "execution_count": 4,
   "id": "f1607274-e1b2-4986-9a4b-8af780d72111",
   "metadata": {},
   "outputs": [
    {
     "name": "stdout",
     "output_type": "stream",
     "text": [
      "Dataset's name: NPP Power Transformer RUL\n",
      "\n",
      "Dataset's description: Dataset for Determining the Remaining Useful Life of Transformers. It is necessary to create a mathematical model that will determine RUL by the final 420 points. The period between time points is 12 hours.\n",
      "\n",
      "Tast to solve with dataset: Remaining useful life prediction\n",
      "\n",
      "Dataset's features: ['H2', 'CO', 'C2H4', 'C2H2']\n",
      "\n",
      "Dataset's target: ['predicted']\n"
     ]
    }
   ],
   "source": [
    "print(f\"Dataset's name: {dataset.name}\\n\")\n",
    "print(f\"Dataset's description: {dataset.description}\\n\")\n",
    "print(f\"Tast to solve with dataset: {dataset.task}\\n\")\n",
    "print(f\"Dataset's features: {dataset.feature_names}\\n\")\n",
    "print(f\"Dataset's target: {dataset.target_names}\")"
   ]
  },
  {
   "cell_type": "markdown",
   "id": "925d64b9-49da-4b3a-9488-7ee735f9831e",
   "metadata": {},
   "source": [
    "### Dataset\n",
    "#### Набор данных"
   ]
  },
  {
   "cell_type": "markdown",
   "id": "5a1c0f60-7273-49ea-a24a-acb1102794b7",
   "metadata": {},
   "source": [
    "Dataset has four separate files with X_train, X_test, y_train, y_test sets.\n",
    "\n",
    "__RU:__ _Набор данных содержит отдельные X_train, X_test и y_test._"
   ]
  },
  {
   "cell_type": "markdown",
   "id": "9cde17a6-027c-4ae0-8be1-0894f3ff7f49",
   "metadata": {},
   "source": [
    "X_train:"
   ]
  },
  {
   "cell_type": "code",
   "execution_count": 5,
   "id": "b2242d5b-7187-4949-9cb7-18bcb721b11c",
   "metadata": {},
   "outputs": [
    {
     "data": {
      "text/html": [
       "<div>\n",
       "<style scoped>\n",
       "    .dataframe tbody tr th:only-of-type {\n",
       "        vertical-align: middle;\n",
       "    }\n",
       "\n",
       "    .dataframe tbody tr th {\n",
       "        vertical-align: top;\n",
       "    }\n",
       "\n",
       "    .dataframe thead th {\n",
       "        text-align: right;\n",
       "    }\n",
       "</style>\n",
       "<table border=\"1\" class=\"dataframe\">\n",
       "  <thead>\n",
       "    <tr style=\"text-align: right;\">\n",
       "      <th></th>\n",
       "      <th></th>\n",
       "      <th>H2</th>\n",
       "      <th>CO</th>\n",
       "      <th>C2H4</th>\n",
       "      <th>C2H2</th>\n",
       "    </tr>\n",
       "    <tr>\n",
       "      <th>id</th>\n",
       "      <th>time point</th>\n",
       "      <th></th>\n",
       "      <th></th>\n",
       "      <th></th>\n",
       "      <th></th>\n",
       "    </tr>\n",
       "  </thead>\n",
       "  <tbody>\n",
       "    <tr>\n",
       "      <th rowspan=\"2\" valign=\"top\">2_trans_497.csv</th>\n",
       "      <th>0</th>\n",
       "      <td>0.001202</td>\n",
       "      <td>0.029565</td>\n",
       "      <td>0.001069</td>\n",
       "      <td>0.000251</td>\n",
       "    </tr>\n",
       "    <tr>\n",
       "      <th>1</th>\n",
       "      <td>0.001202</td>\n",
       "      <td>0.029563</td>\n",
       "      <td>0.001068</td>\n",
       "      <td>0.000251</td>\n",
       "    </tr>\n",
       "  </tbody>\n",
       "</table>\n",
       "</div>"
      ],
      "text/plain": [
       "                                  H2        CO      C2H4      C2H2\n",
       "id              time point                                        \n",
       "2_trans_497.csv 0           0.001202  0.029565  0.001069  0.000251\n",
       "                1           0.001202  0.029563  0.001068  0.000251"
      ]
     },
     "execution_count": 5,
     "metadata": {},
     "output_type": "execute_result"
    }
   ],
   "source": [
    "dataset.frame[0].head(2)"
   ]
  },
  {
   "cell_type": "markdown",
   "id": "377486c0-8234-4ef6-a74d-115cb931a7f1",
   "metadata": {},
   "source": [
    "X_test:"
   ]
  },
  {
   "cell_type": "code",
   "execution_count": 6,
   "id": "89cbda26-b885-4b67-af8b-826f8514d01c",
   "metadata": {},
   "outputs": [
    {
     "data": {
      "text/html": [
       "<div>\n",
       "<style scoped>\n",
       "    .dataframe tbody tr th:only-of-type {\n",
       "        vertical-align: middle;\n",
       "    }\n",
       "\n",
       "    .dataframe tbody tr th {\n",
       "        vertical-align: top;\n",
       "    }\n",
       "\n",
       "    .dataframe thead th {\n",
       "        text-align: right;\n",
       "    }\n",
       "</style>\n",
       "<table border=\"1\" class=\"dataframe\">\n",
       "  <thead>\n",
       "    <tr style=\"text-align: right;\">\n",
       "      <th></th>\n",
       "      <th></th>\n",
       "      <th>H2</th>\n",
       "      <th>CO</th>\n",
       "      <th>C2H4</th>\n",
       "      <th>C2H2</th>\n",
       "    </tr>\n",
       "    <tr>\n",
       "      <th>id</th>\n",
       "      <th>time point</th>\n",
       "      <th></th>\n",
       "      <th></th>\n",
       "      <th></th>\n",
       "      <th></th>\n",
       "    </tr>\n",
       "  </thead>\n",
       "  <tbody>\n",
       "    <tr>\n",
       "      <th rowspan=\"2\" valign=\"top\">2_trans_1853.csv</th>\n",
       "      <th>0</th>\n",
       "      <td>0.001664</td>\n",
       "      <td>0.026699</td>\n",
       "      <td>0.003253</td>\n",
       "      <td>0.000104</td>\n",
       "    </tr>\n",
       "    <tr>\n",
       "      <th>1</th>\n",
       "      <td>0.001664</td>\n",
       "      <td>0.026705</td>\n",
       "      <td>0.003253</td>\n",
       "      <td>0.000104</td>\n",
       "    </tr>\n",
       "  </tbody>\n",
       "</table>\n",
       "</div>"
      ],
      "text/plain": [
       "                                   H2        CO      C2H4      C2H2\n",
       "id               time point                                        \n",
       "2_trans_1853.csv 0           0.001664  0.026699  0.003253  0.000104\n",
       "                 1           0.001664  0.026705  0.003253  0.000104"
      ]
     },
     "execution_count": 6,
     "metadata": {},
     "output_type": "execute_result"
    }
   ],
   "source": [
    "dataset.frame[1].head(2)"
   ]
  },
  {
   "cell_type": "markdown",
   "id": "3ae5b919-0d53-4ec7-84e2-64dfe47b242a",
   "metadata": {},
   "source": [
    "y_train:"
   ]
  },
  {
   "cell_type": "code",
   "execution_count": 7,
   "id": "c3916945-6d9f-4538-be7e-2b1c588b3545",
   "metadata": {},
   "outputs": [
    {
     "data": {
      "text/html": [
       "<div>\n",
       "<style scoped>\n",
       "    .dataframe tbody tr th:only-of-type {\n",
       "        vertical-align: middle;\n",
       "    }\n",
       "\n",
       "    .dataframe tbody tr th {\n",
       "        vertical-align: top;\n",
       "    }\n",
       "\n",
       "    .dataframe thead th {\n",
       "        text-align: right;\n",
       "    }\n",
       "</style>\n",
       "<table border=\"1\" class=\"dataframe\">\n",
       "  <thead>\n",
       "    <tr style=\"text-align: right;\">\n",
       "      <th></th>\n",
       "      <th>predicted</th>\n",
       "    </tr>\n",
       "    <tr>\n",
       "      <th>id</th>\n",
       "      <th></th>\n",
       "    </tr>\n",
       "  </thead>\n",
       "  <tbody>\n",
       "    <tr>\n",
       "      <th>2_trans_497.csv</th>\n",
       "      <td>550</td>\n",
       "    </tr>\n",
       "    <tr>\n",
       "      <th>2_trans_483.csv</th>\n",
       "      <td>1093</td>\n",
       "    </tr>\n",
       "  </tbody>\n",
       "</table>\n",
       "</div>"
      ],
      "text/plain": [
       "                 predicted\n",
       "id                        \n",
       "2_trans_497.csv        550\n",
       "2_trans_483.csv       1093"
      ]
     },
     "execution_count": 7,
     "metadata": {},
     "output_type": "execute_result"
    }
   ],
   "source": [
    "dataset.frame[2].head(2)"
   ]
  },
  {
   "cell_type": "markdown",
   "id": "d8efe50b-525e-4691-a1aa-1e5adbcf5f68",
   "metadata": {},
   "source": [
    "y_test:"
   ]
  },
  {
   "cell_type": "code",
   "execution_count": 8,
   "id": "8dfa410d-5734-41c9-b4c8-6ea3b269ae9a",
   "metadata": {},
   "outputs": [
    {
     "data": {
      "text/html": [
       "<div>\n",
       "<style scoped>\n",
       "    .dataframe tbody tr th:only-of-type {\n",
       "        vertical-align: middle;\n",
       "    }\n",
       "\n",
       "    .dataframe tbody tr th {\n",
       "        vertical-align: top;\n",
       "    }\n",
       "\n",
       "    .dataframe thead th {\n",
       "        text-align: right;\n",
       "    }\n",
       "</style>\n",
       "<table border=\"1\" class=\"dataframe\">\n",
       "  <thead>\n",
       "    <tr style=\"text-align: right;\">\n",
       "      <th></th>\n",
       "      <th>predicted</th>\n",
       "    </tr>\n",
       "    <tr>\n",
       "      <th>id</th>\n",
       "      <th></th>\n",
       "    </tr>\n",
       "  </thead>\n",
       "  <tbody>\n",
       "    <tr>\n",
       "      <th>2_trans_1853.csv</th>\n",
       "      <td>693</td>\n",
       "    </tr>\n",
       "    <tr>\n",
       "      <th>2_trans_1106.csv</th>\n",
       "      <td>1093</td>\n",
       "    </tr>\n",
       "  </tbody>\n",
       "</table>\n",
       "</div>"
      ],
      "text/plain": [
       "                  predicted\n",
       "id                         \n",
       "2_trans_1853.csv        693\n",
       "2_trans_1106.csv       1093"
      ]
     },
     "execution_count": 8,
     "metadata": {},
     "output_type": "execute_result"
    }
   ],
   "source": [
    "dataset.frame[3].head(2)"
   ]
  },
  {
   "cell_type": "code",
   "execution_count": null,
   "id": "c80db8f1-fb32-44e6-b263-7066370d51d6",
   "metadata": {},
   "outputs": [],
   "source": []
  }
 ],
 "metadata": {
  "kernelspec": {
   "display_name": "Python 3 (ipykernel)",
   "language": "python",
   "name": "python3"
  },
  "language_info": {
   "codemirror_mode": {
    "name": "ipython",
    "version": 3
   },
   "file_extension": ".py",
   "mimetype": "text/x-python",
   "name": "python",
   "nbconvert_exporter": "python",
   "pygments_lexer": "ipython3",
   "version": "3.10.0"
  },
  "toc": {
   "base_numbering": 1,
   "nav_menu": {},
   "number_sections": true,
   "sideBar": true,
   "skip_h1_title": false,
   "title_cell": "Table of Contents",
   "title_sidebar": "Contents",
   "toc_cell": false,
   "toc_position": {},
   "toc_section_display": true,
   "toc_window_display": false
  },
  "toc-autonumbering": true
 },
 "nbformat": 4,
 "nbformat_minor": 5
}
