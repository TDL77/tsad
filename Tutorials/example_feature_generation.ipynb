{
 "cells": [
  {
   "cell_type": "code",
   "execution_count": 1,
   "id": "51f93df5-c1e4-490e-b62d-4c4996b2d63b",
   "metadata": {},
   "outputs": [],
   "source": [
    "# %load_ext autoreload\n",
    "# %autoreload 2"
   ]
  },
  {
   "cell_type": "code",
   "execution_count": 2,
   "id": "34316f87-18ae-45b1-b716-0ebeb8bb814f",
   "metadata": {},
   "outputs": [],
   "source": [
    "import pandas as pd\n",
    "import numpy as np\n",
    "import pandas as pd\n",
    "import scipy.stats as ss"
   ]
  },
  {
   "cell_type": "code",
   "execution_count": 3,
   "id": "b0d549ab-d4be-45ed-94d2-76305a4851cf",
   "metadata": {},
   "outputs": [],
   "source": [
    "import warnings\n",
    "warnings.filterwarnings('ignore')\n",
    "warnings.simplefilter('ignore')\n",
    "warnings.simplefilter('ignore', np.RankWarning)\n",
    "\n",
    "import logging, sys\n",
    "logging.disable(sys.maxsize)"
   ]
  },
  {
   "cell_type": "code",
   "execution_count": 4,
   "id": "b66c55c5-cf0e-458c-9756-e63124db88bb",
   "metadata": {},
   "outputs": [],
   "source": [
    "try: \n",
    "    from tsad.base.pipeline import Pipeline\n",
    "    from tsad.base.datasets import load_skab\n",
    "    from tsad.tasks.eda import HighLevelDatasetAnalysisTask, TimeDiscretizationTask\n",
    "    # from tsad.tasks.preprocess import FeatureProcessingTask, SplitByNaNTask, TrainTestSplitTask\n",
    "    from tsad.tasks.feature_generation import FeatureGenerationTask\n",
    "except:\n",
    "    import sys\n",
    "    sys.path.append('../')\n",
    "    from tsad.base.pipeline import Pipeline\n",
    "    from tsad.base.datasets import load_skab\n",
    "    from tsad.tasks.eda import HighLevelDatasetAnalysisTask, TimeDiscretizationTask\n",
    "    # from tsad.tasks.preprocess import FeatureProcessingTask, SplitByNaNTask, TrainTestSplitTask\n",
    "    from tsad.tasks.feature_generation import FeatureGenerationTask\n",
    "\n",
    "\n"
   ]
  },
  {
   "cell_type": "markdown",
   "id": "01a0f7fd-f369-4bfe-be36-50133a37596c",
   "metadata": {},
   "source": [
    "# Load Data"
   ]
  },
  {
   "cell_type": "code",
   "execution_count": 5,
   "id": "8e208896-f3c2-47e1-9ce3-92049bac5dce",
   "metadata": {},
   "outputs": [
    {
     "data": {
      "text/plain": [
       "(1154, 10)"
      ]
     },
     "execution_count": 5,
     "metadata": {},
     "output_type": "execute_result"
    }
   ],
   "source": [
    "dataset = load_skab()\n",
    "df = dataset.frame\n",
    "df = df.reset_index(level=[0])\n",
    "df = df[df['experiment']=='valve1/6']\n",
    "df = df.drop(columns='experiment')\n",
    "df.shape"
   ]
  },
  {
   "cell_type": "code",
   "execution_count": 6,
   "id": "4ccf78d8-c81b-4920-b870-59ed8348b405",
   "metadata": {},
   "outputs": [
    {
     "data": {
      "text/plain": [
       "(121, 10)"
      ]
     },
     "execution_count": 6,
     "metadata": {},
     "output_type": "execute_result"
    }
   ],
   "source": [
    "#TODO use task in pipeline to resample dataframe\n",
    "df = df.resample('10s').mean().ffill()\n",
    "df.shape"
   ]
  },
  {
   "cell_type": "markdown",
   "id": "4f1fbaf6-314e-4819-9ef9-82fd1821c2ba",
   "metadata": {},
   "source": [
    "# Feature generation pipeline"
   ]
  },
  {
   "cell_type": "markdown",
   "id": "87f84c5d-ea4d-44c0-b333-f8146519ca0a",
   "metadata": {},
   "source": [
    "The `FeatureGenerationTask` class is a key component of a time series feature engineering pipeline. It is responsible for generating features from time series data according to a user-defined or default configuration."
   ]
  },
  {
   "cell_type": "markdown",
   "id": "d6e7457e-9701-43db-9ee3-ff07666f475a",
   "metadata": {},
   "source": [
    "## Default configuration"
   ]
  },
  {
   "cell_type": "code",
   "execution_count": 7,
   "id": "35d422f3-9674-4a44-93ce-a442f17d8835",
   "metadata": {},
   "outputs": [],
   "source": [
    "features = dataset.feature_names\n",
    "target = dataset.target_names[0]"
   ]
  },
  {
   "cell_type": "markdown",
   "id": "3d31c8c0-1699-4e87-a57b-ed9944b0cd34",
   "metadata": {},
   "source": [
    "__Default feature generation functions__:\n",
    "\n",
    "By default, this method uses the [EfficientFCParameters](https://tsfresh.readthedocs.io/en/latest/api/tsfresh.feature_extraction.html#tsfresh.feature_extraction.settings.EfficientFCParameters) function for feature generation, which provides most common optimized set of feature extraction functions.\n",
    "\n",
    "\n",
    "__Default Windows__:\n",
    "\n",
    "The default window sizes for feature generation are determined based on the index frequency of the input DataFrame (_freq_df_). The following window sizes are used:\n",
    "\n",
    "- Window 1: 4 times the frequency of the DataFrame (4 * _freq_df_)\n",
    "- Window 2: 10 times the frequency of the DataFrame (10 * _freq_df_)\n",
    "\n",
    "These window sizes are selected to capture a range of temporal patterns in the time series data."
   ]
  },
  {
   "cell_type": "code",
   "execution_count": 8,
   "id": "f51ba561-a63d-4731-ba42-5d14b0de3c25",
   "metadata": {},
   "outputs": [
    {
     "data": {
      "text/plain": [
       "'Total features generated: 11088'"
      ]
     },
     "metadata": {},
     "output_type": "display_data"
    }
   ],
   "source": [
    "inference_pipeline = Pipeline([\n",
    "    FeatureGenerationTask(features=features, config=None),\n",
    "], show=True)\n",
    "df_fit = inference_pipeline.fit(df)"
   ]
  },
  {
   "cell_type": "code",
   "execution_count": 9,
   "id": "a00587a1-a930-4c34-8d36-a26971c67fc5",
   "metadata": {},
   "outputs": [
    {
     "data": {
      "text/plain": [
       "'Total features generated: 11088'"
      ]
     },
     "metadata": {},
     "output_type": "display_data"
    }
   ],
   "source": [
    "df_predict = inference_pipeline.predict(df)"
   ]
  },
  {
   "cell_type": "code",
   "execution_count": null,
   "id": "41a5cdeb-726a-4db3-a5d0-6fa2df605ee1",
   "metadata": {},
   "outputs": [],
   "source": []
  },
  {
   "cell_type": "markdown",
   "id": "d61c94f8-c1ca-41e5-babd-cbc156d087f7",
   "metadata": {},
   "source": [
    "## Custom configuration"
   ]
  },
  {
   "cell_type": "markdown",
   "id": "decbab62-f758-434f-9626-2d18f05a13b7",
   "metadata": {},
   "source": [
    "When performing feature generation on time series data, you have the flexibility to define a custom configuration tailored to your specific needs. This custom configuration allows you to select a set of feature extraction functions, specify the series (columns) to which these functions will be applied, and define the windows for calculating these features."
   ]
  },
  {
   "cell_type": "markdown",
   "id": "f6571a02-0972-4555-88e5-f4ee5cca8e8d",
   "metadata": {},
   "source": [
    "### Custom Configuration Example"
   ]
  },
  {
   "cell_type": "code",
   "execution_count": 10,
   "id": "d7d4438b-3092-4e85-8a16-aba9545ff341",
   "metadata": {},
   "outputs": [],
   "source": [
    "import scipy.stats as ss\n",
    "\n",
    "from tsflex.chunking import chunk_data\n",
    "from tsflex.features import FeatureCollection, MultipleFeatureDescriptors, FuncWrapper\n",
    "from tsflex.features.utils import make_robust\n",
    "\n",
    "def slope(x): return (x[-1] - x[0]) / x[0] if x[0] else 0\n",
    "def abs_diff_mean(x): return np.mean(np.abs(x[1:] - x[:-1])) if len(x) > 1 else 0\n",
    "def diff_std(x): return np.std(x[1:] - x[:-1]) if len(x) > 1 else 0\n",
    "\n",
    "funcs = [make_robust(f) for f in [np.min, np.max, np.std, np.mean, slope, ss.skew, abs_diff_mean, diff_std, sum, len,]]\n",
    "\n",
    "custom_config = [\n",
    "    {\"functions\": funcs,\n",
    "     'series_names': ['Pressure', 'Temperature'],\n",
    "     \"windows\": [\"1s\", \"60s\"],\n",
    "    }\n",
    "]"
   ]
  },
  {
   "cell_type": "markdown",
   "id": "fab0fec6-b573-4650-ad12-6a948696ef2f",
   "metadata": {},
   "source": [
    "- `functions`: This is a list of feature extraction functions that will be applied to the selected series. These functions are defined in the `funcs` list, which includes functions like minimum, maximum, standard deviation, mean, slope, skewness, and more. You can customize this list to include the specific functions that are relevant to your analysis.\n",
    "\n",
    "- `series_names`: This is a list of column names in your DataFrame to which the feature extraction functions will be applied. In this example, the functions will be applied to the `Pressure` and `Temperature` series. You can modify this list to include the names of the series you want to analyze.\n",
    "\n",
    "- `windows`: This is a list of window sizes for feature calculation. In this example, two window sizes are specified: \"1s\" (1 second) and \"60s\" (60 seconds). These window sizes determine how the time series data will be segmented for feature extraction. Adjust these window sizes based on your analysis requirements."
   ]
  },
  {
   "cell_type": "markdown",
   "id": "a978f6c8-e0cc-4edb-85e4-02cc118d2168",
   "metadata": {},
   "source": [
    "### Feature Extraction Functions\n",
    "\n",
    "Feature Extraction functions compute various statistical, temporal, spectral, and other characteristics of time series data. In your feature generation task, you can use a variety of feature extraction functions from libraries like tsfresh, tsfel, numpy, scipy, or even custom functions. \n"
   ]
  },
  {
   "cell_type": "markdown",
   "id": "2ffd87ca-1227-4c0f-bca2-b9bbba08ea36",
   "metadata": {},
   "source": [
    "__Feature Extraction Categories__:\n",
    "\n",
    "1. _Statistical Features_:\n",
    "These features capture statistical properties of the time series data.\n",
    "Common statistical features include mean, median, standard deviation, skewness, kurtosis, variance, and more.\n",
    "Example: `np.mean`, `tsfresh.feature_extraction.feature_calculators.median`\n",
    "\n",
    "2. _Temporal Features_:\n",
    "Temporal features describe patterns over time within the time series.\n",
    "Examples include autocorrelation, mean absolute difference, mean difference, distance, absolute energy, and more.\n",
    "Example: `tsfresh.feature_extraction.features.autocorr`, `tsfel.features.mean_abs_diff`\n",
    "\n",
    "\n",
    "3. _Spectral Features_:\n",
    "Spectral features provide insights into the frequency domain characteristics of the time series.\n",
    "These features include wavelet entropy, spectral entropy, power spectral density, and more.\n",
    "Example: `tsfresh.feature_extraction.features.wavelet_entropy`, `tsfel.features.spectral_entropy`\n",
    "\n",
    "4. _Custom Functions_:\n",
    "You can define custom feature extraction functions tailored to your specific analysis requirements.\n",
    "These functions can capture domain-specific insights or unique patterns in the data.\n",
    "Example: Custom functions like `slope(x)`, `abs_diff_mean(x)`, and `diff_std(x)` defined in code.\n",
    "\n",
    "5. _External Libraries_:\n",
    "You can leverage external libraries like tsfresh and tsfel for a wide range of pre-defined feature extraction functions.\n",
    "These libraries offer functions for calculating advanced features such as entropy, time-domain, and frequency-domain features.\n",
    "Example: `tsfresh.feature_extraction.features.entropy`, `tsfel.features.abs_energy`"
   ]
  },
  {
   "cell_type": "code",
   "execution_count": 11,
   "id": "04bddb74-aad3-457b-a206-ddb079e7bf9f",
   "metadata": {},
   "outputs": [],
   "source": [
    "# tsfel\n",
    "from tsfel.feature_extraction.features import (\n",
    "    # Some temporal features\n",
    "    autocorr, mean_abs_diff, mean_diff, distance, zero_cross,\n",
    "    abs_energy, pk_pk_distance, entropy, neighbourhood_peaks,\n",
    "    # Some statistical features\n",
    "    interq_range, kurtosis, skewness, calc_max, calc_median, \n",
    "    median_abs_deviation, rms, \n",
    "    # Some spectral features\n",
    "    #  -> Almost all are \"advanced\" features\n",
    "    wavelet_entropy\n",
    ")\n",
    "\n",
    "tsfel_funcs = [\n",
    "    # Temporal\n",
    "    autocorr, mean_abs_diff, mean_diff, distance,\n",
    "    abs_energy, pk_pk_distance, neighbourhood_peaks,\n",
    "    FuncWrapper(entropy, prob=\"kde\", output_names=\"entropy_kde\"),\n",
    "    FuncWrapper(entropy, prob=\"gauss\", output_names=\"entropy_gauss\"),\n",
    "    # # Statistical\n",
    "    interq_range, kurtosis, skewness, calc_max, calc_median, \n",
    "    median_abs_deviation, rms,\n",
    "    # Spectral\n",
    "    wavelet_entropy,  \n",
    "]\n",
    "\n",
    "# tsfresh\n",
    "from tsfresh.feature_extraction.feature_calculators import (\n",
    "    cid_ce,\n",
    "    variance_larger_than_standard_deviation,\n",
    ")\n",
    "\n",
    "tsfresh_funcs=[\n",
    "        variance_larger_than_standard_deviation,\n",
    "        FuncWrapper(cid_ce, normalize=True),\n",
    "    ]"
   ]
  },
  {
   "cell_type": "markdown",
   "id": "2b7a6414-c4d9-4de0-ae2d-d39b2c576177",
   "metadata": {},
   "source": [
    "__Choosing Feature Extraction Functions__\n",
    "\n",
    "When choosing feature extraction functions for your analysis, consider the following factors:\n",
    "\n",
    "- Relevance: Select functions that are relevant to your analysis goals. For instance, if you're interested in detecting periodicity, consider using autocorrelation or spectral features.\n",
    "\n",
    "- Computational Efficiency: Consider the computational cost of the functions, especially when dealing with large datasets. Some functions may be computationally expensive.\n",
    "  \n",
    "- Domain Knowledge: Leverage your domain knowledge to identify features that have interpretability and meaning in your specific domain.\n",
    "  \n",
    "- Customization: Don't hesitate to define custom functions if the standard functions do not capture the patterns you're interested in."
   ]
  },
  {
   "cell_type": "markdown",
   "id": "ea33a02c-ab26-4cb3-afa0-cebbf1ff4b70",
   "metadata": {},
   "source": [
    "### Applying Custom Configuration"
   ]
  },
  {
   "cell_type": "markdown",
   "id": "7ba16755-21cd-426a-9fbe-b60beacb843d",
   "metadata": {},
   "source": [
    "To apply the custom configuration for feature generation, you can use the FeatureGenerationTask class. Here's an example of how to use it:"
   ]
  },
  {
   "cell_type": "code",
   "execution_count": 12,
   "id": "36e0f4b1-a936-4fc2-9fdc-32e042d4e84f",
   "metadata": {},
   "outputs": [
    {
     "data": {
      "text/plain": [
       "'Total features generated: 184'"
      ]
     },
     "metadata": {},
     "output_type": "display_data"
    }
   ],
   "source": [
    "# Define your custom configuration\n",
    "custom_config = [\n",
    "    {\"functions\": funcs,\n",
    "     'series_names': ['Pressure', 'Temperature'],\n",
    "     \"windows\": [\"1s\", \"60s\"],\n",
    "    },\n",
    "    {\"functions\": tsfel_funcs,\n",
    "     'series_names': ['Pressure', 'Temperature', 'Thermocouple', 'Voltage'],\n",
    "     \"windows\": [\"30s\", \"60s\"],\n",
    "    },\n",
    "    {\"functions\": tsfresh_funcs,\n",
    "     'series_names': ['Pressure', 'Temperature'],\n",
    "     \"windows\": [\"15s\", \"60s\"],\n",
    "    },\n",
    "]\n",
    "\n",
    "# Create a FeatureGenerationTask with your custom configuration\n",
    "inference_pipeline = Pipeline([\n",
    "    FeatureGenerationTask(features=features, config=custom_config),\n",
    "], show=True)\n",
    "\n",
    "# Fit the pipeline to your DataFrame\n",
    "df_fit = inference_pipeline.fit(df)"
   ]
  },
  {
   "cell_type": "code",
   "execution_count": 13,
   "id": "5bb92d7a-6d91-42ae-b1dc-1b87346a6e8a",
   "metadata": {},
   "outputs": [
    {
     "data": {
      "text/plain": [
       "Index(['Accelerometer1RMS', 'Accelerometer2RMS', 'Current', 'Pressure',\n",
       "       'Temperature', 'Thermocouple', 'Voltage', 'Volume Flow RateRMS',\n",
       "       'anomaly', 'changepoint',\n",
       "       ...\n",
       "       'Voltage__neighbourhood_peaks__w=1m',\n",
       "       'Voltage__neighbourhood_peaks__w=30s', 'Voltage__pk_pk_distance__w=1m',\n",
       "       'Voltage__pk_pk_distance__w=30s', 'Voltage__rms__w=1m',\n",
       "       'Voltage__rms__w=30s', 'Voltage__skewness__w=1m',\n",
       "       'Voltage__skewness__w=30s', 'Voltage__wavelet_entropy__w=1m',\n",
       "       'Voltage__wavelet_entropy__w=30s'],\n",
       "      dtype='object', length=194)"
      ]
     },
     "execution_count": 13,
     "metadata": {},
     "output_type": "execute_result"
    }
   ],
   "source": [
    "df_fit.columns"
   ]
  },
  {
   "cell_type": "code",
   "execution_count": null,
   "id": "e076f6fe-be2c-4ed3-8630-c17a0b50c211",
   "metadata": {},
   "outputs": [],
   "source": []
  }
 ],
 "metadata": {
  "kernelspec": {
   "display_name": "tsad10",
   "language": "python",
   "name": "tsad10"
  },
  "language_info": {
   "codemirror_mode": {
    "name": "ipython",
    "version": 3
   },
   "file_extension": ".py",
   "mimetype": "text/x-python",
   "name": "python",
   "nbconvert_exporter": "python",
   "pygments_lexer": "ipython3",
   "version": "3.10.13"
  }
 },
 "nbformat": 4,
 "nbformat_minor": 5
}
