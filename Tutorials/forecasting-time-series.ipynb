{
 "cells": [
  {
   "cell_type": "markdown",
   "id": "33afed40",
   "metadata": {},
   "source": [
    "# Importing packages & modules"
   ]
  },
  {
   "cell_type": "code",
   "execution_count": 1,
   "id": "eb118206-a660-413a-9185-cbd9da3be522",
   "metadata": {},
   "outputs": [],
   "source": [
    "import sys\n",
    "import pandas as pd\n",
    "import numpy as np\n",
    "from sklearn.preprocessing import StandardScaler\n",
    "\n",
    "# Add parent directory to sys.path to import tsad modules\n",
    "sys.path.insert(1, '../')\n",
    "\n",
    "# Import custom modules\n",
    "from tsad.base.pipeline import Pipeline\n",
    "\n",
    "# Import tsad tasks for pipeline\n",
    "from tsad.tasks.eda import HighLevelDatasetAnalysisTask, TimeDiscretizationTask\n",
    "from tsad.tasks.eda import FindNaNTask, EquipmentDowntimeTask\n",
    "from tsad.tasks.preprocess import ResampleProcessingTask\n",
    "from tsad.tasks.preprocess import SplitByNaNTask, PrepareSeqSamplesTask\n",
    "from tsad.tasks.deep_learning_forecasting import DeepLeaningTimeSeriesForecastingTask\n",
    "\n",
    "# Creating tsad StandardScaler task (need for pipeline) by using tsad Sklearn Wrapper\n",
    "from tsad.base.wrappers import SklearnWrapper\n",
    "StandardScalerTask = SklearnWrapper(StandardScaler)"
   ]
  },
  {
   "cell_type": "markdown",
   "id": "31daf9ce",
   "metadata": {},
   "source": [
    "# Data loading"
   ]
  },
  {
   "cell_type": "code",
   "execution_count": 2,
   "id": "8495097d-dd90-45d7-b4b6-fdd8c2747596",
   "metadata": {},
   "outputs": [],
   "source": [
    "# # Import function for loading the dataset\n",
    "from tsad.base.datasets import load_skab\n",
    "\n",
    "# Load the skab dataset in memory\n",
    "dataset = load_skab()\n",
    "\n",
    "# Get the feature and target names from the dataset\n",
    "columns = dataset.feature_names\n",
    "targets = dataset.target_names\n",
    "\n",
    "# Get the dataframe from the dataset\n",
    "df = dataset.frame"
   ]
  },
  {
   "cell_type": "code",
   "execution_count": 3,
   "id": "20f9e381",
   "metadata": {},
   "outputs": [
    {
     "data": {
      "text/plain": [
       "Index(['air/0', 'air/1', 'fluid/0', 'fluid/1', 'fluid/2', 'fluid/3', 'fluid/4',\n",
       "       'fluid/5', 'rotor/0', 'rotor/1', 'rotor/2', 'rotor/3', 'rotor/4',\n",
       "       'temperature/0', 'valve1/0', 'valve1/1', 'valve1/10', 'valve1/11',\n",
       "       'valve1/12', 'valve1/13', 'valve1/14', 'valve1/15', 'valve1/2',\n",
       "       'valve1/3', 'valve1/4', 'valve1/5', 'valve1/6', 'valve1/7', 'valve1/8',\n",
       "       'valve1/9', 'valve2/0', 'valve2/1', 'valve2/2', 'valve2/3'],\n",
       "      dtype='object', name='experiment')"
      ]
     },
     "execution_count": 3,
     "metadata": {},
     "output_type": "execute_result"
    }
   ],
   "source": [
    "# Get the 0 level of the index of the dataframe\n",
    "df.index.levels[0]"
   ]
  },
  {
   "cell_type": "markdown",
   "id": "9cc47cf7",
   "metadata": {},
   "source": [
    "# Train Test Split"
   ]
  },
  {
   "cell_type": "code",
   "execution_count": 4,
   "id": "752af2fd",
   "metadata": {},
   "outputs": [],
   "source": [
    "# Split the dataset into train and test sets (and we need \n",
    "# to remove the labeling of the dataset for anomaly detection)\n",
    "test_datasets = ['valve1/0', 'valve2/0', 'fluid/0']\n",
    "train_raw = df.drop(test_datasets,level=0).droplevel(level=0).drop(columns=targets)\n",
    "test_raw = df.loc[test_datasets].droplevel(level=0).drop(columns=targets)"
   ]
  },
  {
   "cell_type": "code",
   "execution_count": 5,
   "id": "d5967203",
   "metadata": {},
   "outputs": [
    {
     "data": {
      "text/html": [
       "<div>\n",
       "<style scoped>\n",
       "    .dataframe tbody tr th:only-of-type {\n",
       "        vertical-align: middle;\n",
       "    }\n",
       "\n",
       "    .dataframe tbody tr th {\n",
       "        vertical-align: top;\n",
       "    }\n",
       "\n",
       "    .dataframe thead th {\n",
       "        text-align: right;\n",
       "    }\n",
       "</style>\n",
       "<table border=\"1\" class=\"dataframe\">\n",
       "  <thead>\n",
       "    <tr style=\"text-align: right;\">\n",
       "      <th></th>\n",
       "      <th>Accelerometer1RMS</th>\n",
       "      <th>Accelerometer2RMS</th>\n",
       "      <th>Current</th>\n",
       "      <th>Pressure</th>\n",
       "      <th>Temperature</th>\n",
       "      <th>Thermocouple</th>\n",
       "      <th>Voltage</th>\n",
       "      <th>Volume Flow RateRMS</th>\n",
       "    </tr>\n",
       "    <tr>\n",
       "      <th>datetime</th>\n",
       "      <th></th>\n",
       "      <th></th>\n",
       "      <th></th>\n",
       "      <th></th>\n",
       "      <th></th>\n",
       "      <th></th>\n",
       "      <th></th>\n",
       "      <th></th>\n",
       "    </tr>\n",
       "  </thead>\n",
       "  <tbody>\n",
       "    <tr>\n",
       "      <th>2020-03-09 12:14:36</th>\n",
       "      <td>0.027429</td>\n",
       "      <td>0.040353</td>\n",
       "      <td>0.77031</td>\n",
       "      <td>0.382638</td>\n",
       "      <td>71.2129</td>\n",
       "      <td>25.0827</td>\n",
       "      <td>219.789</td>\n",
       "      <td>32.0000</td>\n",
       "    </tr>\n",
       "    <tr>\n",
       "      <th>2020-03-09 12:14:37</th>\n",
       "      <td>0.027269</td>\n",
       "      <td>0.040226</td>\n",
       "      <td>1.09696</td>\n",
       "      <td>0.710565</td>\n",
       "      <td>71.4284</td>\n",
       "      <td>25.0863</td>\n",
       "      <td>233.117</td>\n",
       "      <td>32.0104</td>\n",
       "    </tr>\n",
       "    <tr>\n",
       "      <th>2020-03-09 12:14:38</th>\n",
       "      <td>0.027040</td>\n",
       "      <td>0.039773</td>\n",
       "      <td>1.14015</td>\n",
       "      <td>0.054711</td>\n",
       "      <td>71.3468</td>\n",
       "      <td>25.0874</td>\n",
       "      <td>234.745</td>\n",
       "      <td>32.0000</td>\n",
       "    </tr>\n",
       "  </tbody>\n",
       "</table>\n",
       "</div>"
      ],
      "text/plain": [
       "                     Accelerometer1RMS  Accelerometer2RMS  Current  Pressure  \\\n",
       "datetime                                                                       \n",
       "2020-03-09 12:14:36           0.027429           0.040353  0.77031  0.382638   \n",
       "2020-03-09 12:14:37           0.027269           0.040226  1.09696  0.710565   \n",
       "2020-03-09 12:14:38           0.027040           0.039773  1.14015  0.054711   \n",
       "\n",
       "                     Temperature  Thermocouple  Voltage  Volume Flow RateRMS  \n",
       "datetime                                                                      \n",
       "2020-03-09 12:14:36      71.2129       25.0827  219.789              32.0000  \n",
       "2020-03-09 12:14:37      71.4284       25.0863  233.117              32.0104  \n",
       "2020-03-09 12:14:38      71.3468       25.0874  234.745              32.0000  "
      ]
     },
     "execution_count": 5,
     "metadata": {},
     "output_type": "execute_result"
    }
   ],
   "source": [
    "train_raw.head(3)"
   ]
  },
  {
   "cell_type": "markdown",
   "id": "c14257b1",
   "metadata": {},
   "source": [
    "# Making and fit pipeline"
   ]
  },
  {
   "cell_type": "markdown",
   "id": "3fbff8b0",
   "metadata": {},
   "source": [
    "## Hello world case"
   ]
  },
  {
   "cell_type": "code",
   "execution_count": 6,
   "id": "516e54e5",
   "metadata": {},
   "outputs": [
    {
     "data": {
      "image/png": "[encoded data removed]",
      "text/plain": [
       "<Figure size 640x480 with 1 Axes>"
      ]
     },
     "metadata": {},
     "output_type": "display_data"
    },
    {
     "name": "stdout",
     "output_type": "stream",
     "text": [
      "Epoch: 02 \n",
      "\tTrain Loss: 0.956 \n",
      "\t Val. Loss: 0.798 \n",
      "\n",
      "Epoch: 01 \n",
      "\tTrain Loss: 1.037 \n",
      "\t Val. Loss: 0.990 \n",
      "\n",
      "\n",
      "After choosing the best model:\n",
      "Test Loss: 1.050\n"
     ]
    }
   ],
   "source": [
    "# Create a pipeline for multivariate time series deep learning forecasting with task set\n",
    "from tsad.pipelines import multivatiateTimeSeriesDeepLearningForecastingTaskSet\n",
    "simple_pipeline = Pipeline(multivatiateTimeSeriesDeepLearningForecastingTaskSet)\n",
    "\n",
    "# Fit the pipeline on the train set\n",
    "y_pred_train = simple_pipeline.fit(train_raw,n_epochs=2)"
   ]
  },
  {
   "cell_type": "markdown",
   "id": "e3e0f32a",
   "metadata": {},
   "source": [
    "## Advanced Case"
   ]
  },
  {
   "cell_type": "code",
   "execution_count": 7,
   "id": "cb5a0610",
   "metadata": {},
   "outputs": [],
   "source": [
    "# Import tsad deep learning regressors\n",
    "from tsad.utils.ml_models.deeplearning_regressors import MLP, SimpleLSTM, LSTM\n",
    "# Get the number of features in the train set for neural network layers settings\n",
    "k = train_raw.shape[1]"
   ]
  },
  {
   "cell_type": "code",
   "execution_count": 8,
   "id": "f1d089bb",
   "metadata": {},
   "outputs": [],
   "source": [
    "# For example we can create objects of deep learning regressors and\n",
    "# can choose one from the following models:\n",
    "classic_mlp = MLP([k,k,k,k])\n",
    "autoencoder = MLP([k,int(k/2),int(k/2),k])\n",
    "classic_lstm = SimpleLSTM(k,k)\n",
    "bidirect_lstm = SimpleLSTM(k,k,bidirectional=True)\n",
    "multilayerLSTM = LSTM(k,k)"
   ]
  },
  {
   "cell_type": "code",
   "execution_count": 24,
   "id": "4fa5e795",
   "metadata": {},
   "outputs": [
    {
     "data": {
      "image/png": "[encoded data removed]",
      "text/plain": [
       "<Figure size 640x480 with 1 Axes>"
      ]
     },
     "metadata": {},
     "output_type": "display_data"
    },
    {
     "name": "stdout",
     "output_type": "stream",
     "text": [
      "Epoch: 02 \n",
      "\tTrain Loss: 0.881 \n",
      "\t Val. Loss: 0.848 \n",
      "\n",
      "Epoch: 01 \n",
      "\tTrain Loss: 0.892 \n",
      "\t Val. Loss: 0.856 \n",
      "\n",
      "\n",
      "After choosing the best model:\n",
      "Test Loss: 0.892\n",
      "CPU times: total: 2.44 s\n",
      "Wall time: 2.43 s\n"
     ]
    }
   ],
   "source": [
    "%%time \n",
    "#Measure the time taken to execute the pipeline\n",
    "\n",
    "# We assemble a pipeline of imported tasks for multivariate time \n",
    "# series deep learning forecasting\n",
    "pipeline = Pipeline([\n",
    "    HighLevelDatasetAnalysisTask(),\n",
    "    TimeDiscretizationTask(freq_tobe_approach='custom',freq_tobe='1s'),\n",
    "    FindNaNTask(),\n",
    "    EquipmentDowntimeTask(),\n",
    "    ResampleProcessingTask(),\n",
    "    StandardScalerTask(),\n",
    "    SplitByNaNTask(),\n",
    "    PrepareSeqSamplesTask(len_seq=10,gap=10),\n",
    "    DeepLeaningTimeSeriesForecastingTask(),\n",
    "], show=False)\n",
    "# Fit the pipeline on the train set\n",
    "y_pred_train = pipeline.fit(train_raw,n_epochs=2,model=classic_lstm)"
   ]
  },
  {
   "cell_type": "markdown",
   "id": "d9c385d6",
   "metadata": {},
   "source": [
    "# Inference of pipeline"
   ]
  },
  {
   "cell_type": "code",
   "execution_count": 26,
   "id": "753a4389",
   "metadata": {
    "scrolled": false
   },
   "outputs": [
    {
     "name": "stdout",
     "output_type": "stream",
     "text": [
      "Skipped 125 datasets because the number of samples is too small in the dataset. (len_seq + points_ahead + gap -1 <= len(df))\n",
      "124\n"
     ]
    }
   ],
   "source": [
    "y_pred = pipeline.predict(test_raw)"
   ]
  },
  {
   "cell_type": "markdown",
   "id": "cd3f8d7c",
   "metadata": {},
   "source": [
    "# Getting y_true"
   ]
  },
  {
   "cell_type": "code",
   "execution_count": 28,
   "id": "cb2b77c6",
   "metadata": {},
   "outputs": [
    {
     "name": "stdout",
     "output_type": "stream",
     "text": [
      "Skipped 125 datasets because the number of samples is too small in the dataset. (len_seq + points_ahead + gap -1 <= len(df))\n"
     ]
    }
   ],
   "source": [
    "raw_pipeline = Pipeline([\n",
    "    HighLevelDatasetAnalysisTask(),\n",
    "    TimeDiscretizationTask(freq_tobe_approach='custom',freq_tobe='1s'),\n",
    "    FindNaNTask(),\n",
    "    EquipmentDowntimeTask(),\n",
    "    ResampleProcessingTask(),\n",
    "    StandardScalerTask(),\n",
    "    SplitByNaNTask(),\n",
    "    PrepareSeqSamplesTask(len_seq=10,gap=10, test_size=0,what_to_shuffle='nothing')])\n",
    "_, _, y_true, _ = raw_pipeline.fit(test_raw)"
   ]
  },
  {
   "cell_type": "markdown",
   "id": "8cc0b52d",
   "metadata": {},
   "source": [
    "# Comparing results"
   ]
  },
  {
   "cell_type": "code",
   "execution_count": 29,
   "id": "9fdee4e6",
   "metadata": {},
   "outputs": [],
   "source": [
    "from sklearn.metrics import mean_squared_error as rmse"
   ]
  },
  {
   "cell_type": "code",
   "execution_count": 30,
   "id": "ec8fc16b",
   "metadata": {},
   "outputs": [
    {
     "name": "stdout",
     "output_type": "stream",
     "text": [
      "0.9351780889905495\n"
     ]
    }
   ],
   "source": [
    "print(rmse(y_true=np.array(y_true).ravel(), y_pred=np.array(y_pred).ravel()))"
   ]
  },
  {
   "cell_type": "code",
   "execution_count": null,
   "id": "eeee2e97",
   "metadata": {},
   "outputs": [],
   "source": []
  }
 ],
 "metadata": {
  "kernelspec": {
   "display_name": "tsad",
   "language": "python",
   "name": "tsad"
  },
  "language_info": {
   "codemirror_mode": {
    "name": "ipython",
    "version": 3
   },
   "file_extension": ".py",
   "mimetype": "text/x-python",
   "name": "python",
   "nbconvert_exporter": "python",
   "pygments_lexer": "ipython3",
   "version": "3.10.11"
  },
  "toc": {
   "base_numbering": 1,
   "nav_menu": {},
   "number_sections": true,
   "sideBar": true,
   "skip_h1_title": false,
   "title_cell": "Table of Contents",
   "title_sidebar": "Contents",
   "toc_cell": false,
   "toc_position": {},
   "toc_section_display": true,
   "toc_window_display": false
  },
  "toc-autonumbering": true
 },
 "nbformat": 4,
 "nbformat_minor": 5
}
